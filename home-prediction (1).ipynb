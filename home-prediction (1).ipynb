{
 "cells": [
  {
   "cell_type": "code",
   "execution_count": 1,
   "metadata": {
    "_cell_guid": "b1076dfc-b9ad-4769-8c92-a6c4dae69d19",
    "_uuid": "8f2839f25d086af736a60e9eeb907d3b93b6e0e5",
    "execution": {
     "iopub.execute_input": "2021-04-02T05:43:37.913953Z",
     "iopub.status.busy": "2021-04-02T05:43:37.913255Z",
     "iopub.status.idle": "2021-04-02T05:43:37.928685Z",
     "shell.execute_reply": "2021-04-02T05:43:37.929498Z"
    },
    "papermill": {
     "duration": 0.17447,
     "end_time": "2021-04-02T05:43:37.929982",
     "exception": false,
     "start_time": "2021-04-02T05:43:37.755512",
     "status": "completed"
    },
    "tags": []
   },
   "outputs": [
    {
     "name": "stdout",
     "output_type": "stream",
     "text": [
      "/kaggle/input/home-loan-predictions/Test_Loan_Home.csv\n",
      "/kaggle/input/home-loan-predictions/Train_Loan_Home.csv\n"
     ]
    }
   ],
   "source": [
    "# This Python 3 environment comes with many helpful analytics libraries installed\n",
    "# It is defined by the kaggle/python Docker image: https://github.com/kaggle/docker-python\n",
    "# For example, here's several helpful packages to load\n",
    "\n",
    "import numpy as np # linear algebra\n",
    "import pandas as pd # data processing, CSV file I/O (e.g. pd.read_csv)\n",
    "\n",
    "# Input data files are available in the read-only \"../input/\" directory\n",
    "# For example, running this (by clicking run or pressing Shift+Enter) will list all files under the input directory\n",
    "\n",
    "import os\n",
    "for dirname, _, filenames in os.walk('/kaggle/input'):\n",
    "    for filename in filenames:\n",
    "        print(os.path.join(dirname, filename))\n",
    "\n",
    "# You can write up to 20GB to the current directory (/kaggle/working/) that gets preserved as output when you create a version using \"Save & Run All\" \n",
    "# You can also write temporary files to /kaggle/temp/, but they won't be saved outside of the current session"
   ]
  },
  {
   "cell_type": "markdown",
   "metadata": {
    "papermill": {
     "duration": 0.147157,
     "end_time": "2021-04-02T05:43:38.228384",
     "exception": false,
     "start_time": "2021-04-02T05:43:38.081227",
     "status": "completed"
    },
    "tags": []
   },
   "source": [
    "# Expectation from the notebook\n",
    "\n",
    "### this notebook is divided into below sections:\n",
    "### 1)Introduction to the problem\n",
    "### 2)Exploring the dataanalysis and preprocessing\n",
    "### 3)feature engineering and model building"
   ]
  },
  {
   "cell_type": "markdown",
   "metadata": {
    "papermill": {
     "duration": 0.149993,
     "end_time": "2021-04-02T05:43:38.526851",
     "exception": false,
     "start_time": "2021-04-02T05:43:38.376858",
     "status": "completed"
    },
    "tags": []
   },
   "source": [
    "# Table Of Content\n",
    "### lets look at the step that we will follow in notebook\n",
    "#### 1)problem statement\n",
    "#### 2)hypothesis Generation\n",
    "#### 3)loading the data\n",
    "#### 4)understanding the data\n",
    "#### 5)EXploratory data analysis(EDA)\n",
    "#### i)Univariant analysis\n",
    "#### ii)Bivariant analysis\n",
    "#### 6)missing values and outlier treatment\n",
    "#### 7)Feature engineering\n",
    "#### 8)model building\n",
    "#### i)Logistic Regression\n",
    "\n",
    "#### ii) Decision Tree\n",
    "\n",
    "#### iii) Random Forest\n",
    "\n",
    "#### iv) Random Forest with Grid Search\n",
    "\n",
    "#### v)XGBClassifier\n",
    "\n",
    "\n",
    "\n",
    "ii) Decision Tree\n",
    "\n",
    "iii) Random Forest\n",
    "\n",
    "iv) Random Forest with Grid Search\n",
    "\n",
    "v)XGBClassifier\n",
    "\n"
   ]
  },
  {
   "cell_type": "markdown",
   "metadata": {
    "papermill": {
     "duration": 0.147803,
     "end_time": "2021-04-02T05:43:38.822265",
     "exception": false,
     "start_time": "2021-04-02T05:43:38.674462",
     "status": "completed"
    },
    "tags": []
   },
   "source": [
    "# Problem Statement\n",
    "\n",
    "Understanding the problem statement is the first and foremost step. This would help you give an intuition of what you will face ahead of time. Let us see the problem statement -\n",
    "\n",
    "Dream Housing Finance company deals in all home loans. They have presence across all urban, semi urban and rural areas. Customer first apply for home loan after that company validates the customer eligibility for loan. Company wants to automate the loan eligibility process (real time) based on customer detail provided while filling online application form. These details are Gender, Marital Status, Education, Number of Dependents, Income, Loan Amount, Credit History and others. To automate this process, they have given a problem to identify the customers segments, those are eligible for loan amount so that they can specifically target these customers.\n",
    "\n",
    "This is a standard supervised classification task.A classification problem where we have to predict whether a loan would be approved or not. In a classification problem, we have to predict discrete values based on a given set of independent variable(s).Classification can be of two types:\n",
    "\n",
    "Supervised: The labels are included in the training data and the goal is to train a model to learn to predict the labels from the features.\n",
    "Binary Classification : In this classification we have to predict either of the two given classes. For example: classifying the gender as male or female, predicting the result as win or loss, etc.\n",
    "\n",
    "Multiclass Classification : Here we have to classify the data into three or more classes. For example: classifying a movie's genre as comedy, action or romantic, classify fruits as oranges, apples, or pears, etc.\n",
    "\n",
    "Loan prediction is a very common real-life problem that each retail bank faces atleast once in its lifetime. If done correctly, it can save a lot of man hours at the end of a retail bank.\n",
    "\n",
    "Although this notebook is specifically built to give you a walkthrough of Loan Prediction problem, you can always refer the content to get a comprehensive overview to solve a classification problem.\n"
   ]
  },
  {
   "cell_type": "markdown",
   "metadata": {
    "papermill": {
     "duration": 0.148357,
     "end_time": "2021-04-02T05:43:39.123609",
     "exception": false,
     "start_time": "2021-04-02T05:43:38.975252",
     "status": "completed"
    },
    "tags": []
   },
   "source": [
    "# Hypothesis generation\n",
    "After looking at the problem statement, we will now move into hypothesis generation. It is the process of listing out all the possible factors that can affect the outcome."
   ]
  },
  {
   "cell_type": "markdown",
   "metadata": {
    "papermill": {
     "duration": 0.148267,
     "end_time": "2021-04-02T05:43:39.419482",
     "exception": false,
     "start_time": "2021-04-02T05:43:39.271215",
     "status": "completed"
    },
    "tags": []
   },
   "source": [
    "# what is hypothesis generation?\n",
    "\n",
    "This is a very important stage in any data science/machine learning pipeline. It involves understanding the problem in detail by brainstorming as many factors as possible which can impact the outcome. It is done by understanding the problem statement thoroughly and before looking at the data.\n",
    "\n",
    "Below are some of the factors which I think can affect the Loan Approval (dependent variable for this loan prediction problem):\n",
    "\n",
    "Salary: Applicants with high income should have more chances of loan approval.\n",
    "\n",
    "Previous history: Applicants who have repayed their previous debts should have higher chances of loan approval.\n",
    "\n",
    "Loan amount: Loan approval should also depend on the loan amount. If the loan amount is less, chances of loan approval should be high.\n",
    "\n",
    "Loan term: Loan for less time period and less amount should have higher chances of approval.\n",
    "\n",
    "EMI: Lesser the amount to be paid monthly to repay the loan, higher the chances of loan approval.\n",
    "\n",
    "These are some of the factors which i think can affect the target variable, you can come up with many more factors"
   ]
  },
  {
   "cell_type": "markdown",
   "metadata": {
    "papermill": {
     "duration": 0.147438,
     "end_time": "2021-04-02T05:43:39.714505",
     "exception": false,
     "start_time": "2021-04-02T05:43:39.567067",
     "status": "completed"
    },
    "tags": []
   },
   "source": [
    "## About the data\n",
    "Given below is the description for each variable.\n",
    "\n",
    "Variable ----- Description\n",
    "\n",
    "Loan_ID -->> Unique Loan ID\n",
    "\n",
    "Gender -->> Male/ Female\n",
    "\n",
    "Married -->> Applicant married (Y/N)\n",
    "\n",
    "Dependents -->> Number of dependents\n",
    "\n",
    "Education -->> Applicant Education (Graduate/ Under Graduate)\n",
    "\n",
    "Self_Employed -->> Self employed (Y/N)\n",
    "\n",
    "ApplicantIncome -->> Applicant income\n",
    "\n",
    "CoapplicantIncome -->> Coapplicant income\n",
    "\n",
    "LoanAmount -->> Loan amount in thousands\n",
    "Loan_Amount_Term -->> Term of loan in months\n",
    "\n",
    "Credit_History -->> credit history meets guidelines\n",
    "\n",
    "Property_Area -->> Urban/ Semi Urban/ Rural\n",
    "\n",
    "Loan_Status -->> Loan approved (Y/N)"
   ]
  },
  {
   "cell_type": "markdown",
   "metadata": {
    "papermill": {
     "duration": 0.153729,
     "end_time": "2021-04-02T05:43:40.015872",
     "exception": false,
     "start_time": "2021-04-02T05:43:39.862143",
     "status": "completed"
    },
    "tags": []
   },
   "source": [
    "# import required package"
   ]
  },
  {
   "cell_type": "code",
   "execution_count": 2,
   "metadata": {
    "execution": {
     "iopub.execute_input": "2021-04-02T05:43:40.315781Z",
     "iopub.status.busy": "2021-04-02T05:43:40.315084Z",
     "iopub.status.idle": "2021-04-02T05:43:41.234676Z",
     "shell.execute_reply": "2021-04-02T05:43:41.235403Z"
    },
    "papermill": {
     "duration": 1.071309,
     "end_time": "2021-04-02T05:43:41.235647",
     "exception": false,
     "start_time": "2021-04-02T05:43:40.164338",
     "status": "completed"
    },
    "tags": []
   },
   "outputs": [],
   "source": [
    "import pandas as pd\n",
    "import numpy as np\n",
    "import matplotlib.pyplot as plt\n",
    "import seaborn as sns\n",
    "import warnings\n",
    "warnings.filterwarnings('ignore')"
   ]
  },
  {
   "cell_type": "markdown",
   "metadata": {
    "papermill": {
     "duration": 0.154907,
     "end_time": "2021-04-02T05:43:41.544358",
     "exception": false,
     "start_time": "2021-04-02T05:43:41.389451",
     "status": "completed"
    },
    "tags": []
   },
   "source": [
    "# Data"
   ]
  },
  {
   "cell_type": "markdown",
   "metadata": {
    "papermill": {
     "duration": 0.147365,
     "end_time": "2021-04-02T05:43:41.842594",
     "exception": false,
     "start_time": "2021-04-02T05:43:41.695229",
     "status": "completed"
    },
    "tags": []
   },
   "source": [
    "For this practice problem, we have been given two CSV files: train and test.\n",
    "\n",
    "Train file will be used for training the model, i.e. our model will learn from this file. It contains all the independent variables and the target variable.\n",
    "\n",
    "Test file contains all the independent variables, but not the target variable. We will apply the model to predict the target variable for the test data."
   ]
  },
  {
   "cell_type": "markdown",
   "metadata": {
    "papermill": {
     "duration": 0.149293,
     "end_time": "2021-04-02T05:43:42.144457",
     "exception": false,
     "start_time": "2021-04-02T05:43:41.995164",
     "status": "completed"
    },
    "tags": []
   },
   "source": [
    "# Read train and test data"
   ]
  },
  {
   "cell_type": "code",
   "execution_count": 3,
   "metadata": {
    "execution": {
     "iopub.execute_input": "2021-04-02T05:43:42.450297Z",
     "iopub.status.busy": "2021-04-02T05:43:42.449566Z",
     "iopub.status.idle": "2021-04-02T05:43:42.485459Z",
     "shell.execute_reply": "2021-04-02T05:43:42.484839Z"
    },
    "papermill": {
     "duration": 0.189502,
     "end_time": "2021-04-02T05:43:42.485612",
     "exception": false,
     "start_time": "2021-04-02T05:43:42.296110",
     "status": "completed"
    },
    "tags": []
   },
   "outputs": [],
   "source": [
    "train=pd.read_csv('/kaggle/input/home-loan-predictions/Train_Loan_Home.csv')\n",
    "test=pd.read_csv('/kaggle/input/home-loan-predictions/Test_Loan_Home.csv')"
   ]
  },
  {
   "cell_type": "markdown",
   "metadata": {
    "papermill": {
     "duration": 0.155182,
     "end_time": "2021-04-02T05:43:42.794449",
     "exception": false,
     "start_time": "2021-04-02T05:43:42.639267",
     "status": "completed"
    },
    "tags": []
   },
   "source": [
    "## Copy of original data\n",
    "Let’s make a copy of train and test data so that even if we have to make any changes in these datasets we would not lose the original datasets."
   ]
  },
  {
   "cell_type": "code",
   "execution_count": 4,
   "metadata": {
    "execution": {
     "iopub.execute_input": "2021-04-02T05:43:43.104199Z",
     "iopub.status.busy": "2021-04-02T05:43:43.103521Z",
     "iopub.status.idle": "2021-04-02T05:43:43.106853Z",
     "shell.execute_reply": "2021-04-02T05:43:43.107395Z"
    },
    "papermill": {
     "duration": 0.159762,
     "end_time": "2021-04-02T05:43:43.107583",
     "exception": false,
     "start_time": "2021-04-02T05:43:42.947821",
     "status": "completed"
    },
    "tags": []
   },
   "outputs": [],
   "source": [
    "train_original = train.copy()\n",
    "test_original = test.copy()"
   ]
  },
  {
   "cell_type": "markdown",
   "metadata": {
    "papermill": {
     "duration": 0.148808,
     "end_time": "2021-04-02T05:43:43.407353",
     "exception": false,
     "start_time": "2021-04-02T05:43:43.258545",
     "status": "completed"
    },
    "tags": []
   },
   "source": [
    "## Understanding the data\n",
    "In this section, we will look at the structure of the train and test datasets. Firstly, we will check the features present in our data and then we will look at their data types."
   ]
  },
  {
   "cell_type": "code",
   "execution_count": 5,
   "metadata": {
    "execution": {
     "iopub.execute_input": "2021-04-02T05:43:43.715889Z",
     "iopub.status.busy": "2021-04-02T05:43:43.715266Z",
     "iopub.status.idle": "2021-04-02T05:43:43.723099Z",
     "shell.execute_reply": "2021-04-02T05:43:43.723637Z"
    },
    "papermill": {
     "duration": 0.163278,
     "end_time": "2021-04-02T05:43:43.723803",
     "exception": false,
     "start_time": "2021-04-02T05:43:43.560525",
     "status": "completed"
    },
    "tags": []
   },
   "outputs": [
    {
     "data": {
      "text/plain": [
       "Index(['Loan_ID', 'Gender', 'Married', 'Dependents', 'Education',\n",
       "       'Self_Employed', 'ApplicantIncome', 'CoapplicantIncome', 'LoanAmount',\n",
       "       'Loan_Amount_Term', 'Credit_History', 'Property_Area', 'Loan_Status'],\n",
       "      dtype='object')"
      ]
     },
     "execution_count": 5,
     "metadata": {},
     "output_type": "execute_result"
    }
   ],
   "source": [
    "train.columns"
   ]
  },
  {
   "cell_type": "markdown",
   "metadata": {
    "papermill": {
     "duration": 0.157252,
     "end_time": "2021-04-02T05:43:44.032570",
     "exception": false,
     "start_time": "2021-04-02T05:43:43.875318",
     "status": "completed"
    },
    "tags": []
   },
   "source": [
    "We have 12 independent variables and 1 target variable, i.e. Loan_Status in the train dataset. Let’s also have a look at the columns of test dataset."
   ]
  },
  {
   "cell_type": "code",
   "execution_count": 6,
   "metadata": {
    "execution": {
     "iopub.execute_input": "2021-04-02T05:43:44.346609Z",
     "iopub.status.busy": "2021-04-02T05:43:44.345948Z",
     "iopub.status.idle": "2021-04-02T05:43:44.348576Z",
     "shell.execute_reply": "2021-04-02T05:43:44.349094Z"
    },
    "papermill": {
     "duration": 0.163561,
     "end_time": "2021-04-02T05:43:44.349259",
     "exception": false,
     "start_time": "2021-04-02T05:43:44.185698",
     "status": "completed"
    },
    "tags": []
   },
   "outputs": [
    {
     "data": {
      "text/plain": [
       "Index(['Loan_ID', 'Gender', 'Married', 'Dependents', 'Education',\n",
       "       'Self_Employed', 'ApplicantIncomeMonthly', 'CoapplicantIncomeMonthly',\n",
       "       'LoanAmountThousands', 'Loan_Amount_Term_Months', 'Credit_History',\n",
       "       'Property_Area'],\n",
       "      dtype='object')"
      ]
     },
     "execution_count": 6,
     "metadata": {},
     "output_type": "execute_result"
    }
   ],
   "source": [
    "test.columns"
   ]
  },
  {
   "cell_type": "markdown",
   "metadata": {
    "papermill": {
     "duration": 0.150326,
     "end_time": "2021-04-02T05:43:44.651661",
     "exception": false,
     "start_time": "2021-04-02T05:43:44.501335",
     "status": "completed"
    },
    "tags": []
   },
   "source": [
    "We have similar features in the test dataset as the train dataset except the Loan_Status. We will predict the Loan_Status using the model that we will build using the train data."
   ]
  },
  {
   "cell_type": "markdown",
   "metadata": {
    "papermill": {
     "duration": 0.150493,
     "end_time": "2021-04-02T05:43:44.952003",
     "exception": false,
     "start_time": "2021-04-02T05:43:44.801510",
     "status": "completed"
    },
    "tags": []
   },
   "source": [
    "# Print the datatype"
   ]
  },
  {
   "cell_type": "code",
   "execution_count": 7,
   "metadata": {
    "execution": {
     "iopub.execute_input": "2021-04-02T05:43:45.261781Z",
     "iopub.status.busy": "2021-04-02T05:43:45.261149Z",
     "iopub.status.idle": "2021-04-02T05:43:45.272219Z",
     "shell.execute_reply": "2021-04-02T05:43:45.271698Z"
    },
    "papermill": {
     "duration": 0.170465,
     "end_time": "2021-04-02T05:43:45.272368",
     "exception": false,
     "start_time": "2021-04-02T05:43:45.101903",
     "status": "completed"
    },
    "tags": []
   },
   "outputs": [
    {
     "data": {
      "text/plain": [
       "Loan_ID               object\n",
       "Gender                object\n",
       "Married               object\n",
       "Dependents            object\n",
       "Education             object\n",
       "Self_Employed         object\n",
       "ApplicantIncome        int64\n",
       "CoapplicantIncome    float64\n",
       "LoanAmount           float64\n",
       "Loan_Amount_Term     float64\n",
       "Credit_History       float64\n",
       "Property_Area         object\n",
       "Loan_Status           object\n",
       "dtype: object"
      ]
     },
     "execution_count": 7,
     "metadata": {},
     "output_type": "execute_result"
    }
   ],
   "source": [
    "train.dtypes"
   ]
  },
  {
   "cell_type": "markdown",
   "metadata": {
    "papermill": {
     "duration": 0.153535,
     "end_time": "2021-04-02T05:43:45.580244",
     "exception": false,
     "start_time": "2021-04-02T05:43:45.426709",
     "status": "completed"
    },
    "tags": []
   },
   "source": [
    "We can see there are three format of data types:\n",
    "\n",
    "object: Object format means variables are categorical. Categorical variables in our dataset are: Loan_ID, Gender, Married, Dependents, Education, Self_Employed, Property_Area, Loan_Status.\n",
    "\n",
    "int64: It represents the integer variables. ApplicantIncome is of this format.\n",
    "\n",
    "float64: It represents the variable which have some decimal values involved. They are also numerical variables. Numerical variables in our dataset are: CoapplicantIncome, LoanAmount, Loan_Amount_Term, and Credit_History."
   ]
  },
  {
   "cell_type": "markdown",
   "metadata": {
    "papermill": {
     "duration": 0.153657,
     "end_time": "2021-04-02T05:43:45.887164",
     "exception": false,
     "start_time": "2021-04-02T05:43:45.733507",
     "status": "completed"
    },
    "tags": []
   },
   "source": [
    "# Shape of the dataset"
   ]
  },
  {
   "cell_type": "code",
   "execution_count": 8,
   "metadata": {
    "execution": {
     "iopub.execute_input": "2021-04-02T05:43:46.201763Z",
     "iopub.status.busy": "2021-04-02T05:43:46.200775Z",
     "iopub.status.idle": "2021-04-02T05:43:46.205076Z",
     "shell.execute_reply": "2021-04-02T05:43:46.205591Z"
    },
    "papermill": {
     "duration": 0.16347,
     "end_time": "2021-04-02T05:43:46.205840",
     "exception": false,
     "start_time": "2021-04-02T05:43:46.042370",
     "status": "completed"
    },
    "tags": []
   },
   "outputs": [
    {
     "data": {
      "text/plain": [
       "(614, 13)"
      ]
     },
     "execution_count": 8,
     "metadata": {},
     "output_type": "execute_result"
    }
   ],
   "source": [
    "train.shape"
   ]
  },
  {
   "cell_type": "code",
   "execution_count": 9,
   "metadata": {
    "execution": {
     "iopub.execute_input": "2021-04-02T05:43:46.522398Z",
     "iopub.status.busy": "2021-04-02T05:43:46.521362Z",
     "iopub.status.idle": "2021-04-02T05:43:46.544650Z",
     "shell.execute_reply": "2021-04-02T05:43:46.544129Z"
    },
    "papermill": {
     "duration": 0.18562,
     "end_time": "2021-04-02T05:43:46.544798",
     "exception": false,
     "start_time": "2021-04-02T05:43:46.359178",
     "status": "completed"
    },
    "tags": []
   },
   "outputs": [
    {
     "data": {
      "text/html": [
       "<div>\n",
       "<style scoped>\n",
       "    .dataframe tbody tr th:only-of-type {\n",
       "        vertical-align: middle;\n",
       "    }\n",
       "\n",
       "    .dataframe tbody tr th {\n",
       "        vertical-align: top;\n",
       "    }\n",
       "\n",
       "    .dataframe thead th {\n",
       "        text-align: right;\n",
       "    }\n",
       "</style>\n",
       "<table border=\"1\" class=\"dataframe\">\n",
       "  <thead>\n",
       "    <tr style=\"text-align: right;\">\n",
       "      <th></th>\n",
       "      <th>Loan_ID</th>\n",
       "      <th>Gender</th>\n",
       "      <th>Married</th>\n",
       "      <th>Dependents</th>\n",
       "      <th>Education</th>\n",
       "      <th>Self_Employed</th>\n",
       "      <th>ApplicantIncome</th>\n",
       "      <th>CoapplicantIncome</th>\n",
       "      <th>LoanAmount</th>\n",
       "      <th>Loan_Amount_Term</th>\n",
       "      <th>Credit_History</th>\n",
       "      <th>Property_Area</th>\n",
       "      <th>Loan_Status</th>\n",
       "    </tr>\n",
       "  </thead>\n",
       "  <tbody>\n",
       "    <tr>\n",
       "      <th>0</th>\n",
       "      <td>LP001002</td>\n",
       "      <td>Male</td>\n",
       "      <td>No</td>\n",
       "      <td>0</td>\n",
       "      <td>Graduate</td>\n",
       "      <td>No</td>\n",
       "      <td>5849</td>\n",
       "      <td>0.0</td>\n",
       "      <td>NaN</td>\n",
       "      <td>360.0</td>\n",
       "      <td>1.0</td>\n",
       "      <td>Urban</td>\n",
       "      <td>Y</td>\n",
       "    </tr>\n",
       "    <tr>\n",
       "      <th>1</th>\n",
       "      <td>LP001003</td>\n",
       "      <td>Male</td>\n",
       "      <td>Yes</td>\n",
       "      <td>1</td>\n",
       "      <td>Graduate</td>\n",
       "      <td>No</td>\n",
       "      <td>4583</td>\n",
       "      <td>1508.0</td>\n",
       "      <td>128.0</td>\n",
       "      <td>360.0</td>\n",
       "      <td>1.0</td>\n",
       "      <td>Rural</td>\n",
       "      <td>N</td>\n",
       "    </tr>\n",
       "    <tr>\n",
       "      <th>2</th>\n",
       "      <td>LP001005</td>\n",
       "      <td>Male</td>\n",
       "      <td>Yes</td>\n",
       "      <td>0</td>\n",
       "      <td>Graduate</td>\n",
       "      <td>Yes</td>\n",
       "      <td>3000</td>\n",
       "      <td>0.0</td>\n",
       "      <td>66.0</td>\n",
       "      <td>360.0</td>\n",
       "      <td>1.0</td>\n",
       "      <td>Urban</td>\n",
       "      <td>Y</td>\n",
       "    </tr>\n",
       "    <tr>\n",
       "      <th>3</th>\n",
       "      <td>LP001006</td>\n",
       "      <td>Male</td>\n",
       "      <td>Yes</td>\n",
       "      <td>0</td>\n",
       "      <td>Not Graduate</td>\n",
       "      <td>No</td>\n",
       "      <td>2583</td>\n",
       "      <td>2358.0</td>\n",
       "      <td>120.0</td>\n",
       "      <td>360.0</td>\n",
       "      <td>1.0</td>\n",
       "      <td>Urban</td>\n",
       "      <td>Y</td>\n",
       "    </tr>\n",
       "    <tr>\n",
       "      <th>4</th>\n",
       "      <td>LP001008</td>\n",
       "      <td>Male</td>\n",
       "      <td>No</td>\n",
       "      <td>0</td>\n",
       "      <td>Graduate</td>\n",
       "      <td>No</td>\n",
       "      <td>6000</td>\n",
       "      <td>0.0</td>\n",
       "      <td>141.0</td>\n",
       "      <td>360.0</td>\n",
       "      <td>1.0</td>\n",
       "      <td>Urban</td>\n",
       "      <td>Y</td>\n",
       "    </tr>\n",
       "  </tbody>\n",
       "</table>\n",
       "</div>"
      ],
      "text/plain": [
       "    Loan_ID Gender Married Dependents     Education Self_Employed  \\\n",
       "0  LP001002   Male      No          0      Graduate            No   \n",
       "1  LP001003   Male     Yes          1      Graduate            No   \n",
       "2  LP001005   Male     Yes          0      Graduate           Yes   \n",
       "3  LP001006   Male     Yes          0  Not Graduate            No   \n",
       "4  LP001008   Male      No          0      Graduate            No   \n",
       "\n",
       "   ApplicantIncome  CoapplicantIncome  LoanAmount  Loan_Amount_Term  \\\n",
       "0             5849                0.0         NaN             360.0   \n",
       "1             4583             1508.0       128.0             360.0   \n",
       "2             3000                0.0        66.0             360.0   \n",
       "3             2583             2358.0       120.0             360.0   \n",
       "4             6000                0.0       141.0             360.0   \n",
       "\n",
       "   Credit_History Property_Area Loan_Status  \n",
       "0             1.0         Urban           Y  \n",
       "1             1.0         Rural           N  \n",
       "2             1.0         Urban           Y  \n",
       "3             1.0         Urban           Y  \n",
       "4             1.0         Urban           Y  "
      ]
     },
     "execution_count": 9,
     "metadata": {},
     "output_type": "execute_result"
    }
   ],
   "source": [
    "train.head()"
   ]
  },
  {
   "cell_type": "code",
   "execution_count": 10,
   "metadata": {
    "execution": {
     "iopub.execute_input": "2021-04-02T05:43:46.862740Z",
     "iopub.status.busy": "2021-04-02T05:43:46.861851Z",
     "iopub.status.idle": "2021-04-02T05:43:46.865396Z",
     "shell.execute_reply": "2021-04-02T05:43:46.865972Z"
    },
    "papermill": {
     "duration": 0.164807,
     "end_time": "2021-04-02T05:43:46.866145",
     "exception": false,
     "start_time": "2021-04-02T05:43:46.701338",
     "status": "completed"
    },
    "tags": []
   },
   "outputs": [
    {
     "data": {
      "text/plain": [
       "(367, 12)"
      ]
     },
     "execution_count": 10,
     "metadata": {},
     "output_type": "execute_result"
    }
   ],
   "source": [
    "test.shape"
   ]
  },
  {
   "cell_type": "code",
   "execution_count": 11,
   "metadata": {
    "execution": {
     "iopub.execute_input": "2021-04-02T05:43:47.174642Z",
     "iopub.status.busy": "2021-04-02T05:43:47.173725Z",
     "iopub.status.idle": "2021-04-02T05:43:47.192569Z",
     "shell.execute_reply": "2021-04-02T05:43:47.193018Z"
    },
    "papermill": {
     "duration": 0.173642,
     "end_time": "2021-04-02T05:43:47.193202",
     "exception": false,
     "start_time": "2021-04-02T05:43:47.019560",
     "status": "completed"
    },
    "tags": []
   },
   "outputs": [
    {
     "data": {
      "text/html": [
       "<div>\n",
       "<style scoped>\n",
       "    .dataframe tbody tr th:only-of-type {\n",
       "        vertical-align: middle;\n",
       "    }\n",
       "\n",
       "    .dataframe tbody tr th {\n",
       "        vertical-align: top;\n",
       "    }\n",
       "\n",
       "    .dataframe thead th {\n",
       "        text-align: right;\n",
       "    }\n",
       "</style>\n",
       "<table border=\"1\" class=\"dataframe\">\n",
       "  <thead>\n",
       "    <tr style=\"text-align: right;\">\n",
       "      <th></th>\n",
       "      <th>Loan_ID</th>\n",
       "      <th>Gender</th>\n",
       "      <th>Married</th>\n",
       "      <th>Dependents</th>\n",
       "      <th>Education</th>\n",
       "      <th>Self_Employed</th>\n",
       "      <th>ApplicantIncomeMonthly</th>\n",
       "      <th>CoapplicantIncomeMonthly</th>\n",
       "      <th>LoanAmountThousands</th>\n",
       "      <th>Loan_Amount_Term_Months</th>\n",
       "      <th>Credit_History</th>\n",
       "      <th>Property_Area</th>\n",
       "    </tr>\n",
       "  </thead>\n",
       "  <tbody>\n",
       "    <tr>\n",
       "      <th>0</th>\n",
       "      <td>LP001015</td>\n",
       "      <td>Male</td>\n",
       "      <td>Yes</td>\n",
       "      <td>0</td>\n",
       "      <td>Graduate</td>\n",
       "      <td>No</td>\n",
       "      <td>5720</td>\n",
       "      <td>0</td>\n",
       "      <td>110.0</td>\n",
       "      <td>360.0</td>\n",
       "      <td>1.0</td>\n",
       "      <td>Urban</td>\n",
       "    </tr>\n",
       "    <tr>\n",
       "      <th>1</th>\n",
       "      <td>LP001022</td>\n",
       "      <td>Male</td>\n",
       "      <td>Yes</td>\n",
       "      <td>1</td>\n",
       "      <td>Graduate</td>\n",
       "      <td>No</td>\n",
       "      <td>3076</td>\n",
       "      <td>1500</td>\n",
       "      <td>126.0</td>\n",
       "      <td>360.0</td>\n",
       "      <td>1.0</td>\n",
       "      <td>Urban</td>\n",
       "    </tr>\n",
       "    <tr>\n",
       "      <th>2</th>\n",
       "      <td>LP001031</td>\n",
       "      <td>Male</td>\n",
       "      <td>Yes</td>\n",
       "      <td>2</td>\n",
       "      <td>Graduate</td>\n",
       "      <td>No</td>\n",
       "      <td>5000</td>\n",
       "      <td>1800</td>\n",
       "      <td>208.0</td>\n",
       "      <td>360.0</td>\n",
       "      <td>1.0</td>\n",
       "      <td>Urban</td>\n",
       "    </tr>\n",
       "    <tr>\n",
       "      <th>3</th>\n",
       "      <td>LP001035</td>\n",
       "      <td>Male</td>\n",
       "      <td>Yes</td>\n",
       "      <td>2</td>\n",
       "      <td>Graduate</td>\n",
       "      <td>No</td>\n",
       "      <td>2340</td>\n",
       "      <td>2546</td>\n",
       "      <td>100.0</td>\n",
       "      <td>360.0</td>\n",
       "      <td>NaN</td>\n",
       "      <td>Urban</td>\n",
       "    </tr>\n",
       "    <tr>\n",
       "      <th>4</th>\n",
       "      <td>LP001051</td>\n",
       "      <td>Male</td>\n",
       "      <td>No</td>\n",
       "      <td>0</td>\n",
       "      <td>Not Graduate</td>\n",
       "      <td>No</td>\n",
       "      <td>3276</td>\n",
       "      <td>0</td>\n",
       "      <td>78.0</td>\n",
       "      <td>360.0</td>\n",
       "      <td>1.0</td>\n",
       "      <td>Urban</td>\n",
       "    </tr>\n",
       "  </tbody>\n",
       "</table>\n",
       "</div>"
      ],
      "text/plain": [
       "    Loan_ID Gender Married Dependents     Education Self_Employed  \\\n",
       "0  LP001015   Male     Yes          0      Graduate            No   \n",
       "1  LP001022   Male     Yes          1      Graduate            No   \n",
       "2  LP001031   Male     Yes          2      Graduate            No   \n",
       "3  LP001035   Male     Yes          2      Graduate            No   \n",
       "4  LP001051   Male      No          0  Not Graduate            No   \n",
       "\n",
       "   ApplicantIncomeMonthly  CoapplicantIncomeMonthly  LoanAmountThousands  \\\n",
       "0                    5720                         0                110.0   \n",
       "1                    3076                      1500                126.0   \n",
       "2                    5000                      1800                208.0   \n",
       "3                    2340                      2546                100.0   \n",
       "4                    3276                         0                 78.0   \n",
       "\n",
       "   Loan_Amount_Term_Months  Credit_History Property_Area  \n",
       "0                    360.0             1.0         Urban  \n",
       "1                    360.0             1.0         Urban  \n",
       "2                    360.0             1.0         Urban  \n",
       "3                    360.0             NaN         Urban  \n",
       "4                    360.0             1.0         Urban  "
      ]
     },
     "execution_count": 11,
     "metadata": {},
     "output_type": "execute_result"
    }
   ],
   "source": [
    "test.head()"
   ]
  },
  {
   "cell_type": "markdown",
   "metadata": {
    "papermill": {
     "duration": 0.151,
     "end_time": "2021-04-02T05:43:47.496299",
     "exception": false,
     "start_time": "2021-04-02T05:43:47.345299",
     "status": "completed"
    },
    "tags": []
   },
   "source": [
    "We have 614 rows and 13 columns in the train dataset and 367 rows and 12 columns in test dataset."
   ]
  },
  {
   "cell_type": "markdown",
   "metadata": {
    "papermill": {
     "duration": 0.150881,
     "end_time": "2021-04-02T05:43:47.799130",
     "exception": false,
     "start_time": "2021-04-02T05:43:47.648249",
     "status": "completed"
    },
    "tags": []
   },
   "source": [
    "# Univariate Analysis\n",
    "In this section, we will do univariate analysis. It is the simplest form of analyzing data where we examine each variable individually.\n",
    "\n",
    "For categorical features we can use frequency table or bar plots which will calculate the number of each category in a particular variable.\n",
    "\n",
    "For numerical features, probability density plots can be used to look at the distribution of the variable."
   ]
  },
  {
   "cell_type": "markdown",
   "metadata": {
    "papermill": {
     "duration": 0.154528,
     "end_time": "2021-04-02T05:43:48.106385",
     "exception": false,
     "start_time": "2021-04-02T05:43:47.951857",
     "status": "completed"
    },
    "tags": []
   },
   "source": [
    "# target variable\n",
    "We will first look at the target variable, i.e., Loan_Status.\n",
    "\n",
    "As it is a categorical variable, let us look at its frequency table, percentage distribution and bar plot.\n",
    "\n",
    "Frequency table of a variable will give us the count of each category in that variable.\n",
    "\n"
   ]
  },
  {
   "cell_type": "code",
   "execution_count": 12,
   "metadata": {
    "execution": {
     "iopub.execute_input": "2021-04-02T05:43:48.416607Z",
     "iopub.status.busy": "2021-04-02T05:43:48.415549Z",
     "iopub.status.idle": "2021-04-02T05:43:48.419298Z",
     "shell.execute_reply": "2021-04-02T05:43:48.419811Z"
    },
    "papermill": {
     "duration": 0.161597,
     "end_time": "2021-04-02T05:43:48.419991",
     "exception": false,
     "start_time": "2021-04-02T05:43:48.258394",
     "status": "completed"
    },
    "tags": []
   },
   "outputs": [
    {
     "data": {
      "text/plain": [
       "614"
      ]
     },
     "execution_count": 12,
     "metadata": {},
     "output_type": "execute_result"
    }
   ],
   "source": [
    "train['Loan_Status'].count()"
   ]
  },
  {
   "cell_type": "markdown",
   "metadata": {
    "papermill": {
     "duration": 0.151469,
     "end_time": "2021-04-02T05:43:48.723504",
     "exception": false,
     "start_time": "2021-04-02T05:43:48.572035",
     "status": "completed"
    },
    "tags": []
   },
   "source": [
    "Size of our target variable is : 614"
   ]
  },
  {
   "cell_type": "code",
   "execution_count": 13,
   "metadata": {
    "execution": {
     "iopub.execute_input": "2021-04-02T05:43:49.041323Z",
     "iopub.status.busy": "2021-04-02T05:43:49.040347Z",
     "iopub.status.idle": "2021-04-02T05:43:49.046139Z",
     "shell.execute_reply": "2021-04-02T05:43:49.046691Z"
    },
    "papermill": {
     "duration": 0.16944,
     "end_time": "2021-04-02T05:43:49.046868",
     "exception": false,
     "start_time": "2021-04-02T05:43:48.877428",
     "status": "completed"
    },
    "tags": []
   },
   "outputs": [
    {
     "data": {
      "text/plain": [
       "Y    422\n",
       "N    192\n",
       "Name: Loan_Status, dtype: int64"
      ]
     },
     "execution_count": 13,
     "metadata": {},
     "output_type": "execute_result"
    }
   ],
   "source": [
    "train['Loan_Status'].value_counts()"
   ]
  },
  {
   "cell_type": "markdown",
   "metadata": {
    "papermill": {
     "duration": 0.151792,
     "end_time": "2021-04-02T05:43:49.398780",
     "exception": false,
     "start_time": "2021-04-02T05:43:49.246988",
     "status": "completed"
    },
    "tags": []
   },
   "source": [
    "Among 614 Loan_Status : Accepted : 422 Rejected : 192"
   ]
  },
  {
   "cell_type": "code",
   "execution_count": 14,
   "metadata": {
    "execution": {
     "iopub.execute_input": "2021-04-02T05:43:49.709015Z",
     "iopub.status.busy": "2021-04-02T05:43:49.708115Z",
     "iopub.status.idle": "2021-04-02T05:43:49.731889Z",
     "shell.execute_reply": "2021-04-02T05:43:49.732436Z"
    },
    "papermill": {
     "duration": 0.180901,
     "end_time": "2021-04-02T05:43:49.732622",
     "exception": false,
     "start_time": "2021-04-02T05:43:49.551721",
     "status": "completed"
    },
    "tags": []
   },
   "outputs": [
    {
     "data": {
      "text/plain": [
       "Y    68.729642\n",
       "N    31.270358\n",
       "Name: Loan_Status, dtype: float64"
      ]
     },
     "execution_count": 14,
     "metadata": {},
     "output_type": "execute_result"
    }
   ],
   "source": [
    "# Normalize can be set to True to print proportions instead of number \n",
    "train[\"Loan_Status\"].value_counts(normalize=True)*100"
   ]
  },
  {
   "cell_type": "code",
   "execution_count": 15,
   "metadata": {
    "execution": {
     "iopub.execute_input": "2021-04-02T05:43:50.048732Z",
     "iopub.status.busy": "2021-04-02T05:43:50.048132Z",
     "iopub.status.idle": "2021-04-02T05:43:50.214360Z",
     "shell.execute_reply": "2021-04-02T05:43:50.214967Z"
    },
    "papermill": {
     "duration": 0.326169,
     "end_time": "2021-04-02T05:43:50.215152",
     "exception": false,
     "start_time": "2021-04-02T05:43:49.888983",
     "status": "completed"
    },
    "tags": []
   },
   "outputs": [
    {
     "data": {
      "text/plain": [
       "<AxesSubplot:title={'center':'Loan_Status'}>"
      ]
     },
     "execution_count": 15,
     "metadata": {},
     "output_type": "execute_result"
    },
    {
     "data": {
      "image/png": "[encoded data removed]",
      "text/plain": [
       "<Figure size 432x288 with 1 Axes>"
      ]
     },
     "metadata": {
      "needs_background": "light"
     },
     "output_type": "display_data"
    }
   ],
   "source": [
    "train[\"Loan_Status\"].value_counts(normalize=True).plot.bar(title = 'Loan_Status')"
   ]
  },
  {
   "cell_type": "markdown",
   "metadata": {
    "papermill": {
     "duration": 0.155855,
     "end_time": "2021-04-02T05:43:50.527092",
     "exception": false,
     "start_time": "2021-04-02T05:43:50.371237",
     "status": "completed"
    },
    "tags": []
   },
   "source": [
    "The loan of 422(around 69%) people out of 614 was approved.\n",
    "\n",
    "Now lets visualize each variable separately. Different types of variables are Categorical, ordinal and numerical.\n",
    "\n",
    "Categorical features: These features have categories (Gender, Married, Self_Employed, Credit_History, Loan_Status)\n",
    "\n"
   ]
  },
  {
   "cell_type": "markdown",
   "metadata": {
    "papermill": {
     "duration": 0.155529,
     "end_time": "2021-04-02T05:43:50.838225",
     "exception": false,
     "start_time": "2021-04-02T05:43:50.682696",
     "status": "completed"
    },
    "tags": []
   },
   "source": [
    "# Independent  variable(Categorical)\n",
    "\n",
    "## Analysis on gender Variable"
   ]
  },
  {
   "cell_type": "code",
   "execution_count": 16,
   "metadata": {
    "execution": {
     "iopub.execute_input": "2021-04-02T05:43:51.156010Z",
     "iopub.status.busy": "2021-04-02T05:43:51.155332Z",
     "iopub.status.idle": "2021-04-02T05:43:51.161761Z",
     "shell.execute_reply": "2021-04-02T05:43:51.161168Z"
    },
    "papermill": {
     "duration": 0.164271,
     "end_time": "2021-04-02T05:43:51.161896",
     "exception": false,
     "start_time": "2021-04-02T05:43:50.997625",
     "status": "completed"
    },
    "tags": []
   },
   "outputs": [
    {
     "data": {
      "text/plain": [
       "601"
      ]
     },
     "execution_count": 16,
     "metadata": {},
     "output_type": "execute_result"
    }
   ],
   "source": [
    "train['Gender'].count()"
   ]
  },
  {
   "cell_type": "markdown",
   "metadata": {
    "papermill": {
     "duration": 0.15521,
     "end_time": "2021-04-02T05:43:51.472532",
     "exception": false,
     "start_time": "2021-04-02T05:43:51.317322",
     "status": "completed"
    },
    "tags": []
   },
   "source": [
    "Size of our \"Gender\" variable is : 601"
   ]
  },
  {
   "cell_type": "code",
   "execution_count": 17,
   "metadata": {
    "execution": {
     "iopub.execute_input": "2021-04-02T05:43:51.790770Z",
     "iopub.status.busy": "2021-04-02T05:43:51.790181Z",
     "iopub.status.idle": "2021-04-02T05:43:51.794284Z",
     "shell.execute_reply": "2021-04-02T05:43:51.793673Z"
    },
    "papermill": {
     "duration": 0.16579,
     "end_time": "2021-04-02T05:43:51.794434",
     "exception": false,
     "start_time": "2021-04-02T05:43:51.628644",
     "status": "completed"
    },
    "tags": []
   },
   "outputs": [
    {
     "data": {
      "text/plain": [
       "Male      489\n",
       "Female    112\n",
       "Name: Gender, dtype: int64"
      ]
     },
     "execution_count": 17,
     "metadata": {},
     "output_type": "execute_result"
    }
   ],
   "source": [
    "train['Gender'].value_counts()"
   ]
  },
  {
   "cell_type": "markdown",
   "metadata": {
    "papermill": {
     "duration": 0.166545,
     "end_time": "2021-04-02T05:43:52.138220",
     "exception": false,
     "start_time": "2021-04-02T05:43:51.971675",
     "status": "completed"
    },
    "tags": []
   },
   "source": [
    "Among 601 person: Male : 489 Female : 112"
   ]
  },
  {
   "cell_type": "code",
   "execution_count": 18,
   "metadata": {
    "execution": {
     "iopub.execute_input": "2021-04-02T05:43:52.458500Z",
     "iopub.status.busy": "2021-04-02T05:43:52.457505Z",
     "iopub.status.idle": "2021-04-02T05:43:52.462281Z",
     "shell.execute_reply": "2021-04-02T05:43:52.461598Z"
    },
    "papermill": {
     "duration": 0.168266,
     "end_time": "2021-04-02T05:43:52.462422",
     "exception": false,
     "start_time": "2021-04-02T05:43:52.294156",
     "status": "completed"
    },
    "tags": []
   },
   "outputs": [
    {
     "data": {
      "text/plain": [
       "Male      81.364393\n",
       "Female    18.635607\n",
       "Name: Gender, dtype: float64"
      ]
     },
     "execution_count": 18,
     "metadata": {},
     "output_type": "execute_result"
    }
   ],
   "source": [
    "train['Gender'].value_counts(normalize=True)*100"
   ]
  },
  {
   "cell_type": "code",
   "execution_count": 19,
   "metadata": {
    "execution": {
     "iopub.execute_input": "2021-04-02T05:43:52.815835Z",
     "iopub.status.busy": "2021-04-02T05:43:52.815169Z",
     "iopub.status.idle": "2021-04-02T05:43:52.910300Z",
     "shell.execute_reply": "2021-04-02T05:43:52.910844Z"
    },
    "papermill": {
     "duration": 0.289911,
     "end_time": "2021-04-02T05:43:52.911055",
     "exception": false,
     "start_time": "2021-04-02T05:43:52.621144",
     "status": "completed"
    },
    "tags": []
   },
   "outputs": [
    {
     "data": {
      "text/plain": [
       "<AxesSubplot:title={'center':'Gender'}>"
      ]
     },
     "execution_count": 19,
     "metadata": {},
     "output_type": "execute_result"
    },
    {
     "data": {
      "image/png": "[encoded data removed]",
      "text/plain": [
       "<Figure size 432x288 with 1 Axes>"
      ]
     },
     "metadata": {
      "needs_background": "light"
     },
     "output_type": "display_data"
    }
   ],
   "source": [
    "train['Gender'].value_counts(normalize=True).plot.bar(title='Gender')"
   ]
  },
  {
   "cell_type": "markdown",
   "metadata": {
    "papermill": {
     "duration": 0.158098,
     "end_time": "2021-04-02T05:43:53.228619",
     "exception": false,
     "start_time": "2021-04-02T05:43:53.070521",
     "status": "completed"
    },
    "tags": []
   },
   "source": [
    "In our train dataset the \"Gender\" variable contain Male : 81% Female: 19%"
   ]
  },
  {
   "cell_type": "markdown",
   "metadata": {
    "papermill": {
     "duration": 0.157532,
     "end_time": "2021-04-02T05:43:53.544007",
     "exception": false,
     "start_time": "2021-04-02T05:43:53.386475",
     "status": "completed"
    },
    "tags": []
   },
   "source": [
    "# Analysis on Married Variable"
   ]
  },
  {
   "cell_type": "code",
   "execution_count": 20,
   "metadata": {
    "execution": {
     "iopub.execute_input": "2021-04-02T05:43:53.864177Z",
     "iopub.status.busy": "2021-04-02T05:43:53.863405Z",
     "iopub.status.idle": "2021-04-02T05:43:53.869301Z",
     "shell.execute_reply": "2021-04-02T05:43:53.869824Z"
    },
    "papermill": {
     "duration": 0.168308,
     "end_time": "2021-04-02T05:43:53.870010",
     "exception": false,
     "start_time": "2021-04-02T05:43:53.701702",
     "status": "completed"
    },
    "tags": []
   },
   "outputs": [
    {
     "data": {
      "text/plain": [
       "611"
      ]
     },
     "execution_count": 20,
     "metadata": {},
     "output_type": "execute_result"
    }
   ],
   "source": [
    "train['Married'].count()"
   ]
  },
  {
   "cell_type": "markdown",
   "metadata": {
    "papermill": {
     "duration": 0.158834,
     "end_time": "2021-04-02T05:43:54.190218",
     "exception": false,
     "start_time": "2021-04-02T05:43:54.031384",
     "status": "completed"
    },
    "tags": []
   },
   "source": [
    "Size of our \"Married\" variable is : 611"
   ]
  },
  {
   "cell_type": "code",
   "execution_count": 21,
   "metadata": {
    "execution": {
     "iopub.execute_input": "2021-04-02T05:43:54.512674Z",
     "iopub.status.busy": "2021-04-02T05:43:54.512082Z",
     "iopub.status.idle": "2021-04-02T05:43:54.519249Z",
     "shell.execute_reply": "2021-04-02T05:43:54.519811Z"
    },
    "papermill": {
     "duration": 0.169882,
     "end_time": "2021-04-02T05:43:54.519989",
     "exception": false,
     "start_time": "2021-04-02T05:43:54.350107",
     "status": "completed"
    },
    "tags": []
   },
   "outputs": [
    {
     "data": {
      "text/plain": [
       "Yes    398\n",
       "No     213\n",
       "Name: Married, dtype: int64"
      ]
     },
     "execution_count": 21,
     "metadata": {},
     "output_type": "execute_result"
    }
   ],
   "source": [
    "train['Married'].value_counts()"
   ]
  },
  {
   "cell_type": "markdown",
   "metadata": {
    "papermill": {
     "duration": 0.159313,
     "end_time": "2021-04-02T05:43:54.838188",
     "exception": false,
     "start_time": "2021-04-02T05:43:54.678875",
     "status": "completed"
    },
    "tags": []
   },
   "source": [
    "Total number of people : 611\n",
    "\n",
    "Married : 398\n",
    "\n",
    "Unmarried : 213"
   ]
  },
  {
   "cell_type": "code",
   "execution_count": 22,
   "metadata": {
    "execution": {
     "iopub.execute_input": "2021-04-02T05:43:55.164051Z",
     "iopub.status.busy": "2021-04-02T05:43:55.163357Z",
     "iopub.status.idle": "2021-04-02T05:43:55.171459Z",
     "shell.execute_reply": "2021-04-02T05:43:55.172012Z"
    },
    "papermill": {
     "duration": 0.173418,
     "end_time": "2021-04-02T05:43:55.172201",
     "exception": false,
     "start_time": "2021-04-02T05:43:54.998783",
     "status": "completed"
    },
    "tags": []
   },
   "outputs": [
    {
     "data": {
      "text/plain": [
       "Yes    65.139116\n",
       "No     34.860884\n",
       "Name: Married, dtype: float64"
      ]
     },
     "execution_count": 22,
     "metadata": {},
     "output_type": "execute_result"
    }
   ],
   "source": [
    "train['Married'].value_counts(normalize=True)*100"
   ]
  },
  {
   "cell_type": "code",
   "execution_count": 23,
   "metadata": {
    "execution": {
     "iopub.execute_input": "2021-04-02T05:43:55.493897Z",
     "iopub.status.busy": "2021-04-02T05:43:55.493262Z",
     "iopub.status.idle": "2021-04-02T05:43:55.691869Z",
     "shell.execute_reply": "2021-04-02T05:43:55.692422Z"
    },
    "papermill": {
     "duration": 0.360925,
     "end_time": "2021-04-02T05:43:55.692594",
     "exception": false,
     "start_time": "2021-04-02T05:43:55.331669",
     "status": "completed"
    },
    "tags": []
   },
   "outputs": [
    {
     "data": {
      "text/plain": [
       "<AxesSubplot:title={'center':'Married'}>"
      ]
     },
     "execution_count": 23,
     "metadata": {},
     "output_type": "execute_result"
    },
    {
     "data": {
      "image/png": "[encoded data removed]",
      "text/plain": [
       "<Figure size 432x288 with 1 Axes>"
      ]
     },
     "metadata": {
      "needs_background": "light"
     },
     "output_type": "display_data"
    }
   ],
   "source": [
    "train['Married'].value_counts(normalize=True).plot.bar(title= 'Married')"
   ]
  },
  {
   "cell_type": "markdown",
   "metadata": {
    "papermill": {
     "duration": 0.161252,
     "end_time": "2021-04-02T05:43:56.015632",
     "exception": false,
     "start_time": "2021-04-02T05:43:55.854380",
     "status": "completed"
    },
    "tags": []
   },
   "source": [
    "From the Grapch we see that :\n",
    "\n",
    "Number of married people : 65%\n",
    "\n",
    "Number of unmarried people : 35%"
   ]
  },
  {
   "cell_type": "markdown",
   "metadata": {
    "papermill": {
     "duration": 0.15911,
     "end_time": "2021-04-02T05:43:56.336376",
     "exception": false,
     "start_time": "2021-04-02T05:43:56.177266",
     "status": "completed"
    },
    "tags": []
   },
   "source": [
    "## Analysis on \"Self_Employed\" variable"
   ]
  },
  {
   "cell_type": "code",
   "execution_count": 24,
   "metadata": {
    "execution": {
     "iopub.execute_input": "2021-04-02T05:43:56.660800Z",
     "iopub.status.busy": "2021-04-02T05:43:56.660112Z",
     "iopub.status.idle": "2021-04-02T05:43:56.666066Z",
     "shell.execute_reply": "2021-04-02T05:43:56.666615Z"
    },
    "papermill": {
     "duration": 0.170453,
     "end_time": "2021-04-02T05:43:56.666778",
     "exception": false,
     "start_time": "2021-04-02T05:43:56.496325",
     "status": "completed"
    },
    "tags": []
   },
   "outputs": [
    {
     "data": {
      "text/plain": [
       "582"
      ]
     },
     "execution_count": 24,
     "metadata": {},
     "output_type": "execute_result"
    }
   ],
   "source": [
    "train['Self_Employed'].count()"
   ]
  },
  {
   "cell_type": "markdown",
   "metadata": {
    "papermill": {
     "duration": 0.159107,
     "end_time": "2021-04-02T05:43:56.987817",
     "exception": false,
     "start_time": "2021-04-02T05:43:56.828710",
     "status": "completed"
    },
    "tags": []
   },
   "source": [
    "Size of our \"Self_Employed\" variable is : 582"
   ]
  },
  {
   "cell_type": "code",
   "execution_count": 25,
   "metadata": {
    "execution": {
     "iopub.execute_input": "2021-04-02T05:43:57.313692Z",
     "iopub.status.busy": "2021-04-02T05:43:57.313008Z",
     "iopub.status.idle": "2021-04-02T05:43:57.322035Z",
     "shell.execute_reply": "2021-04-02T05:43:57.321345Z"
    },
    "papermill": {
     "duration": 0.172998,
     "end_time": "2021-04-02T05:43:57.322196",
     "exception": false,
     "start_time": "2021-04-02T05:43:57.149198",
     "status": "completed"
    },
    "tags": []
   },
   "outputs": [
    {
     "data": {
      "text/plain": [
       "No     500\n",
       "Yes     82\n",
       "Name: Self_Employed, dtype: int64"
      ]
     },
     "execution_count": 25,
     "metadata": {},
     "output_type": "execute_result"
    }
   ],
   "source": [
    "train['Self_Employed'].value_counts()"
   ]
  },
  {
   "cell_type": "markdown",
   "metadata": {
    "papermill": {
     "duration": 0.163291,
     "end_time": "2021-04-02T05:43:57.647066",
     "exception": false,
     "start_time": "2021-04-02T05:43:57.483775",
     "status": "completed"
    },
    "tags": []
   },
   "source": [
    "Total number of people : 582\n",
    "\n",
    "Self_Employed : 82\n",
    "\n",
    "Not_Self_Employed : 500"
   ]
  },
  {
   "cell_type": "code",
   "execution_count": 26,
   "metadata": {
    "execution": {
     "iopub.execute_input": "2021-04-02T05:43:57.980392Z",
     "iopub.status.busy": "2021-04-02T05:43:57.979719Z",
     "iopub.status.idle": "2021-04-02T05:43:57.983493Z",
     "shell.execute_reply": "2021-04-02T05:43:57.982852Z"
    },
    "papermill": {
     "duration": 0.173609,
     "end_time": "2021-04-02T05:43:57.983651",
     "exception": false,
     "start_time": "2021-04-02T05:43:57.810042",
     "status": "completed"
    },
    "tags": []
   },
   "outputs": [
    {
     "data": {
      "text/plain": [
       "No     85.910653\n",
       "Yes    14.089347\n",
       "Name: Self_Employed, dtype: float64"
      ]
     },
     "execution_count": 26,
     "metadata": {},
     "output_type": "execute_result"
    }
   ],
   "source": [
    "train['Self_Employed'].value_counts(normalize=True)*100"
   ]
  },
  {
   "cell_type": "code",
   "execution_count": 27,
   "metadata": {
    "execution": {
     "iopub.execute_input": "2021-04-02T05:43:58.343694Z",
     "iopub.status.busy": "2021-04-02T05:43:58.342510Z",
     "iopub.status.idle": "2021-04-02T05:43:58.423831Z",
     "shell.execute_reply": "2021-04-02T05:43:58.423310Z"
    },
    "papermill": {
     "duration": 0.277215,
     "end_time": "2021-04-02T05:43:58.423995",
     "exception": false,
     "start_time": "2021-04-02T05:43:58.146780",
     "status": "completed"
    },
    "tags": []
   },
   "outputs": [
    {
     "data": {
      "text/plain": [
       "<AxesSubplot:title={'center':'Self_Employed'}>"
      ]
     },
     "execution_count": 27,
     "metadata": {},
     "output_type": "execute_result"
    },
    {
     "data": {
      "image/png": "[encoded data removed]",
      "text/plain": [
       "<Figure size 432x288 with 1 Axes>"
      ]
     },
     "metadata": {
      "needs_background": "light"
     },
     "output_type": "display_data"
    }
   ],
   "source": [
    "train['Self_Employed'].value_counts(normalize=True).plot.bar(title='Self_Employed')"
   ]
  },
  {
   "cell_type": "markdown",
   "metadata": {
    "papermill": {
     "duration": 0.162899,
     "end_time": "2021-04-02T05:43:58.750567",
     "exception": false,
     "start_time": "2021-04-02T05:43:58.587668",
     "status": "completed"
    },
    "tags": []
   },
   "source": [
    "Among 582 people only 14% are Self_Employed and rest of the 86% are Not_Self_Employed"
   ]
  },
  {
   "cell_type": "markdown",
   "metadata": {
    "papermill": {
     "duration": 0.164338,
     "end_time": "2021-04-02T05:43:59.081558",
     "exception": false,
     "start_time": "2021-04-02T05:43:58.917220",
     "status": "completed"
    },
    "tags": []
   },
   "source": [
    "# Analysis on \"Credit_History\" variable"
   ]
  },
  {
   "cell_type": "code",
   "execution_count": 28,
   "metadata": {
    "execution": {
     "iopub.execute_input": "2021-04-02T05:43:59.416670Z",
     "iopub.status.busy": "2021-04-02T05:43:59.415971Z",
     "iopub.status.idle": "2021-04-02T05:43:59.420513Z",
     "shell.execute_reply": "2021-04-02T05:43:59.419901Z"
    },
    "papermill": {
     "duration": 0.175389,
     "end_time": "2021-04-02T05:43:59.420708",
     "exception": false,
     "start_time": "2021-04-02T05:43:59.245319",
     "status": "completed"
    },
    "tags": []
   },
   "outputs": [
    {
     "data": {
      "text/plain": [
       "564"
      ]
     },
     "execution_count": 28,
     "metadata": {},
     "output_type": "execute_result"
    }
   ],
   "source": [
    "train[\"Credit_History\"].count()"
   ]
  },
  {
   "cell_type": "markdown",
   "metadata": {
    "papermill": {
     "duration": 0.162504,
     "end_time": "2021-04-02T05:43:59.746052",
     "exception": false,
     "start_time": "2021-04-02T05:43:59.583548",
     "status": "completed"
    },
    "tags": []
   },
   "source": [
    "size of our \"Credit_History\" variable is : 564"
   ]
  },
  {
   "cell_type": "code",
   "execution_count": 29,
   "metadata": {
    "execution": {
     "iopub.execute_input": "2021-04-02T05:44:00.082643Z",
     "iopub.status.busy": "2021-04-02T05:44:00.081984Z",
     "iopub.status.idle": "2021-04-02T05:44:00.085057Z",
     "shell.execute_reply": "2021-04-02T05:44:00.085530Z"
    },
    "papermill": {
     "duration": 0.176576,
     "end_time": "2021-04-02T05:44:00.085720",
     "exception": false,
     "start_time": "2021-04-02T05:43:59.909144",
     "status": "completed"
    },
    "tags": []
   },
   "outputs": [
    {
     "data": {
      "text/plain": [
       "1.0    475\n",
       "0.0     89\n",
       "Name: Credit_History, dtype: int64"
      ]
     },
     "execution_count": 29,
     "metadata": {},
     "output_type": "execute_result"
    }
   ],
   "source": [
    "train['Credit_History'].value_counts()"
   ]
  },
  {
   "cell_type": "markdown",
   "metadata": {
    "papermill": {
     "duration": 0.163548,
     "end_time": "2021-04-02T05:44:00.413450",
     "exception": false,
     "start_time": "2021-04-02T05:44:00.249902",
     "status": "completed"
    },
    "tags": []
   },
   "source": [
    "Total number of debts : 564\n",
    "\n",
    "Repaid Debts : 475\n",
    "\n",
    "Not Repaid Debts : 89"
   ]
  },
  {
   "cell_type": "code",
   "execution_count": 30,
   "metadata": {
    "execution": {
     "iopub.execute_input": "2021-04-02T05:44:00.744853Z",
     "iopub.status.busy": "2021-04-02T05:44:00.744206Z",
     "iopub.status.idle": "2021-04-02T05:44:00.752486Z",
     "shell.execute_reply": "2021-04-02T05:44:00.753064Z"
    },
    "papermill": {
     "duration": 0.175821,
     "end_time": "2021-04-02T05:44:00.753247",
     "exception": false,
     "start_time": "2021-04-02T05:44:00.577426",
     "status": "completed"
    },
    "tags": []
   },
   "outputs": [
    {
     "data": {
      "text/plain": [
       "1.0    84.219858\n",
       "0.0    15.780142\n",
       "Name: Credit_History, dtype: float64"
      ]
     },
     "execution_count": 30,
     "metadata": {},
     "output_type": "execute_result"
    }
   ],
   "source": [
    "train['Credit_History'].value_counts(normalize=True)*100"
   ]
  },
  {
   "cell_type": "code",
   "execution_count": 31,
   "metadata": {
    "execution": {
     "iopub.execute_input": "2021-04-02T05:44:01.087779Z",
     "iopub.status.busy": "2021-04-02T05:44:01.087178Z",
     "iopub.status.idle": "2021-04-02T05:44:01.224151Z",
     "shell.execute_reply": "2021-04-02T05:44:01.224727Z"
    },
    "papermill": {
     "duration": 0.307628,
     "end_time": "2021-04-02T05:44:01.224927",
     "exception": false,
     "start_time": "2021-04-02T05:44:00.917299",
     "status": "completed"
    },
    "tags": []
   },
   "outputs": [
    {
     "data": {
      "text/plain": [
       "<AxesSubplot:title={'center':'Credit_History'}>"
      ]
     },
     "execution_count": 31,
     "metadata": {},
     "output_type": "execute_result"
    },
    {
     "data": {
      "image/png": "[encoded data removed]",
      "text/plain": [
       "<Figure size 432x288 with 1 Axes>"
      ]
     },
     "metadata": {
      "needs_background": "light"
     },
     "output_type": "display_data"
    }
   ],
   "source": [
    "train['Credit_History'].value_counts(normalize=True).plot.bar(title='Credit_History')"
   ]
  },
  {
   "cell_type": "markdown",
   "metadata": {
    "papermill": {
     "duration": 0.165057,
     "end_time": "2021-04-02T05:44:01.555543",
     "exception": false,
     "start_time": "2021-04-02T05:44:01.390486",
     "status": "completed"
    },
    "tags": []
   },
   "source": [
    "Around 84% applicants have repaid their debts.\n",
    "\n",
    "Ordinal features: Variables in categorical features having some order involved (Dependents, Education, Property_Area)\n",
    "\n"
   ]
  },
  {
   "cell_type": "markdown",
   "metadata": {
    "papermill": {
     "duration": 0.165889,
     "end_time": "2021-04-02T05:44:01.886638",
     "exception": false,
     "start_time": "2021-04-02T05:44:01.720749",
     "status": "completed"
    },
    "tags": []
   },
   "source": [
    "# independent Variable (Ordinal)\n",
    "\n",
    "Ordinal features: Variables in categorical features having some order involved (Dependents, Education, Property_Area)"
   ]
  },
  {
   "cell_type": "markdown",
   "metadata": {
    "papermill": {
     "duration": 0.202646,
     "end_time": "2021-04-02T05:44:02.256657",
     "exception": false,
     "start_time": "2021-04-02T05:44:02.054011",
     "status": "completed"
    },
    "tags": []
   },
   "source": [
    "# Analysis on \"Dependents\" variable"
   ]
  },
  {
   "cell_type": "code",
   "execution_count": 32,
   "metadata": {
    "execution": {
     "iopub.execute_input": "2021-04-02T05:44:02.588903Z",
     "iopub.status.busy": "2021-04-02T05:44:02.588252Z",
     "iopub.status.idle": "2021-04-02T05:44:02.593417Z",
     "shell.execute_reply": "2021-04-02T05:44:02.593952Z"
    },
    "papermill": {
     "duration": 0.172965,
     "end_time": "2021-04-02T05:44:02.594137",
     "exception": false,
     "start_time": "2021-04-02T05:44:02.421172",
     "status": "completed"
    },
    "tags": []
   },
   "outputs": [
    {
     "data": {
      "text/plain": [
       "599"
      ]
     },
     "execution_count": 32,
     "metadata": {},
     "output_type": "execute_result"
    }
   ],
   "source": [
    "train['Dependents'].count()"
   ]
  },
  {
   "cell_type": "markdown",
   "metadata": {
    "papermill": {
     "duration": 0.17762,
     "end_time": "2021-04-02T05:44:02.937890",
     "exception": false,
     "start_time": "2021-04-02T05:44:02.760270",
     "status": "completed"
    },
    "tags": []
   },
   "source": [
    "Size of our \"Dependents\" variable is : 599"
   ]
  },
  {
   "cell_type": "code",
   "execution_count": 33,
   "metadata": {
    "execution": {
     "iopub.execute_input": "2021-04-02T05:44:03.288320Z",
     "iopub.status.busy": "2021-04-02T05:44:03.287367Z",
     "iopub.status.idle": "2021-04-02T05:44:03.294650Z",
     "shell.execute_reply": "2021-04-02T05:44:03.295128Z"
    },
    "papermill": {
     "duration": 0.175566,
     "end_time": "2021-04-02T05:44:03.295300",
     "exception": false,
     "start_time": "2021-04-02T05:44:03.119734",
     "status": "completed"
    },
    "tags": []
   },
   "outputs": [
    {
     "data": {
      "text/plain": [
       "0     345\n",
       "1     102\n",
       "2     101\n",
       "3+     51\n",
       "Name: Dependents, dtype: int64"
      ]
     },
     "execution_count": 33,
     "metadata": {},
     "output_type": "execute_result"
    }
   ],
   "source": [
    "train['Dependents'].value_counts()"
   ]
  },
  {
   "cell_type": "markdown",
   "metadata": {
    "papermill": {
     "duration": 0.164368,
     "end_time": "2021-04-02T05:44:03.624624",
     "exception": false,
     "start_time": "2021-04-02T05:44:03.460256",
     "status": "completed"
    },
    "tags": []
   },
   "source": [
    "Number of 0 Dependent : 345\n",
    "\n",
    "Number of 1 Dependent : 102\n",
    "\n",
    "Number of 2 Dependesnt : 101\n",
    "\n",
    "Number of 3+ Dependent : 51"
   ]
  },
  {
   "cell_type": "code",
   "execution_count": 34,
   "metadata": {
    "execution": {
     "iopub.execute_input": "2021-04-02T05:44:03.963365Z",
     "iopub.status.busy": "2021-04-02T05:44:03.962427Z",
     "iopub.status.idle": "2021-04-02T05:44:03.966606Z",
     "shell.execute_reply": "2021-04-02T05:44:03.967142Z"
    },
    "papermill": {
     "duration": 0.17805,
     "end_time": "2021-04-02T05:44:03.967322",
     "exception": false,
     "start_time": "2021-04-02T05:44:03.789272",
     "status": "completed"
    },
    "tags": []
   },
   "outputs": [
    {
     "data": {
      "text/plain": [
       "0     57.595993\n",
       "1     17.028381\n",
       "2     16.861436\n",
       "3+     8.514190\n",
       "Name: Dependents, dtype: float64"
      ]
     },
     "execution_count": 34,
     "metadata": {},
     "output_type": "execute_result"
    }
   ],
   "source": [
    "train['Dependents'].value_counts(normalize=True)*100"
   ]
  },
  {
   "cell_type": "code",
   "execution_count": 35,
   "metadata": {
    "execution": {
     "iopub.execute_input": "2021-04-02T05:44:04.315326Z",
     "iopub.status.busy": "2021-04-02T05:44:04.314594Z",
     "iopub.status.idle": "2021-04-02T05:44:04.436543Z",
     "shell.execute_reply": "2021-04-02T05:44:04.436047Z"
    },
    "papermill": {
     "duration": 0.302538,
     "end_time": "2021-04-02T05:44:04.436682",
     "exception": false,
     "start_time": "2021-04-02T05:44:04.134144",
     "status": "completed"
    },
    "tags": []
   },
   "outputs": [
    {
     "data": {
      "text/plain": [
       "<AxesSubplot:title={'center':'Dependents'}>"
      ]
     },
     "execution_count": 35,
     "metadata": {},
     "output_type": "execute_result"
    },
    {
     "data": {
      "image/png": "[encoded data removed]",
      "text/plain": [
       "<Figure size 432x288 with 1 Axes>"
      ]
     },
     "metadata": {
      "needs_background": "light"
     },
     "output_type": "display_data"
    }
   ],
   "source": [
    "train['Dependents'].value_counts(normalize=True).plot.bar(title=\"Dependents\")"
   ]
  },
  {
   "cell_type": "markdown",
   "metadata": {
    "papermill": {
     "duration": 0.166599,
     "end_time": "2021-04-02T05:44:04.770034",
     "exception": false,
     "start_time": "2021-04-02T05:44:04.603435",
     "status": "completed"
    },
    "tags": []
   },
   "source": [
    "58% people have 0 dependent\n",
    "\n",
    "17% people have 1 dependent\n",
    "\n",
    "17% people have 2 dependent\n",
    "\n",
    "8% people have 3+ dependent"
   ]
  },
  {
   "cell_type": "markdown",
   "metadata": {
    "papermill": {
     "duration": 0.167284,
     "end_time": "2021-04-02T05:44:05.103422",
     "exception": false,
     "start_time": "2021-04-02T05:44:04.936138",
     "status": "completed"
    },
    "tags": []
   },
   "source": [
    "# Analysis on \"Education\" variable :"
   ]
  },
  {
   "cell_type": "code",
   "execution_count": 36,
   "metadata": {
    "execution": {
     "iopub.execute_input": "2021-04-02T05:44:05.442988Z",
     "iopub.status.busy": "2021-04-02T05:44:05.442373Z",
     "iopub.status.idle": "2021-04-02T05:44:05.446408Z",
     "shell.execute_reply": "2021-04-02T05:44:05.445875Z"
    },
    "papermill": {
     "duration": 0.176302,
     "end_time": "2021-04-02T05:44:05.446534",
     "exception": false,
     "start_time": "2021-04-02T05:44:05.270232",
     "status": "completed"
    },
    "tags": []
   },
   "outputs": [
    {
     "data": {
      "text/plain": [
       "614"
      ]
     },
     "execution_count": 36,
     "metadata": {},
     "output_type": "execute_result"
    }
   ],
   "source": [
    "train['Education'].count()"
   ]
  },
  {
   "cell_type": "markdown",
   "metadata": {
    "papermill": {
     "duration": 0.165964,
     "end_time": "2021-04-02T05:44:05.780058",
     "exception": false,
     "start_time": "2021-04-02T05:44:05.614094",
     "status": "completed"
    },
    "tags": []
   },
   "source": [
    "Size of Education variable : 614"
   ]
  },
  {
   "cell_type": "code",
   "execution_count": 37,
   "metadata": {
    "execution": {
     "iopub.execute_input": "2021-04-02T05:44:06.122196Z",
     "iopub.status.busy": "2021-04-02T05:44:06.121398Z",
     "iopub.status.idle": "2021-04-02T05:44:06.125590Z",
     "shell.execute_reply": "2021-04-02T05:44:06.125043Z"
    },
    "papermill": {
     "duration": 0.178716,
     "end_time": "2021-04-02T05:44:06.125744",
     "exception": false,
     "start_time": "2021-04-02T05:44:05.947028",
     "status": "completed"
    },
    "tags": []
   },
   "outputs": [
    {
     "data": {
      "text/plain": [
       "Graduate        480\n",
       "Not Graduate    134\n",
       "Name: Education, dtype: int64"
      ]
     },
     "execution_count": 37,
     "metadata": {},
     "output_type": "execute_result"
    }
   ],
   "source": [
    "train[\"Education\"].value_counts()"
   ]
  },
  {
   "cell_type": "markdown",
   "metadata": {
    "papermill": {
     "duration": 0.1674,
     "end_time": "2021-04-02T05:44:06.462518",
     "exception": false,
     "start_time": "2021-04-02T05:44:06.295118",
     "status": "completed"
    },
    "tags": []
   },
   "source": [
    "People who are Graduated : 480\n",
    "\n",
    "People who are not Graduated : 134"
   ]
  },
  {
   "cell_type": "code",
   "execution_count": 38,
   "metadata": {
    "execution": {
     "iopub.execute_input": "2021-04-02T05:44:06.806242Z",
     "iopub.status.busy": "2021-04-02T05:44:06.805561Z",
     "iopub.status.idle": "2021-04-02T05:44:06.809197Z",
     "shell.execute_reply": "2021-04-02T05:44:06.808578Z"
    },
    "papermill": {
     "duration": 0.178839,
     "end_time": "2021-04-02T05:44:06.809352",
     "exception": false,
     "start_time": "2021-04-02T05:44:06.630513",
     "status": "completed"
    },
    "tags": []
   },
   "outputs": [
    {
     "data": {
      "text/plain": [
       "Graduate        78.175896\n",
       "Not Graduate    21.824104\n",
       "Name: Education, dtype: float64"
      ]
     },
     "execution_count": 38,
     "metadata": {},
     "output_type": "execute_result"
    }
   ],
   "source": [
    "train[\"Education\"].value_counts(normalize=True)*100\n"
   ]
  },
  {
   "cell_type": "code",
   "execution_count": 39,
   "metadata": {
    "execution": {
     "iopub.execute_input": "2021-04-02T05:44:07.154528Z",
     "iopub.status.busy": "2021-04-02T05:44:07.153952Z",
     "iopub.status.idle": "2021-04-02T05:44:07.283446Z",
     "shell.execute_reply": "2021-04-02T05:44:07.283993Z"
    },
    "papermill": {
     "duration": 0.304048,
     "end_time": "2021-04-02T05:44:07.284157",
     "exception": false,
     "start_time": "2021-04-02T05:44:06.980109",
     "status": "completed"
    },
    "tags": []
   },
   "outputs": [
    {
     "data": {
      "text/plain": [
       "<AxesSubplot:title={'center':'Education'}>"
      ]
     },
     "execution_count": 39,
     "metadata": {},
     "output_type": "execute_result"
    },
    {
     "data": {
      "image/png": "[encoded data removed]",
      "text/plain": [
       "<Figure size 432x288 with 1 Axes>"
      ]
     },
     "metadata": {
      "needs_background": "light"
     },
     "output_type": "display_data"
    }
   ],
   "source": [
    "train[\"Education\"].value_counts(normalize=True).plot.bar(title = \"Education\")"
   ]
  },
  {
   "cell_type": "markdown",
   "metadata": {
    "papermill": {
     "duration": 0.169998,
     "end_time": "2021-04-02T05:44:07.624735",
     "exception": false,
     "start_time": "2021-04-02T05:44:07.454737",
     "status": "completed"
    },
    "tags": []
   },
   "source": [
    "Total number of People : 614\n",
    "\n",
    "78% are Graduated and 22% are not Graduated"
   ]
  },
  {
   "cell_type": "markdown",
   "metadata": {
    "papermill": {
     "duration": 0.169606,
     "end_time": "2021-04-02T05:44:07.963859",
     "exception": false,
     "start_time": "2021-04-02T05:44:07.794253",
     "status": "completed"
    },
    "tags": []
   },
   "source": [
    "# Analysis on \"Property_Area\" variable "
   ]
  },
  {
   "cell_type": "code",
   "execution_count": 40,
   "metadata": {
    "execution": {
     "iopub.execute_input": "2021-04-02T05:44:08.312555Z",
     "iopub.status.busy": "2021-04-02T05:44:08.311590Z",
     "iopub.status.idle": "2021-04-02T05:44:08.315858Z",
     "shell.execute_reply": "2021-04-02T05:44:08.316316Z"
    },
    "papermill": {
     "duration": 0.181057,
     "end_time": "2021-04-02T05:44:08.316486",
     "exception": false,
     "start_time": "2021-04-02T05:44:08.135429",
     "status": "completed"
    },
    "tags": []
   },
   "outputs": [
    {
     "data": {
      "text/plain": [
       "614"
      ]
     },
     "execution_count": 40,
     "metadata": {},
     "output_type": "execute_result"
    }
   ],
   "source": [
    "train[\"Property_Area\"].count()"
   ]
  },
  {
   "cell_type": "markdown",
   "metadata": {
    "papermill": {
     "duration": 0.169949,
     "end_time": "2021-04-02T05:44:08.656735",
     "exception": false,
     "start_time": "2021-04-02T05:44:08.486786",
     "status": "completed"
    },
    "tags": []
   },
   "source": [
    "Size of \"Property_Area\" variable : 614"
   ]
  },
  {
   "cell_type": "code",
   "execution_count": 41,
   "metadata": {
    "execution": {
     "iopub.execute_input": "2021-04-02T05:44:09.009617Z",
     "iopub.status.busy": "2021-04-02T05:44:09.008774Z",
     "iopub.status.idle": "2021-04-02T05:44:09.012634Z",
     "shell.execute_reply": "2021-04-02T05:44:09.013133Z"
    },
    "papermill": {
     "duration": 0.184851,
     "end_time": "2021-04-02T05:44:09.013306",
     "exception": false,
     "start_time": "2021-04-02T05:44:08.828455",
     "status": "completed"
    },
    "tags": []
   },
   "outputs": [
    {
     "data": {
      "text/plain": [
       "Semiurban    233\n",
       "Urban        202\n",
       "Rural        179\n",
       "Name: Property_Area, dtype: int64"
      ]
     },
     "execution_count": 41,
     "metadata": {},
     "output_type": "execute_result"
    }
   ],
   "source": [
    "train[\"Property_Area\"].value_counts()"
   ]
  },
  {
   "cell_type": "markdown",
   "metadata": {
    "papermill": {
     "duration": 0.170255,
     "end_time": "2021-04-02T05:44:09.355279",
     "exception": false,
     "start_time": "2021-04-02T05:44:09.185024",
     "status": "completed"
    },
    "tags": []
   },
   "source": [
    "Total number of People : 614\n",
    "\n",
    "People from Semiurban area : 233\n",
    "\n",
    "People from Urban area : 202\n",
    "\n",
    "People from Rural area : 179"
   ]
  },
  {
   "cell_type": "code",
   "execution_count": 42,
   "metadata": {
    "execution": {
     "iopub.execute_input": "2021-04-02T05:44:09.705334Z",
     "iopub.status.busy": "2021-04-02T05:44:09.704526Z",
     "iopub.status.idle": "2021-04-02T05:44:09.708760Z",
     "shell.execute_reply": "2021-04-02T05:44:09.708159Z"
    },
    "papermill": {
     "duration": 0.182213,
     "end_time": "2021-04-02T05:44:09.708908",
     "exception": false,
     "start_time": "2021-04-02T05:44:09.526695",
     "status": "completed"
    },
    "tags": []
   },
   "outputs": [
    {
     "data": {
      "text/plain": [
       "Semiurban    37.947883\n",
       "Urban        32.899023\n",
       "Rural        29.153094\n",
       "Name: Property_Area, dtype: float64"
      ]
     },
     "execution_count": 42,
     "metadata": {},
     "output_type": "execute_result"
    }
   ],
   "source": [
    "train['Property_Area'].value_counts(normalize=True)*100"
   ]
  },
  {
   "cell_type": "code",
   "execution_count": 43,
   "metadata": {
    "execution": {
     "iopub.execute_input": "2021-04-02T05:44:10.078136Z",
     "iopub.status.busy": "2021-04-02T05:44:10.075848Z",
     "iopub.status.idle": "2021-04-02T05:44:10.190588Z",
     "shell.execute_reply": "2021-04-02T05:44:10.189947Z"
    },
    "papermill": {
     "duration": 0.31143,
     "end_time": "2021-04-02T05:44:10.190719",
     "exception": false,
     "start_time": "2021-04-02T05:44:09.879289",
     "status": "completed"
    },
    "tags": []
   },
   "outputs": [
    {
     "data": {
      "text/plain": [
       "<AxesSubplot:title={'center':'Property_Area'}>"
      ]
     },
     "execution_count": 43,
     "metadata": {},
     "output_type": "execute_result"
    },
    {
     "data": {
      "image/png": "[encoded data removed]",
      "text/plain": [
       "<Figure size 432x288 with 1 Axes>"
      ]
     },
     "metadata": {
      "needs_background": "light"
     },
     "output_type": "display_data"
    }
   ],
   "source": [
    "train['Property_Area'].value_counts(normalize=True).plot.bar(title='Property_Area')"
   ]
  },
  {
   "cell_type": "markdown",
   "metadata": {
    "papermill": {
     "duration": 0.171069,
     "end_time": "2021-04-02T05:44:10.533638",
     "exception": false,
     "start_time": "2021-04-02T05:44:10.362569",
     "status": "completed"
    },
    "tags": []
   },
   "source": [
    "38% people from Semiurban area\n",
    "\n",
    "33% people from Urban area\n",
    "\n",
    "29% people from Rural area"
   ]
  },
  {
   "cell_type": "markdown",
   "metadata": {
    "papermill": {
     "duration": 0.170626,
     "end_time": "2021-04-02T05:44:10.876527",
     "exception": false,
     "start_time": "2021-04-02T05:44:10.705901",
     "status": "completed"
    },
    "tags": []
   },
   "source": [
    "# Independent Variable (Numerical)"
   ]
  },
  {
   "cell_type": "markdown",
   "metadata": {
    "papermill": {
     "duration": 0.173947,
     "end_time": "2021-04-02T05:44:11.222942",
     "exception": false,
     "start_time": "2021-04-02T05:44:11.048995",
     "status": "completed"
    },
    "tags": []
   },
   "source": [
    "Numerical features: These features have numerical values (ApplicantIncome, CoapplicantIncome, LoanAmount, Loan_Amount_Term)"
   ]
  },
  {
   "cell_type": "markdown",
   "metadata": {
    "papermill": {
     "duration": 0.171589,
     "end_time": "2021-04-02T05:44:11.566483",
     "exception": false,
     "start_time": "2021-04-02T05:44:11.394894",
     "status": "completed"
    },
    "tags": []
   },
   "source": [
    "# \"ApplicantIncome\" distribution :"
   ]
  },
  {
   "cell_type": "code",
   "execution_count": 44,
   "metadata": {
    "execution": {
     "iopub.execute_input": "2021-04-02T05:44:11.929740Z",
     "iopub.status.busy": "2021-04-02T05:44:11.915200Z",
     "iopub.status.idle": "2021-04-02T05:44:12.315753Z",
     "shell.execute_reply": "2021-04-02T05:44:12.316507Z"
    },
    "papermill": {
     "duration": 0.57888,
     "end_time": "2021-04-02T05:44:12.316752",
     "exception": false,
     "start_time": "2021-04-02T05:44:11.737872",
     "status": "completed"
    },
    "tags": []
   },
   "outputs": [
    {
     "data": {
      "image/png": "[encoded data removed]",
      "text/plain": [
       "<Figure size 576x432 with 2 Axes>"
      ]
     },
     "metadata": {
      "needs_background": "light"
     },
     "output_type": "display_data"
    }
   ],
   "source": [
    "plt.figure(1)\n",
    "plt.subplot(1,2,1)\n",
    "sns.distplot(train['ApplicantIncome']);\n",
    "plt.subplot(1,2,2)\n",
    "train['ApplicantIncome'].plot.box(figsize=(8,6))\n",
    "plt.show()"
   ]
  },
  {
   "cell_type": "markdown",
   "metadata": {
    "papermill": {
     "duration": 0.173358,
     "end_time": "2021-04-02T05:44:12.685640",
     "exception": false,
     "start_time": "2021-04-02T05:44:12.512282",
     "status": "completed"
    },
    "tags": []
   },
   "source": [
    "It can be inferred that most of the data in the distribution of applicant income is towards left which means it is not normally distributed. We will try to make it normal in later sections as algorithms works better if the data is normally distributed.\n",
    "\n",
    "The boxplot confirms the presence of a lot of outliers/extreme values. This can be attributed to the income disparity in the society.\n",
    "\n",
    "Part of this can be driven by the fact that we are looking at people with different education levels. Let us segregate them by Education:"
   ]
  },
  {
   "cell_type": "code",
   "execution_count": 45,
   "metadata": {
    "execution": {
     "iopub.execute_input": "2021-04-02T05:44:13.048789Z",
     "iopub.status.busy": "2021-04-02T05:44:13.047753Z",
     "iopub.status.idle": "2021-04-02T05:44:13.208729Z",
     "shell.execute_reply": "2021-04-02T05:44:13.209195Z"
    },
    "papermill": {
     "duration": 0.345489,
     "end_time": "2021-04-02T05:44:13.209383",
     "exception": false,
     "start_time": "2021-04-02T05:44:12.863894",
     "status": "completed"
    },
    "tags": []
   },
   "outputs": [
    {
     "data": {
      "image/png": "[encoded data removed]",
      "text/plain": [
       "<Figure size 432x288 with 1 Axes>"
      ]
     },
     "metadata": {
      "needs_background": "light"
     },
     "output_type": "display_data"
    }
   ],
   "source": [
    "train.boxplot(column='ApplicantIncome',by=\"Education\" )\n",
    "plt.suptitle(\" \")\n",
    "plt.show()"
   ]
  },
  {
   "cell_type": "markdown",
   "metadata": {
    "papermill": {
     "duration": 0.173674,
     "end_time": "2021-04-02T05:44:13.557620",
     "exception": false,
     "start_time": "2021-04-02T05:44:13.383946",
     "status": "completed"
    },
    "tags": []
   },
   "source": [
    "We can see that there are a higher number of graduates with very high incomes, \n",
    "which are appearing to be the outliers."
   ]
  },
  {
   "cell_type": "markdown",
   "metadata": {
    "papermill": {
     "duration": 0.226579,
     "end_time": "2021-04-02T05:44:13.957831",
     "exception": false,
     "start_time": "2021-04-02T05:44:13.731252",
     "status": "completed"
    },
    "tags": []
   },
   "source": [
    "# Let’s look at the \"CoapplicantIncome\" distribution:"
   ]
  },
  {
   "cell_type": "code",
   "execution_count": 46,
   "metadata": {
    "execution": {
     "iopub.execute_input": "2021-04-02T05:44:14.352007Z",
     "iopub.status.busy": "2021-04-02T05:44:14.351345Z",
     "iopub.status.idle": "2021-04-02T05:44:14.675657Z",
     "shell.execute_reply": "2021-04-02T05:44:14.676234Z"
    },
    "papermill": {
     "duration": 0.523697,
     "end_time": "2021-04-02T05:44:14.676409",
     "exception": false,
     "start_time": "2021-04-02T05:44:14.152712",
     "status": "completed"
    },
    "tags": []
   },
   "outputs": [
    {
     "data": {
      "image/png": "[encoded data removed]",
      "text/plain": [
       "<Figure size 576x432 with 2 Axes>"
      ]
     },
     "metadata": {
      "needs_background": "light"
     },
     "output_type": "display_data"
    }
   ],
   "source": [
    "plt.figure(1)\n",
    "plt.subplot(121)\n",
    "sns.distplot(train['CoapplicantIncome'])\n",
    "plt.subplot(122)\n",
    "train['CoapplicantIncome'].plot.box(figsize=(8,6))\n",
    "plt.show()"
   ]
  },
  {
   "cell_type": "markdown",
   "metadata": {
    "papermill": {
     "duration": 0.175734,
     "end_time": "2021-04-02T05:44:15.028270",
     "exception": false,
     "start_time": "2021-04-02T05:44:14.852536",
     "status": "completed"
    },
    "tags": []
   },
   "source": [
    "We see a similar distribution as that of the applicant income. Majority of coapplicant’s income ranges from 0 to 5000. We also see a lot of outliers in the coapplicant income and it is not normally distributed."
   ]
  },
  {
   "cell_type": "markdown",
   "metadata": {
    "papermill": {
     "duration": 0.173837,
     "end_time": "2021-04-02T05:44:15.377133",
     "exception": false,
     "start_time": "2021-04-02T05:44:15.203296",
     "status": "completed"
    },
    "tags": []
   },
   "source": [
    "# Let’s look at the distribution of \"LoanAmount\" variable :\n"
   ]
  },
  {
   "cell_type": "code",
   "execution_count": 47,
   "metadata": {
    "execution": {
     "iopub.execute_input": "2021-04-02T05:44:15.731898Z",
     "iopub.status.busy": "2021-04-02T05:44:15.731264Z",
     "iopub.status.idle": "2021-04-02T05:44:16.200886Z",
     "shell.execute_reply": "2021-04-02T05:44:16.201401Z"
    },
    "papermill": {
     "duration": 0.647926,
     "end_time": "2021-04-02T05:44:16.201569",
     "exception": false,
     "start_time": "2021-04-02T05:44:15.553643",
     "status": "completed"
    },
    "tags": []
   },
   "outputs": [
    {
     "data": {
      "image/png": "[encoded data removed]",
      "text/plain": [
       "<Figure size 1152x360 with 2 Axes>"
      ]
     },
     "metadata": {
      "needs_background": "light"
     },
     "output_type": "display_data"
    }
   ],
   "source": [
    "plt.figure(1)\n",
    "plt.subplot(121)\n",
    "df=train.dropna()\n",
    "sns.distplot(df['LoanAmount']);\n",
    "\n",
    "plt.subplot(122)\n",
    "train['LoanAmount'].plot.box(figsize=(16,5))\n",
    "\n",
    "plt.show()"
   ]
  },
  {
   "cell_type": "markdown",
   "metadata": {
    "papermill": {
     "duration": 0.17549,
     "end_time": "2021-04-02T05:44:16.553838",
     "exception": false,
     "start_time": "2021-04-02T05:44:16.378348",
     "status": "completed"
    },
    "tags": []
   },
   "source": [
    "We see a lot of outliers in this variable and the distribution is fairly normal. We will treat the outliers in later sections."
   ]
  },
  {
   "cell_type": "markdown",
   "metadata": {
    "papermill": {
     "duration": 0.175244,
     "end_time": "2021-04-02T05:44:16.905478",
     "exception": false,
     "start_time": "2021-04-02T05:44:16.730234",
     "status": "completed"
    },
    "tags": []
   },
   "source": [
    "# distribution of \"LoanAmountTerm\" variable :"
   ]
  },
  {
   "cell_type": "code",
   "execution_count": 48,
   "metadata": {
    "execution": {
     "iopub.execute_input": "2021-04-02T05:44:17.266074Z",
     "iopub.status.busy": "2021-04-02T05:44:17.265462Z",
     "iopub.status.idle": "2021-04-02T05:44:17.581467Z",
     "shell.execute_reply": "2021-04-02T05:44:17.580865Z"
    },
    "papermill": {
     "duration": 0.497861,
     "end_time": "2021-04-02T05:44:17.581608",
     "exception": false,
     "start_time": "2021-04-02T05:44:17.083747",
     "status": "completed"
    },
    "tags": []
   },
   "outputs": [
    {
     "data": {
      "image/png": "[encoded data removed]",
      "text/plain": [
       "<Figure size 1152x360 with 2 Axes>"
      ]
     },
     "metadata": {
      "needs_background": "light"
     },
     "output_type": "display_data"
    }
   ],
   "source": [
    "plt.figure(1)\n",
    "plt.subplot(121)\n",
    "df = train.dropna()\n",
    "sns.distplot(df[\"Loan_Amount_Term\"]);\n",
    "\n",
    "plt.subplot(122)\n",
    "df[\"Loan_Amount_Term\"].plot.box(figsize=(16,5))\n",
    "plt.show()"
   ]
  },
  {
   "cell_type": "markdown",
   "metadata": {
    "papermill": {
     "duration": 0.179848,
     "end_time": "2021-04-02T05:44:17.939446",
     "exception": false,
     "start_time": "2021-04-02T05:44:17.759598",
     "status": "completed"
    },
    "tags": []
   },
   "source": [
    "#### We see a lot of outliers in this variable and the distribution is fairly normal.\n",
    "#### We will treat the outliers in later sections."
   ]
  },
  {
   "cell_type": "markdown",
   "metadata": {
    "papermill": {
     "duration": 0.178391,
     "end_time": "2021-04-02T05:44:18.296130",
     "exception": false,
     "start_time": "2021-04-02T05:44:18.117739",
     "status": "completed"
    },
    "tags": []
   },
   "source": [
    "# Bivariate Analysis"
   ]
  },
  {
   "cell_type": "markdown",
   "metadata": {
    "papermill": {
     "duration": 0.177125,
     "end_time": "2021-04-02T05:44:18.651623",
     "exception": false,
     "start_time": "2021-04-02T05:44:18.474498",
     "status": "completed"
    },
    "tags": []
   },
   "source": [
    "Lets recall some of the hypotheses that we generated earlier:\n",
    "\n",
    "i)Applicants with high income should have more chances of loan approval.\n",
    "\n",
    "ii)Applicants who have repaid their previous debts should have higher chances of loan approval.\n",
    "\n",
    "iii)Loan approval should also depend on the loan amount. If the loan amount is less, chances of loan approval should be high.\n",
    "\n",
    "iv)Lesser the amount to be paid monthly to repay the loan, higher the chances of loan approval.\n",
    "\n",
    "Lets try to test the above mentioned hypotheses using bivariate analysis.\n",
    "\n",
    "After looking at every variable individually in univariate analysis, we will now explore them again with respect to the target variable."
   ]
  },
  {
   "cell_type": "markdown",
   "metadata": {
    "papermill": {
     "duration": 0.185025,
     "end_time": "2021-04-02T05:44:19.013768",
     "exception": false,
     "start_time": "2021-04-02T05:44:18.828743",
     "status": "completed"
    },
    "tags": []
   },
   "source": [
    "# Categorical Independent Variable vs Target Variable"
   ]
  },
  {
   "cell_type": "markdown",
   "metadata": {
    "papermill": {
     "duration": 0.1773,
     "end_time": "2021-04-02T05:44:19.370465",
     "exception": false,
     "start_time": "2021-04-02T05:44:19.193165",
     "status": "completed"
    },
    "tags": []
   },
   "source": [
    "First of all we will find the relation between target variable and categorical independent variables. Let us look at the stacked bar plot now which will give us the proportion of approved and unapproved loans."
   ]
  },
  {
   "cell_type": "markdown",
   "metadata": {
    "papermill": {
     "duration": 0.17761,
     "end_time": "2021-04-02T05:44:19.728239",
     "exception": false,
     "start_time": "2021-04-02T05:44:19.550629",
     "status": "completed"
    },
    "tags": []
   },
   "source": [
    "# Relation between \"Loan_Status\" and \"Gender\""
   ]
  },
  {
   "cell_type": "code",
   "execution_count": 49,
   "metadata": {
    "execution": {
     "iopub.execute_input": "2021-04-02T05:44:20.089058Z",
     "iopub.status.busy": "2021-04-02T05:44:20.088427Z",
     "iopub.status.idle": "2021-04-02T05:44:20.265070Z",
     "shell.execute_reply": "2021-04-02T05:44:20.264341Z"
    },
    "papermill": {
     "duration": 0.359128,
     "end_time": "2021-04-02T05:44:20.265216",
     "exception": false,
     "start_time": "2021-04-02T05:44:19.906088",
     "status": "completed"
    },
    "tags": []
   },
   "outputs": [
    {
     "name": "stdout",
     "output_type": "stream",
     "text": [
      "Loan_Status    N    Y\n",
      "Gender               \n",
      "Female        37   75\n",
      "Male         150  339\n"
     ]
    },
    {
     "data": {
      "image/png": "[encoded data removed]",
      "text/plain": [
       "<Figure size 288x288 with 1 Axes>"
      ]
     },
     "metadata": {
      "needs_background": "light"
     },
     "output_type": "display_data"
    }
   ],
   "source": [
    "print(pd.crosstab(train[\"Gender\"],train[\"Loan_Status\"]))\n",
    "Gender = pd.crosstab(train[\"Gender\"],train[\"Loan_Status\"])\n",
    "Gender.div(Gender.sum(1).astype(float),axis=0).plot(kind=\"bar\",stacked=True,figsize=(4,4))\n",
    "plt.xlabel(\"Gender\")\n",
    "plt.ylabel(\"Percentage\")\n",
    "plt.show()"
   ]
  },
  {
   "cell_type": "markdown",
   "metadata": {
    "papermill": {
     "duration": 0.178068,
     "end_time": "2021-04-02T05:44:20.620978",
     "exception": false,
     "start_time": "2021-04-02T05:44:20.442910",
     "status": "completed"
    },
    "tags": []
   },
   "source": [
    "Number of Female whose Loan was approed : 75\n",
    "\n",
    "Number of Male whose Loan was approed : 339\n",
    "\n",
    "Number of Female whose Loan was not approed : 37\n",
    "\n",
    "Number of Male whose Loan was not approed : 150\n",
    "\n",
    "Proportion of Male applicants is higher for the approved loans."
   ]
  },
  {
   "cell_type": "markdown",
   "metadata": {
    "papermill": {
     "duration": 0.177829,
     "end_time": "2021-04-02T05:44:20.976680",
     "exception": false,
     "start_time": "2021-04-02T05:44:20.798851",
     "status": "completed"
    },
    "tags": []
   },
   "source": [
    "# Relation between \"Loan_Status\" and \"Married\""
   ]
  },
  {
   "cell_type": "code",
   "execution_count": 50,
   "metadata": {
    "execution": {
     "iopub.execute_input": "2021-04-02T05:44:21.342992Z",
     "iopub.status.busy": "2021-04-02T05:44:21.342023Z",
     "iopub.status.idle": "2021-04-02T05:44:21.508125Z",
     "shell.execute_reply": "2021-04-02T05:44:21.507570Z"
    },
    "papermill": {
     "duration": 0.353809,
     "end_time": "2021-04-02T05:44:21.508262",
     "exception": false,
     "start_time": "2021-04-02T05:44:21.154453",
     "status": "completed"
    },
    "tags": []
   },
   "outputs": [
    {
     "name": "stdout",
     "output_type": "stream",
     "text": [
      "Loan_Status    N    Y\n",
      "Married              \n",
      "No            79  134\n",
      "Yes          113  285\n"
     ]
    },
    {
     "data": {
      "image/png": "[encoded data removed]",
      "text/plain": [
       "<Figure size 288x288 with 1 Axes>"
      ]
     },
     "metadata": {
      "needs_background": "light"
     },
     "output_type": "display_data"
    }
   ],
   "source": [
    "print(pd.crosstab(train[\"Married\"],train[\"Loan_Status\"]))\n",
    "Married=pd.crosstab(train[\"Married\"],train[\"Loan_Status\"])\n",
    "Married.div(Married.sum(1).astype(float),axis=0).plot(kind=\"bar\",stacked=True,figsize=(4,4))\n",
    "plt.xlabel(\"Married\")\n",
    "plt.ylabel(\"Percentage\")\n",
    "plt.show()"
   ]
  },
  {
   "cell_type": "markdown",
   "metadata": {
    "papermill": {
     "duration": 0.180563,
     "end_time": "2021-04-02T05:44:21.868357",
     "exception": false,
     "start_time": "2021-04-02T05:44:21.687794",
     "status": "completed"
    },
    "tags": []
   },
   "source": [
    "Number of married people whose Loan was approed : 285\n",
    "\n",
    "Number of married people whose Loan was not approed : 113\n",
    "\n",
    "Number of unmarried people whose Loan was approed : 134\n",
    "\n",
    "Number of unmarried people whose Loan was not approed : 79\n",
    "\n",
    "Proportion of Married applicants is higher for the approved loans."
   ]
  },
  {
   "cell_type": "markdown",
   "metadata": {
    "papermill": {
     "duration": 0.180092,
     "end_time": "2021-04-02T05:44:22.229330",
     "exception": false,
     "start_time": "2021-04-02T05:44:22.049238",
     "status": "completed"
    },
    "tags": []
   },
   "source": [
    "# Relation between \"Loan_Status\" and \"Dependents\""
   ]
  },
  {
   "cell_type": "code",
   "execution_count": 51,
   "metadata": {
    "execution": {
     "iopub.execute_input": "2021-04-02T05:44:22.603578Z",
     "iopub.status.busy": "2021-04-02T05:44:22.597739Z",
     "iopub.status.idle": "2021-04-02T05:44:22.788437Z",
     "shell.execute_reply": "2021-04-02T05:44:22.787751Z"
    },
    "papermill": {
     "duration": 0.379784,
     "end_time": "2021-04-02T05:44:22.788581",
     "exception": false,
     "start_time": "2021-04-02T05:44:22.408797",
     "status": "completed"
    },
    "tags": []
   },
   "outputs": [
    {
     "name": "stdout",
     "output_type": "stream",
     "text": [
      "Loan_Status    N    Y\n",
      "Dependents           \n",
      "0            107  238\n",
      "1             36   66\n",
      "2             25   76\n",
      "3+            18   33\n"
     ]
    },
    {
     "data": {
      "image/png": "[encoded data removed]",
      "text/plain": [
       "<Figure size 288x288 with 1 Axes>"
      ]
     },
     "metadata": {
      "needs_background": "light"
     },
     "output_type": "display_data"
    }
   ],
   "source": [
    "print(pd.crosstab(train['Dependents'],train['Loan_Status']))\n",
    "Dependents=pd.crosstab(train['Dependents'],train['Loan_Status'])\n",
    "Dependents.div(Dependents.sum(1).astype(float),axis=0).plot(kind=\"bar\",stacked=True,figsize=(4,4))\n",
    "plt.xlabel(\"Dependents\")\n",
    "plt.ylabel(\"Percentage\")\n",
    "plt.show()"
   ]
  },
  {
   "cell_type": "markdown",
   "metadata": {
    "papermill": {
     "duration": 0.180617,
     "end_time": "2021-04-02T05:44:23.151857",
     "exception": false,
     "start_time": "2021-04-02T05:44:22.971240",
     "status": "completed"
    },
    "tags": []
   },
   "source": [
    "Number of dependents on the loan applicant : 0 and Loan was approed : 238\n",
    "\n",
    "Number of dependents on the loan applicant : 0 and Loan was not approed : 107\n",
    "\n",
    "Number of dependents on the loan applicant : 1 and Loan was approed : 66\n",
    "\n",
    "Number of dependents on the loan applicant : 1 and Loan was not approed : 36\n",
    "\n",
    "Number of dependents on the loan applicant : 2 and Loan was approed : 76\n",
    "\n",
    "Number of dependents on the loan applicant : 2 and Loan was not approed : 25\n",
    "\n",
    "Number of dependents on the loan applicant : 3+ and Loan was approed : 33\n",
    "\n",
    "Number of dependents on the loan applicant : 3+ and Loan was not approed : 18\n",
    "\n",
    "Distribution of applicants with 1 or 3+ dependents is similar across both the categories of Loan_Status."
   ]
  },
  {
   "cell_type": "markdown",
   "metadata": {
    "papermill": {
     "duration": 0.18012,
     "end_time": "2021-04-02T05:44:23.514730",
     "exception": false,
     "start_time": "2021-04-02T05:44:23.334610",
     "status": "completed"
    },
    "tags": []
   },
   "source": [
    "# Relation between \"Loan_Status\" and \"Education\""
   ]
  },
  {
   "cell_type": "code",
   "execution_count": 52,
   "metadata": {
    "execution": {
     "iopub.execute_input": "2021-04-02T05:44:23.895520Z",
     "iopub.status.busy": "2021-04-02T05:44:23.890037Z",
     "iopub.status.idle": "2021-04-02T05:44:24.064175Z",
     "shell.execute_reply": "2021-04-02T05:44:24.063429Z"
    },
    "papermill": {
     "duration": 0.364399,
     "end_time": "2021-04-02T05:44:24.064337",
     "exception": false,
     "start_time": "2021-04-02T05:44:23.699938",
     "status": "completed"
    },
    "tags": []
   },
   "outputs": [
    {
     "name": "stdout",
     "output_type": "stream",
     "text": [
      "Loan_Status     N    Y\n",
      "Education             \n",
      "Graduate      140  340\n",
      "Not Graduate   52   82\n"
     ]
    },
    {
     "data": {
      "image/png": "[encoded data removed]",
      "text/plain": [
       "<Figure size 288x288 with 1 Axes>"
      ]
     },
     "metadata": {
      "needs_background": "light"
     },
     "output_type": "display_data"
    }
   ],
   "source": [
    "print(pd.crosstab(train[\"Education\"],train[\"Loan_Status\"]))\n",
    "Education = pd.crosstab(train[\"Education\"],train[\"Loan_Status\"])\n",
    "Education.div(Education.sum(1).astype(float),axis=0).plot(kind=\"bar\",stacked=True,figsize=(4,4))\n",
    "plt.xlabel(\"Education\")\n",
    "plt.ylabel(\"Percentage\")\n",
    "plt.show()"
   ]
  },
  {
   "cell_type": "markdown",
   "metadata": {
    "papermill": {
     "duration": 0.181343,
     "end_time": "2021-04-02T05:44:24.427815",
     "exception": false,
     "start_time": "2021-04-02T05:44:24.246472",
     "status": "completed"
    },
    "tags": []
   },
   "source": [
    "Number of people who are Graduate and Loan was approed : 340\n",
    "\n",
    "Number of people who are Graduate and Loan was no approed : 140\n",
    "\n",
    "Number of people who are Not Graduate and Loan was approed : 82\n",
    "\n",
    "Number of people who are Not Graduate and Loan was not approed : 52\n",
    "\n",
    "Proportion of Graduate applicants is higher for the approved loans."
   ]
  },
  {
   "cell_type": "markdown",
   "metadata": {
    "papermill": {
     "duration": 0.181127,
     "end_time": "2021-04-02T05:44:24.790661",
     "exception": false,
     "start_time": "2021-04-02T05:44:24.609534",
     "status": "completed"
    },
    "tags": []
   },
   "source": [
    "# Relation between \"Loan_Status\" and \"Self_Employed\""
   ]
  },
  {
   "cell_type": "code",
   "execution_count": 53,
   "metadata": {
    "execution": {
     "iopub.execute_input": "2021-04-02T05:44:25.209146Z",
     "iopub.status.busy": "2021-04-02T05:44:25.206601Z",
     "iopub.status.idle": "2021-04-02T05:44:25.361439Z",
     "shell.execute_reply": "2021-04-02T05:44:25.360715Z"
    },
    "papermill": {
     "duration": 0.366758,
     "end_time": "2021-04-02T05:44:25.361583",
     "exception": false,
     "start_time": "2021-04-02T05:44:24.994825",
     "status": "completed"
    },
    "tags": []
   },
   "outputs": [
    {
     "name": "stdout",
     "output_type": "stream",
     "text": [
      "Loan_Status      N    Y\n",
      "Self_Employed          \n",
      "No             157  343\n",
      "Yes             26   56\n"
     ]
    },
    {
     "data": {
      "image/png": "[encoded data removed]",
      "text/plain": [
       "<Figure size 288x288 with 1 Axes>"
      ]
     },
     "metadata": {
      "needs_background": "light"
     },
     "output_type": "display_data"
    }
   ],
   "source": [
    "print(pd.crosstab(train[\"Self_Employed\"],train[\"Loan_Status\"]))\n",
    "SelfEmployed = pd.crosstab(train[\"Self_Employed\"],train[\"Loan_Status\"])\n",
    "SelfEmployed.div(SelfEmployed.sum(1).astype(float),axis=0).plot(kind=\"bar\",stacked=True,figsize=(4,4))\n",
    "plt.xlabel(\"Self_Employed\")\n",
    "plt.ylabel(\"Percentage\")\n",
    "plt.show()"
   ]
  },
  {
   "cell_type": "markdown",
   "metadata": {
    "papermill": {
     "duration": 0.183759,
     "end_time": "2021-04-02T05:44:25.729524",
     "exception": false,
     "start_time": "2021-04-02T05:44:25.545765",
     "status": "completed"
    },
    "tags": []
   },
   "source": [
    "People who are Self_Employed and Loan was approed : 56\n",
    "\n",
    "People who are Self_Employed and Loan was not approed : 26\n",
    "\n",
    "People who are not Self_Employed and Loan was approed : 343\n",
    "\n",
    "People who are not Self_Employed and Loan was not approed : 157\n",
    "\n",
    "There is nothing significant we can infer from Self_Employed vs Loan_Status plot."
   ]
  },
  {
   "cell_type": "markdown",
   "metadata": {
    "papermill": {
     "duration": 0.185371,
     "end_time": "2021-04-02T05:44:26.098691",
     "exception": false,
     "start_time": "2021-04-02T05:44:25.913320",
     "status": "completed"
    },
    "tags": []
   },
   "source": [
    "# Relation between \"Loan_Status\" and \"Credit_History\""
   ]
  },
  {
   "cell_type": "code",
   "execution_count": 54,
   "metadata": {
    "execution": {
     "iopub.execute_input": "2021-04-02T05:44:26.483500Z",
     "iopub.status.busy": "2021-04-02T05:44:26.482532Z",
     "iopub.status.idle": "2021-04-02T05:44:26.654364Z",
     "shell.execute_reply": "2021-04-02T05:44:26.654893Z"
    },
    "papermill": {
     "duration": 0.371807,
     "end_time": "2021-04-02T05:44:26.655082",
     "exception": false,
     "start_time": "2021-04-02T05:44:26.283275",
     "status": "completed"
    },
    "tags": []
   },
   "outputs": [
    {
     "name": "stdout",
     "output_type": "stream",
     "text": [
      "Loan_Status      N    Y\n",
      "Credit_History         \n",
      "0.0             82    7\n",
      "1.0             97  378\n"
     ]
    },
    {
     "data": {
      "image/png": "[encoded data removed]",
      "text/plain": [
       "<Figure size 288x288 with 1 Axes>"
      ]
     },
     "metadata": {
      "needs_background": "light"
     },
     "output_type": "display_data"
    }
   ],
   "source": [
    "print(pd.crosstab(train[\"Credit_History\"],train[\"Loan_Status\"]))\n",
    "CreditHistory = pd.crosstab(train[\"Credit_History\"],train[\"Loan_Status\"])\n",
    "CreditHistory.div(CreditHistory.sum(1).astype(float),axis=0).plot(kind=\"bar\",stacked=True,figsize=(4,4))\n",
    "plt.xlabel(\"Credit_History\")\n",
    "plt.ylabel(\"Percentage\")\n",
    "plt.show()"
   ]
  },
  {
   "cell_type": "markdown",
   "metadata": {
    "papermill": {
     "duration": 0.185162,
     "end_time": "2021-04-02T05:44:27.025276",
     "exception": false,
     "start_time": "2021-04-02T05:44:26.840114",
     "status": "completed"
    },
    "tags": []
   },
   "source": [
    "People with credit history as 1 and loan was approved : 378\n",
    "\n",
    "People with credit history as 1 and loan was not approved : 97\n",
    "\n",
    "People with credit history as 0 and loan was approved : 7\n",
    "\n",
    "People with credit history as 0 and loan was not approved : 82\n",
    "\n",
    "It seems people with credit history as 1 are more likely to get their loans approved."
   ]
  },
  {
   "cell_type": "markdown",
   "metadata": {
    "papermill": {
     "duration": 0.185931,
     "end_time": "2021-04-02T05:44:27.396589",
     "exception": false,
     "start_time": "2021-04-02T05:44:27.210658",
     "status": "completed"
    },
    "tags": []
   },
   "source": [
    "# Relation between \"Loan_Status\" and \"Property_Area\"\n"
   ]
  },
  {
   "cell_type": "code",
   "execution_count": 55,
   "metadata": {
    "execution": {
     "iopub.execute_input": "2021-04-02T05:44:27.812874Z",
     "iopub.status.busy": "2021-04-02T05:44:27.812242Z",
     "iopub.status.idle": "2021-04-02T05:44:27.992071Z",
     "shell.execute_reply": "2021-04-02T05:44:27.991563Z"
    },
    "papermill": {
     "duration": 0.410873,
     "end_time": "2021-04-02T05:44:27.992226",
     "exception": false,
     "start_time": "2021-04-02T05:44:27.581353",
     "status": "completed"
    },
    "tags": []
   },
   "outputs": [
    {
     "name": "stdout",
     "output_type": "stream",
     "text": [
      "Loan_Status     N    Y\n",
      "Property_Area         \n",
      "Rural          69  110\n",
      "Semiurban      54  179\n",
      "Urban          69  133\n"
     ]
    },
    {
     "data": {
      "image/png": "[encoded data removed]",
      "text/plain": [
       "<Figure size 288x288 with 1 Axes>"
      ]
     },
     "metadata": {
      "needs_background": "light"
     },
     "output_type": "display_data"
    }
   ],
   "source": [
    "print(pd.crosstab(train[\"Property_Area\"],train[\"Loan_Status\"]))\n",
    "PropertyArea = pd.crosstab(train[\"Property_Area\"],train[\"Loan_Status\"])\n",
    "PropertyArea.div(PropertyArea.sum(1).astype(float),axis=0).plot(kind=\"bar\",stacked=True,figsize=(4,4))\n",
    "plt.xlabel(\"Property_Area\")\n",
    "plt.ylabel(\"Loan_Status\")\n",
    "plt.show()"
   ]
  },
  {
   "cell_type": "markdown",
   "metadata": {
    "papermill": {
     "duration": 0.18515,
     "end_time": "2021-04-02T05:44:28.363420",
     "exception": false,
     "start_time": "2021-04-02T05:44:28.178270",
     "status": "completed"
    },
    "tags": []
   },
   "source": [
    "People who are from Rural area and loan was approved : 110\n",
    "\n",
    "People who are from Rural area and loan was not approved : 69\n",
    "\n",
    "People who are from Semiurban area and loan was approved : 179\n",
    "\n",
    "People who are from Semiurban area and loan was not approved : 54\n",
    "\n",
    "People who are from Urban area and loan was approved : 133\n",
    "\n",
    "People who are from Semiurban area and loan was not approved : 69\n",
    "\n",
    "Proportion of loans getting approved in semiurban area is higher as compared to that in rural or urban areas"
   ]
  },
  {
   "cell_type": "markdown",
   "metadata": {
    "papermill": {
     "duration": 0.189807,
     "end_time": "2021-04-02T05:44:28.738200",
     "exception": false,
     "start_time": "2021-04-02T05:44:28.548393",
     "status": "completed"
    },
    "tags": []
   },
   "source": [
    "# Numerical Independent Variable vs Target Variable"
   ]
  },
  {
   "cell_type": "markdown",
   "metadata": {
    "papermill": {
     "duration": 0.188916,
     "end_time": "2021-04-02T05:44:29.115779",
     "exception": false,
     "start_time": "2021-04-02T05:44:28.926863",
     "status": "completed"
    },
    "tags": []
   },
   "source": [
    "# Relation between \"Loan_Status\" and \"Income\""
   ]
  },
  {
   "cell_type": "markdown",
   "metadata": {
    "papermill": {
     "duration": 0.186402,
     "end_time": "2021-04-02T05:44:29.489990",
     "exception": false,
     "start_time": "2021-04-02T05:44:29.303588",
     "status": "completed"
    },
    "tags": []
   },
   "source": [
    "We will try to find the mean income of people for which the loan has been approved vs the mean income of people for which the loan has not been approved."
   ]
  },
  {
   "cell_type": "code",
   "execution_count": 56,
   "metadata": {
    "execution": {
     "iopub.execute_input": "2021-04-02T05:44:29.867752Z",
     "iopub.status.busy": "2021-04-02T05:44:29.866806Z",
     "iopub.status.idle": "2021-04-02T05:44:29.974489Z",
     "shell.execute_reply": "2021-04-02T05:44:29.975071Z"
    },
    "papermill": {
     "duration": 0.298424,
     "end_time": "2021-04-02T05:44:29.975251",
     "exception": false,
     "start_time": "2021-04-02T05:44:29.676827",
     "status": "completed"
    },
    "tags": []
   },
   "outputs": [
    {
     "data": {
      "text/plain": [
       "<AxesSubplot:xlabel='Loan_Status'>"
      ]
     },
     "execution_count": 56,
     "metadata": {},
     "output_type": "execute_result"
    },
    {
     "data": {
      "image/png": "[encoded data removed]",
      "text/plain": [
       "<Figure size 432x288 with 1 Axes>"
      ]
     },
     "metadata": {
      "needs_background": "light"
     },
     "output_type": "display_data"
    }
   ],
   "source": [
    "train.groupby(\"Loan_Status\")['ApplicantIncome'].mean().plot.bar()"
   ]
  },
  {
   "cell_type": "markdown",
   "metadata": {
    "papermill": {
     "duration": 0.186597,
     "end_time": "2021-04-02T05:44:30.349299",
     "exception": false,
     "start_time": "2021-04-02T05:44:30.162702",
     "status": "completed"
    },
    "tags": []
   },
   "source": [
    "Here the y-axis represents the mean applicant income. We don’t see any change in the mean income. So, let’s make bins for the applicant income variable based on the values in it and analyze the corresponding loan status for each bin."
   ]
  },
  {
   "cell_type": "code",
   "execution_count": 57,
   "metadata": {
    "execution": {
     "iopub.execute_input": "2021-04-02T05:44:30.725399Z",
     "iopub.status.busy": "2021-04-02T05:44:30.724463Z",
     "iopub.status.idle": "2021-04-02T05:44:30.734645Z",
     "shell.execute_reply": "2021-04-02T05:44:30.734067Z"
    },
    "papermill": {
     "duration": 0.199836,
     "end_time": "2021-04-02T05:44:30.734845",
     "exception": false,
     "start_time": "2021-04-02T05:44:30.535009",
     "status": "completed"
    },
    "tags": []
   },
   "outputs": [],
   "source": [
    "bins=[0,2500,4000,6000,81000]\n",
    "group=['Low','Average','High', 'Very high']\n",
    "train['Income_bin']=pd.cut(df['ApplicantIncome'],bins,labels=group)"
   ]
  },
  {
   "cell_type": "code",
   "execution_count": 58,
   "metadata": {
    "execution": {
     "iopub.execute_input": "2021-04-02T05:44:31.119148Z",
     "iopub.status.busy": "2021-04-02T05:44:31.118419Z",
     "iopub.status.idle": "2021-04-02T05:44:31.311781Z",
     "shell.execute_reply": "2021-04-02T05:44:31.311152Z"
    },
    "papermill": {
     "duration": 0.390095,
     "end_time": "2021-04-02T05:44:31.311931",
     "exception": false,
     "start_time": "2021-04-02T05:44:30.921836",
     "status": "completed"
    },
    "tags": []
   },
   "outputs": [
    {
     "name": "stdout",
     "output_type": "stream",
     "text": [
      "Loan_Status   N    Y\n",
      "Income_bin          \n",
      "Low          26   57\n",
      "Average      51  123\n",
      "High         32   79\n",
      "Very high    39   73\n"
     ]
    },
    {
     "data": {
      "image/png": "[encoded data removed]",
      "text/plain": [
       "<Figure size 288x288 with 1 Axes>"
      ]
     },
     "metadata": {
      "needs_background": "light"
     },
     "output_type": "display_data"
    }
   ],
   "source": [
    "print(pd.crosstab(train[\"Income_bin\"],train[\"Loan_Status\"]))\n",
    "Income_bin = pd.crosstab(train[\"Income_bin\"],train[\"Loan_Status\"])\n",
    "Income_bin.div(Income_bin.sum(1).astype(float),axis=0).plot(kind=\"bar\",stacked=True,figsize=(4,4))\n",
    "plt.xlabel(\"ApplicantIncome\")\n",
    "plt.ylabel(\"Percentage\")\n",
    "plt.show()"
   ]
  },
  {
   "cell_type": "markdown",
   "metadata": {
    "papermill": {
     "duration": 0.186464,
     "end_time": "2021-04-02T05:44:31.686106",
     "exception": false,
     "start_time": "2021-04-02T05:44:31.499642",
     "status": "completed"
    },
    "tags": []
   },
   "source": [
    "It can be inferred that Applicant income does not affect the chances of loan approval which contradicts our hypothesis in which we assumed that if the applicant income is high the chances of loan approval will also be high.\n",
    "\n",
    "We will analyze the coapplicant income and loan amount variable in similar way."
   ]
  },
  {
   "cell_type": "code",
   "execution_count": 59,
   "metadata": {
    "execution": {
     "iopub.execute_input": "2021-04-02T05:44:32.071437Z",
     "iopub.status.busy": "2021-04-02T05:44:32.070454Z",
     "iopub.status.idle": "2021-04-02T05:44:32.073754Z",
     "shell.execute_reply": "2021-04-02T05:44:32.073131Z"
    },
    "papermill": {
     "duration": 0.201085,
     "end_time": "2021-04-02T05:44:32.073906",
     "exception": false,
     "start_time": "2021-04-02T05:44:31.872821",
     "status": "completed"
    },
    "tags": []
   },
   "outputs": [],
   "source": [
    "bins=[0,1000,3000,42000]\n",
    "group =['Low','Average','High']\n",
    "train['CoapplicantIncome_bin']=pd.cut(df[\"CoapplicantIncome\"],bins,labels=group)\n"
   ]
  },
  {
   "cell_type": "code",
   "execution_count": 60,
   "metadata": {
    "execution": {
     "iopub.execute_input": "2021-04-02T05:44:32.466490Z",
     "iopub.status.busy": "2021-04-02T05:44:32.459265Z",
     "iopub.status.idle": "2021-04-02T05:44:32.643073Z",
     "shell.execute_reply": "2021-04-02T05:44:32.642537Z"
    },
    "papermill": {
     "duration": 0.382193,
     "end_time": "2021-04-02T05:44:32.643218",
     "exception": false,
     "start_time": "2021-04-02T05:44:32.261025",
     "status": "completed"
    },
    "tags": []
   },
   "outputs": [
    {
     "name": "stdout",
     "output_type": "stream",
     "text": [
      "Loan_Status             N    Y\n",
      "CoapplicantIncome_bin         \n",
      "Low                     3   15\n",
      "Average                46  123\n",
      "High                   24   53\n"
     ]
    },
    {
     "data": {
      "image/png": "[encoded data removed]",
      "text/plain": [
       "<Figure size 288x288 with 1 Axes>"
      ]
     },
     "metadata": {
      "needs_background": "light"
     },
     "output_type": "display_data"
    }
   ],
   "source": [
    "print(pd.crosstab(train[\"CoapplicantIncome_bin\"],train[\"Loan_Status\"]))\n",
    "CoapplicantIncome_Bin = pd.crosstab(train[\"CoapplicantIncome_bin\"],train[\"Loan_Status\"])\n",
    "CoapplicantIncome_Bin.div(CoapplicantIncome_Bin.sum(1).astype(float),axis=0).plot(kind='bar',stacked=True,figsize=(4,4))\n",
    "plt.xlabel(\"CoapplicantIncome\")\n",
    "plt.ylabel(\"Percentage\")\n",
    "plt.show()"
   ]
  },
  {
   "cell_type": "markdown",
   "metadata": {
    "papermill": {
     "duration": 0.190183,
     "end_time": "2021-04-02T05:44:33.023710",
     "exception": false,
     "start_time": "2021-04-02T05:44:32.833527",
     "status": "completed"
    },
    "tags": []
   },
   "source": [
    "It shows that if coapplicant’s income is less the chances of loan approval are high. But this does not look right. The possible reason behind this may be that most of the applicants don’t have any coapplicant so the coapplicant income for such applicants is 0 and hence the loan approval is not dependent on it. So we can make a new variable in which we will combine the applicant’s and coapplicant’s income to visualize the combined effect of income on loan approval."
   ]
  },
  {
   "cell_type": "code",
   "execution_count": 61,
   "metadata": {
    "execution": {
     "iopub.execute_input": "2021-04-02T05:44:33.413248Z",
     "iopub.status.busy": "2021-04-02T05:44:33.412285Z",
     "iopub.status.idle": "2021-04-02T05:44:33.414835Z",
     "shell.execute_reply": "2021-04-02T05:44:33.415430Z"
    },
    "papermill": {
     "duration": 0.201173,
     "end_time": "2021-04-02T05:44:33.415590",
     "exception": false,
     "start_time": "2021-04-02T05:44:33.214417",
     "status": "completed"
    },
    "tags": []
   },
   "outputs": [],
   "source": [
    "train[\"TotalIncome\"]=train[\"ApplicantIncome\"]+train[\"CoapplicantIncome\"]"
   ]
  },
  {
   "cell_type": "code",
   "execution_count": 62,
   "metadata": {
    "execution": {
     "iopub.execute_input": "2021-04-02T05:44:33.806496Z",
     "iopub.status.busy": "2021-04-02T05:44:33.805555Z",
     "iopub.status.idle": "2021-04-02T05:44:33.808900Z",
     "shell.execute_reply": "2021-04-02T05:44:33.808424Z"
    },
    "papermill": {
     "duration": 0.20375,
     "end_time": "2021-04-02T05:44:33.809056",
     "exception": false,
     "start_time": "2021-04-02T05:44:33.605306",
     "status": "completed"
    },
    "tags": []
   },
   "outputs": [],
   "source": [
    "bins =[0,2500,4000,6000,81000]\n",
    "group=['Low','Average','High','Very High']\n",
    "train[\"TotalIncome_bin\"]=pd.cut(train[\"TotalIncome\"],bins,labels=group)"
   ]
  },
  {
   "cell_type": "code",
   "execution_count": 63,
   "metadata": {
    "execution": {
     "iopub.execute_input": "2021-04-02T05:44:34.201498Z",
     "iopub.status.busy": "2021-04-02T05:44:34.199620Z",
     "iopub.status.idle": "2021-04-02T05:44:34.404491Z",
     "shell.execute_reply": "2021-04-02T05:44:34.403987Z"
    },
    "papermill": {
     "duration": 0.403795,
     "end_time": "2021-04-02T05:44:34.404641",
     "exception": false,
     "start_time": "2021-04-02T05:44:34.000846",
     "status": "completed"
    },
    "tags": []
   },
   "outputs": [
    {
     "name": "stdout",
     "output_type": "stream",
     "text": [
      "Loan_Status       N    Y\n",
      "TotalIncome_bin         \n",
      "Low              14   10\n",
      "Average          32   87\n",
      "High             65  159\n",
      "Very High        81  166\n"
     ]
    },
    {
     "data": {
      "image/png": "[encoded data removed]",
      "text/plain": [
       "<Figure size 576x432 with 1 Axes>"
      ]
     },
     "metadata": {
      "needs_background": "light"
     },
     "output_type": "display_data"
    }
   ],
   "source": [
    "print(pd.crosstab(train[\"TotalIncome_bin\"],train[\"Loan_Status\"]))\n",
    "TotalIncome = pd.crosstab(train[\"TotalIncome_bin\"],train[\"Loan_Status\"])\n",
    "TotalIncome.div(TotalIncome.sum(1).astype(float),axis=0).plot(kind='bar',stacked=True,figsize=(8,6))\n",
    "plt.xlabel(\"TotalIncome\")\n",
    "plt.ylabel(\"Percentage\")\n",
    "plt.show()"
   ]
  },
  {
   "cell_type": "markdown",
   "metadata": {
    "papermill": {
     "duration": 0.191578,
     "end_time": "2021-04-02T05:44:34.788785",
     "exception": false,
     "start_time": "2021-04-02T05:44:34.597207",
     "status": "completed"
    },
    "tags": []
   },
   "source": [
    "Whose TotalIncome was Low and loan was approved : 10\n",
    "\n",
    "Whose TotalIncome was Low and loan was not approved : 14\n",
    "\n",
    "Whose TotalIncome was Aerage and loan was apprvoed : 87\n",
    "\n",
    "Whose TotalIncome was Average and loan was not approved : 32\n",
    "\n",
    "Whose TotalIncome was High and loan was approved : 159\n",
    "\n",
    "Whose TotalIncome was High and loan was not approved : 65\n",
    "\n",
    "Whose TotalIncome was Very High and loan was approved : 166\n",
    "\n",
    "Whose TotalIncome was Very High and loan was not approed : 81\n",
    "\n",
    "We can see that Proportion of loans getting approved for applicants having low Total_Income is very less as compared to that of applicants with Average, High and Very High Income.\n",
    "\n"
   ]
  },
  {
   "cell_type": "markdown",
   "metadata": {
    "papermill": {
     "duration": 0.191692,
     "end_time": "2021-04-02T05:44:35.174050",
     "exception": false,
     "start_time": "2021-04-02T05:44:34.982358",
     "status": "completed"
    },
    "tags": []
   },
   "source": [
    "# Relation between \"Loan_Status\" and \"Loan Amount\""
   ]
  },
  {
   "cell_type": "code",
   "execution_count": 64,
   "metadata": {
    "execution": {
     "iopub.execute_input": "2021-04-02T05:44:35.566398Z",
     "iopub.status.busy": "2021-04-02T05:44:35.565443Z",
     "iopub.status.idle": "2021-04-02T05:44:35.568764Z",
     "shell.execute_reply": "2021-04-02T05:44:35.568215Z"
    },
    "papermill": {
     "duration": 0.20349,
     "end_time": "2021-04-02T05:44:35.568899",
     "exception": false,
     "start_time": "2021-04-02T05:44:35.365409",
     "status": "completed"
    },
    "tags": []
   },
   "outputs": [],
   "source": [
    "bins = [0,100,200,700]\n",
    "group=['Low','Average','High']\n",
    "train[\"LoanAmount_bin\"]=pd.cut(df[\"LoanAmount\"],bins,labels=group)"
   ]
  },
  {
   "cell_type": "code",
   "execution_count": 65,
   "metadata": {
    "execution": {
     "iopub.execute_input": "2021-04-02T05:44:35.991766Z",
     "iopub.status.busy": "2021-04-02T05:44:35.990709Z",
     "iopub.status.idle": "2021-04-02T05:44:36.172521Z",
     "shell.execute_reply": "2021-04-02T05:44:36.173047Z"
    },
    "papermill": {
     "duration": 0.412559,
     "end_time": "2021-04-02T05:44:36.173272",
     "exception": false,
     "start_time": "2021-04-02T05:44:35.760713",
     "status": "completed"
    },
    "tags": []
   },
   "outputs": [
    {
     "name": "stdout",
     "output_type": "stream",
     "text": [
      "Loan_Status      N    Y\n",
      "LoanAmount_bin         \n",
      "Low             38   86\n",
      "Average         83  207\n",
      "High            27   39\n"
     ]
    },
    {
     "data": {
      "image/png": "[encoded data removed]",
      "text/plain": [
       "<Figure size 576x288 with 1 Axes>"
      ]
     },
     "metadata": {
      "needs_background": "light"
     },
     "output_type": "display_data"
    }
   ],
   "source": [
    "print(pd.crosstab(train[\"LoanAmount_bin\"],train[\"Loan_Status\"]))\n",
    "LoanAmount=pd.crosstab(train[\"LoanAmount_bin\"],train[\"Loan_Status\"])\n",
    "LoanAmount.div(LoanAmount.sum(1).astype(float),axis=0).plot(kind='bar',stacked=True,figsize=(8,4))\n",
    "plt.xlabel(\"LoanAmount\")\n",
    "plt.ylabel(\"Percentage\")\n",
    "plt.show()"
   ]
  },
  {
   "cell_type": "markdown",
   "metadata": {
    "papermill": {
     "duration": 0.192748,
     "end_time": "2021-04-02T05:44:36.559748",
     "exception": false,
     "start_time": "2021-04-02T05:44:36.367000",
     "status": "completed"
    },
    "tags": []
   },
   "source": [
    "Whose Loan Amount was low and Loan was approved : 86\n",
    "\n",
    "Whose Loan Amount was low and Loan was not approved : 38\n",
    "\n",
    "Whose Loan Amount was Average and Loan was approved : 207\n",
    "\n",
    "Whose Loan Amount was Average and Loan was not approved : 83\n",
    "\n",
    "Whose Loan Amount was High and Loan was approved : 39\n",
    "\n",
    "Whose Loan Amount was High and Loan was not approved : 27\n",
    "\n",
    "It can be seen that the proportion of approved loans is higher for Low and Average Loan Amount as compared to that of High Loan Amount which supports our hypothesis in which we considered that the chances of loan approval will be high when the loan amount is less.\n",
    "\n"
   ]
  },
  {
   "cell_type": "markdown",
   "metadata": {
    "papermill": {
     "duration": 0.19399,
     "end_time": "2021-04-02T05:44:36.946423",
     "exception": false,
     "start_time": "2021-04-02T05:44:36.752433",
     "status": "completed"
    },
    "tags": []
   },
   "source": [
    "Let’s drop the bins which we created for the exploration part. We will change the 3+ in dependents variable to 3 to make it a numerical variable\n"
   ]
  },
  {
   "cell_type": "code",
   "execution_count": 66,
   "metadata": {
    "execution": {
     "iopub.execute_input": "2021-04-02T05:44:37.340594Z",
     "iopub.status.busy": "2021-04-02T05:44:37.339657Z",
     "iopub.status.idle": "2021-04-02T05:44:37.343134Z",
     "shell.execute_reply": "2021-04-02T05:44:37.343581Z"
    },
    "papermill": {
     "duration": 0.203469,
     "end_time": "2021-04-02T05:44:37.343760",
     "exception": false,
     "start_time": "2021-04-02T05:44:37.140291",
     "status": "completed"
    },
    "tags": []
   },
   "outputs": [],
   "source": [
    "train=train.drop([\"Income_bin\",\"CoapplicantIncome_bin\",\"LoanAmount_bin\",\"TotalIncome\",\"TotalIncome_bin\"],axis=1)"
   ]
  },
  {
   "cell_type": "code",
   "execution_count": 67,
   "metadata": {
    "execution": {
     "iopub.execute_input": "2021-04-02T05:44:37.732506Z",
     "iopub.status.busy": "2021-04-02T05:44:37.731822Z",
     "iopub.status.idle": "2021-04-02T05:44:37.739583Z",
     "shell.execute_reply": "2021-04-02T05:44:37.740162Z"
    },
    "papermill": {
     "duration": 0.203398,
     "end_time": "2021-04-02T05:44:37.740341",
     "exception": false,
     "start_time": "2021-04-02T05:44:37.536943",
     "status": "completed"
    },
    "tags": []
   },
   "outputs": [],
   "source": [
    "#train['Dependents'].replace(('0', '1', '2', '3+'), (0, 1, 2, 3),inplace=True)\n",
    "#test['Dependents'].replace(('0', '1', '2', '3+'), (0, 1, 2, 3),inplace=True)\n",
    "train['Dependents'].replace('3+',3,inplace=True)\n",
    "test['Dependents'].replace('3+',3,inplace=True)\n",
    "train['Loan_Status'].replace('N', 0,inplace=True)\n",
    "train['Loan_Status'].replace('Y', 1,inplace=True)"
   ]
  },
  {
   "cell_type": "markdown",
   "metadata": {
    "papermill": {
     "duration": 0.192083,
     "end_time": "2021-04-02T05:44:38.128830",
     "exception": false,
     "start_time": "2021-04-02T05:44:37.936747",
     "status": "completed"
    },
    "tags": []
   },
   "source": [
    "Now lets look at the correlation between all the numerical variables. We will use the heat map to visualize the correlation. Heatmaps visualize data through variations in coloring. The variables with darker color means their correlation is more."
   ]
  },
  {
   "cell_type": "code",
   "execution_count": 68,
   "metadata": {
    "execution": {
     "iopub.execute_input": "2021-04-02T05:44:38.516717Z",
     "iopub.status.busy": "2021-04-02T05:44:38.516071Z",
     "iopub.status.idle": "2021-04-02T05:44:38.982008Z",
     "shell.execute_reply": "2021-04-02T05:44:38.981385Z"
    },
    "papermill": {
     "duration": 0.660755,
     "end_time": "2021-04-02T05:44:38.982145",
     "exception": false,
     "start_time": "2021-04-02T05:44:38.321390",
     "status": "completed"
    },
    "tags": []
   },
   "outputs": [
    {
     "data": {
      "image/png": "[encoded data removed]",
      "text/plain": [
       "<Figure size 720x864 with 2 Axes>"
      ]
     },
     "metadata": {
      "needs_background": "light"
     },
     "output_type": "display_data"
    }
   ],
   "source": [
    "matrix = train.corr()\n",
    "f, ax = plt.subplots(figsize=(10, 12))\n",
    "sns.heatmap(matrix, vmax=.8, square=True, cmap=\"BuPu\",annot=True);"
   ]
  },
  {
   "cell_type": "markdown",
   "metadata": {
    "papermill": {
     "duration": 0.197023,
     "end_time": "2021-04-02T05:44:39.373861",
     "exception": false,
     "start_time": "2021-04-02T05:44:39.176838",
     "status": "completed"
    },
    "tags": []
   },
   "source": [
    "We see that the most correlated variables are (ApplicantIncome - LoanAmount) and (Credit_History - Loan_Status).\n",
    "\n"
   ]
  },
  {
   "cell_type": "markdown",
   "metadata": {
    "papermill": {
     "duration": 0.193324,
     "end_time": "2021-04-02T05:44:39.760831",
     "exception": false,
     "start_time": "2021-04-02T05:44:39.567507",
     "status": "completed"
    },
    "tags": []
   },
   "source": [
    "# Missing Value and Outlier Treatment\n"
   ]
  },
  {
   "cell_type": "markdown",
   "metadata": {
    "papermill": {
     "duration": 0.196288,
     "end_time": "2021-04-02T05:44:40.151334",
     "exception": false,
     "start_time": "2021-04-02T05:44:39.955046",
     "status": "completed"
    },
    "tags": []
   },
   "source": [
    "After exploring all the variables in our data, we can now impute the missing values and treat the outliers because missing data and outliers can have adverse effect on the model performance."
   ]
  },
  {
   "cell_type": "markdown",
   "metadata": {
    "papermill": {
     "duration": 0.19547,
     "end_time": "2021-04-02T05:44:40.543952",
     "exception": false,
     "start_time": "2021-04-02T05:44:40.348482",
     "status": "completed"
    },
    "tags": []
   },
   "source": [
    "# Missing value imputation"
   ]
  },
  {
   "cell_type": "markdown",
   "metadata": {
    "papermill": {
     "duration": 0.195611,
     "end_time": "2021-04-02T05:44:40.936682",
     "exception": false,
     "start_time": "2021-04-02T05:44:40.741071",
     "status": "completed"
    },
    "tags": []
   },
   "source": [
    "Let’s list out feature-wise count of missing values.\n",
    "\n"
   ]
  },
  {
   "cell_type": "code",
   "execution_count": 69,
   "metadata": {
    "execution": {
     "iopub.execute_input": "2021-04-02T05:44:41.334001Z",
     "iopub.status.busy": "2021-04-02T05:44:41.333047Z",
     "iopub.status.idle": "2021-04-02T05:44:41.337193Z",
     "shell.execute_reply": "2021-04-02T05:44:41.337724Z"
    },
    "papermill": {
     "duration": 0.206036,
     "end_time": "2021-04-02T05:44:41.337895",
     "exception": false,
     "start_time": "2021-04-02T05:44:41.131859",
     "status": "completed"
    },
    "tags": []
   },
   "outputs": [
    {
     "data": {
      "text/plain": [
       "Loan_ID               0\n",
       "Gender               13\n",
       "Married               3\n",
       "Dependents           15\n",
       "Education             0\n",
       "Self_Employed        32\n",
       "ApplicantIncome       0\n",
       "CoapplicantIncome     0\n",
       "LoanAmount           22\n",
       "Loan_Amount_Term     14\n",
       "Credit_History       50\n",
       "Property_Area         0\n",
       "Loan_Status           0\n",
       "dtype: int64"
      ]
     },
     "execution_count": 69,
     "metadata": {},
     "output_type": "execute_result"
    }
   ],
   "source": [
    "train.isnull().sum()"
   ]
  },
  {
   "cell_type": "markdown",
   "metadata": {
    "papermill": {
     "duration": 0.232924,
     "end_time": "2021-04-02T05:44:41.765896",
     "exception": false,
     "start_time": "2021-04-02T05:44:41.532972",
     "status": "completed"
    },
    "tags": []
   },
   "source": [
    "There are missing values in Gender, Married, Dependents, Self_Employed, LoanAmount, Loan_Amount_Term and Credit_History features.\n",
    "\n",
    "We will treat the missing values in all the features one by one.\n",
    "\n",
    "We can consider these methods to fill the missing values:\n",
    "\n",
    "For numerical variables: imputation using mean or median\n",
    "\n",
    "For categorical variables: imputation using mode\n",
    "\n",
    "There are very less missing values in Gender, Married, Dependents, Credit_History and Self_Employed features so we can fill them using the mode of the features"
   ]
  },
  {
   "cell_type": "code",
   "execution_count": 70,
   "metadata": {
    "execution": {
     "iopub.execute_input": "2021-04-02T05:44:42.157532Z",
     "iopub.status.busy": "2021-04-02T05:44:42.156941Z",
     "iopub.status.idle": "2021-04-02T05:44:42.170229Z",
     "shell.execute_reply": "2021-04-02T05:44:42.170724Z"
    },
    "papermill": {
     "duration": 0.210275,
     "end_time": "2021-04-02T05:44:42.170925",
     "exception": false,
     "start_time": "2021-04-02T05:44:41.960650",
     "status": "completed"
    },
    "tags": []
   },
   "outputs": [],
   "source": [
    "train[\"Gender\"].fillna(train[\"Gender\"].mode()[0],inplace=True)\n",
    "train[\"Married\"].fillna(train[\"Married\"].mode()[0],inplace=True)\n",
    "train['Dependents'].fillna(train[\"Dependents\"].mode()[0],inplace=True)\n",
    "train[\"Self_Employed\"].fillna(train[\"Self_Employed\"].mode()[0],inplace=True)\n",
    "train[\"Credit_History\"].fillna(train[\"Credit_History\"].mode()[0],inplace=True)"
   ]
  },
  {
   "cell_type": "markdown",
   "metadata": {
    "papermill": {
     "duration": 0.193754,
     "end_time": "2021-04-02T05:44:42.560683",
     "exception": false,
     "start_time": "2021-04-02T05:44:42.366929",
     "status": "completed"
    },
    "tags": []
   },
   "source": [
    "Now let’s try to find a way to fill the missing values in Loan_Amount_Term. We will look at the value count of the Loan amount term variable.\n",
    "\n"
   ]
  },
  {
   "cell_type": "code",
   "execution_count": 71,
   "metadata": {
    "execution": {
     "iopub.execute_input": "2021-04-02T05:44:42.954725Z",
     "iopub.status.busy": "2021-04-02T05:44:42.954120Z",
     "iopub.status.idle": "2021-04-02T05:44:42.964570Z",
     "shell.execute_reply": "2021-04-02T05:44:42.963860Z"
    },
    "papermill": {
     "duration": 0.210133,
     "end_time": "2021-04-02T05:44:42.964723",
     "exception": false,
     "start_time": "2021-04-02T05:44:42.754590",
     "status": "completed"
    },
    "tags": []
   },
   "outputs": [
    {
     "data": {
      "text/plain": [
       "360.0    512\n",
       "180.0     44\n",
       "480.0     15\n",
       "300.0     13\n",
       "84.0       4\n",
       "240.0      4\n",
       "120.0      3\n",
       "36.0       2\n",
       "60.0       2\n",
       "12.0       1\n",
       "Name: Loan_Amount_Term, dtype: int64"
      ]
     },
     "execution_count": 71,
     "metadata": {},
     "output_type": "execute_result"
    }
   ],
   "source": [
    "train[\"Loan_Amount_Term\"].value_counts()"
   ]
  },
  {
   "cell_type": "markdown",
   "metadata": {
    "papermill": {
     "duration": 0.236612,
     "end_time": "2021-04-02T05:44:43.401660",
     "exception": false,
     "start_time": "2021-04-02T05:44:43.165048",
     "status": "completed"
    },
    "tags": []
   },
   "source": [
    "It can be seen that in loan amount term variable, the value of 360 is repeating the most. So we will replace the missing values in this variable using the mode of this variable."
   ]
  },
  {
   "cell_type": "code",
   "execution_count": 72,
   "metadata": {
    "execution": {
     "iopub.execute_input": "2021-04-02T05:44:43.833530Z",
     "iopub.status.busy": "2021-04-02T05:44:43.832833Z",
     "iopub.status.idle": "2021-04-02T05:44:43.836441Z",
     "shell.execute_reply": "2021-04-02T05:44:43.835783Z"
    },
    "papermill": {
     "duration": 0.211123,
     "end_time": "2021-04-02T05:44:43.836588",
     "exception": false,
     "start_time": "2021-04-02T05:44:43.625465",
     "status": "completed"
    },
    "tags": []
   },
   "outputs": [],
   "source": [
    "train[\"Loan_Amount_Term\"].fillna(train[\"Loan_Amount_Term\"].mode()[0],inplace=True)"
   ]
  },
  {
   "cell_type": "code",
   "execution_count": 73,
   "metadata": {
    "execution": {
     "iopub.execute_input": "2021-04-02T05:44:44.242795Z",
     "iopub.status.busy": "2021-04-02T05:44:44.241833Z",
     "iopub.status.idle": "2021-04-02T05:44:44.246405Z",
     "shell.execute_reply": "2021-04-02T05:44:44.247008Z"
    },
    "papermill": {
     "duration": 0.209329,
     "end_time": "2021-04-02T05:44:44.247197",
     "exception": false,
     "start_time": "2021-04-02T05:44:44.037868",
     "status": "completed"
    },
    "tags": []
   },
   "outputs": [
    {
     "data": {
      "text/plain": [
       "360.0    526\n",
       "180.0     44\n",
       "480.0     15\n",
       "300.0     13\n",
       "84.0       4\n",
       "240.0      4\n",
       "120.0      3\n",
       "36.0       2\n",
       "60.0       2\n",
       "12.0       1\n",
       "Name: Loan_Amount_Term, dtype: int64"
      ]
     },
     "execution_count": 73,
     "metadata": {},
     "output_type": "execute_result"
    }
   ],
   "source": [
    "train[\"Loan_Amount_Term\"].value_counts()"
   ]
  },
  {
   "cell_type": "markdown",
   "metadata": {
    "papermill": {
     "duration": 0.195535,
     "end_time": "2021-04-02T05:44:44.643122",
     "exception": false,
     "start_time": "2021-04-02T05:44:44.447587",
     "status": "completed"
    },
    "tags": []
   },
   "source": [
    "Now we will see the LoanAmount variable. As it is a numerical variable, we can use mean or median to impute the missing values.\n",
    "\n",
    "We will use median to fill the null values as earlier we saw that loan amount have outliers so the mean will not be the proper approach as it is highly affected by the presence of outliers."
   ]
  },
  {
   "cell_type": "code",
   "execution_count": 74,
   "metadata": {
    "execution": {
     "iopub.execute_input": "2021-04-02T05:44:45.043450Z",
     "iopub.status.busy": "2021-04-02T05:44:45.042803Z",
     "iopub.status.idle": "2021-04-02T05:44:45.045039Z",
     "shell.execute_reply": "2021-04-02T05:44:45.044406Z"
    },
    "papermill": {
     "duration": 0.206203,
     "end_time": "2021-04-02T05:44:45.045185",
     "exception": false,
     "start_time": "2021-04-02T05:44:44.838982",
     "status": "completed"
    },
    "tags": []
   },
   "outputs": [],
   "source": [
    "train[\"LoanAmount\"].fillna(train[\"LoanAmount\"].median(),inplace=True)"
   ]
  },
  {
   "cell_type": "markdown",
   "metadata": {
    "papermill": {
     "duration": 0.1957,
     "end_time": "2021-04-02T05:44:45.437057",
     "exception": false,
     "start_time": "2021-04-02T05:44:45.241357",
     "status": "completed"
    },
    "tags": []
   },
   "source": [
    "Now lets check whether all the missing values are filled in the dataset"
   ]
  },
  {
   "cell_type": "code",
   "execution_count": 75,
   "metadata": {
    "execution": {
     "iopub.execute_input": "2021-04-02T05:44:45.957656Z",
     "iopub.status.busy": "2021-04-02T05:44:45.954970Z",
     "iopub.status.idle": "2021-04-02T05:44:45.963374Z",
     "shell.execute_reply": "2021-04-02T05:44:45.963836Z"
    },
    "papermill": {
     "duration": 0.331087,
     "end_time": "2021-04-02T05:44:45.964024",
     "exception": false,
     "start_time": "2021-04-02T05:44:45.632937",
     "status": "completed"
    },
    "tags": []
   },
   "outputs": [
    {
     "data": {
      "text/plain": [
       "Loan_ID              0\n",
       "Gender               0\n",
       "Married              0\n",
       "Dependents           0\n",
       "Education            0\n",
       "Self_Employed        0\n",
       "ApplicantIncome      0\n",
       "CoapplicantIncome    0\n",
       "LoanAmount           0\n",
       "Loan_Amount_Term     0\n",
       "Credit_History       0\n",
       "Property_Area        0\n",
       "Loan_Status          0\n",
       "dtype: int64"
      ]
     },
     "execution_count": 75,
     "metadata": {},
     "output_type": "execute_result"
    }
   ],
   "source": [
    "train.isnull().sum()"
   ]
  },
  {
   "cell_type": "markdown",
   "metadata": {
    "papermill": {
     "duration": 0.196429,
     "end_time": "2021-04-02T05:44:46.360295",
     "exception": false,
     "start_time": "2021-04-02T05:44:46.163866",
     "status": "completed"
    },
    "tags": []
   },
   "source": [
    "As we can see that all the missing values have been filled in the train dataset.\n",
    "\n",
    "Let’s fill all the missing values in the test dataset too with the same approach"
   ]
  },
  {
   "cell_type": "code",
   "execution_count": 76,
   "metadata": {
    "execution": {
     "iopub.execute_input": "2021-04-02T05:44:46.763579Z",
     "iopub.status.busy": "2021-04-02T05:44:46.762880Z",
     "iopub.status.idle": "2021-04-02T05:44:46.766841Z",
     "shell.execute_reply": "2021-04-02T05:44:46.766232Z"
    },
    "papermill": {
     "duration": 0.209125,
     "end_time": "2021-04-02T05:44:46.767001",
     "exception": false,
     "start_time": "2021-04-02T05:44:46.557876",
     "status": "completed"
    },
    "tags": []
   },
   "outputs": [
    {
     "data": {
      "text/plain": [
       "Loan_ID                      0\n",
       "Gender                      11\n",
       "Married                      0\n",
       "Dependents                  10\n",
       "Education                    0\n",
       "Self_Employed               23\n",
       "ApplicantIncomeMonthly       0\n",
       "CoapplicantIncomeMonthly     0\n",
       "LoanAmountThousands          5\n",
       "Loan_Amount_Term_Months      6\n",
       "Credit_History              29\n",
       "Property_Area                0\n",
       "dtype: int64"
      ]
     },
     "execution_count": 76,
     "metadata": {},
     "output_type": "execute_result"
    }
   ],
   "source": [
    "test.isnull().sum()"
   ]
  },
  {
   "cell_type": "code",
   "execution_count": 77,
   "metadata": {
    "execution": {
     "iopub.execute_input": "2021-04-02T05:44:47.219203Z",
     "iopub.status.busy": "2021-04-02T05:44:47.218426Z",
     "iopub.status.idle": "2021-04-02T05:44:47.221599Z",
     "shell.execute_reply": "2021-04-02T05:44:47.221071Z"
    },
    "papermill": {
     "duration": 0.216967,
     "end_time": "2021-04-02T05:44:47.221745",
     "exception": false,
     "start_time": "2021-04-02T05:44:47.004778",
     "status": "completed"
    },
    "tags": []
   },
   "outputs": [],
   "source": [
    "test[\"Gender\"].fillna(test[\"Gender\"].mode()[0],inplace=True)\n",
    "test['Dependents'].fillna(test[\"Dependents\"].mode()[0],inplace=True)\n",
    "test[\"Self_Employed\"].fillna(test[\"Self_Employed\"].mode()[0],inplace=True)\n",
    "test[\"Loan_Amount_Term_Months\"].fillna(test[\"Loan_Amount_Term_Months\"].mode()[0],inplace=True)\n",
    "test[\"Credit_History\"].fillna(test[\"Credit_History\"].mode()[0],inplace=True)\n",
    "test[\"LoanAmountThousands\"].fillna(test[\"LoanAmountThousands\"].median(),inplace=True)"
   ]
  },
  {
   "cell_type": "code",
   "execution_count": 78,
   "metadata": {
    "execution": {
     "iopub.execute_input": "2021-04-02T05:44:47.628784Z",
     "iopub.status.busy": "2021-04-02T05:44:47.628141Z",
     "iopub.status.idle": "2021-04-02T05:44:47.633034Z",
     "shell.execute_reply": "2021-04-02T05:44:47.633478Z"
    },
    "papermill": {
     "duration": 0.21228,
     "end_time": "2021-04-02T05:44:47.633645",
     "exception": false,
     "start_time": "2021-04-02T05:44:47.421365",
     "status": "completed"
    },
    "tags": []
   },
   "outputs": [
    {
     "data": {
      "text/plain": [
       "Loan_ID                     0\n",
       "Gender                      0\n",
       "Married                     0\n",
       "Dependents                  0\n",
       "Education                   0\n",
       "Self_Employed               0\n",
       "ApplicantIncomeMonthly      0\n",
       "CoapplicantIncomeMonthly    0\n",
       "LoanAmountThousands         0\n",
       "Loan_Amount_Term_Months     0\n",
       "Credit_History              0\n",
       "Property_Area               0\n",
       "dtype: int64"
      ]
     },
     "execution_count": 78,
     "metadata": {},
     "output_type": "execute_result"
    }
   ],
   "source": [
    "test.isnull().sum()"
   ]
  },
  {
   "cell_type": "code",
   "execution_count": 79,
   "metadata": {
    "execution": {
     "iopub.execute_input": "2021-04-02T05:44:48.056081Z",
     "iopub.status.busy": "2021-04-02T05:44:48.052021Z",
     "iopub.status.idle": "2021-04-02T05:44:48.270267Z",
     "shell.execute_reply": "2021-04-02T05:44:48.269631Z"
    },
    "papermill": {
     "duration": 0.438844,
     "end_time": "2021-04-02T05:44:48.270431",
     "exception": false,
     "start_time": "2021-04-02T05:44:47.831587",
     "status": "completed"
    },
    "tags": []
   },
   "outputs": [
    {
     "data": {
      "image/png": "[encoded data removed]",
      "text/plain": [
       "<Figure size 432x288 with 1 Axes>"
      ]
     },
     "metadata": {
      "needs_background": "light"
     },
     "output_type": "display_data"
    }
   ],
   "source": [
    "sns.distplot(train[\"LoanAmount\"]);"
   ]
  },
  {
   "cell_type": "code",
   "execution_count": 80,
   "metadata": {
    "execution": {
     "iopub.execute_input": "2021-04-02T05:44:48.694369Z",
     "iopub.status.busy": "2021-04-02T05:44:48.693487Z",
     "iopub.status.idle": "2021-04-02T05:44:48.864129Z",
     "shell.execute_reply": "2021-04-02T05:44:48.863539Z"
    },
    "papermill": {
     "duration": 0.394134,
     "end_time": "2021-04-02T05:44:48.864281",
     "exception": false,
     "start_time": "2021-04-02T05:44:48.470147",
     "status": "completed"
    },
    "tags": []
   },
   "outputs": [
    {
     "data": {
      "text/plain": [
       "<AxesSubplot:>"
      ]
     },
     "execution_count": 80,
     "metadata": {},
     "output_type": "execute_result"
    },
    {
     "data": {
      "image/png": "[encoded data removed]",
      "text/plain": [
       "<Figure size 432x288 with 1 Axes>"
      ]
     },
     "metadata": {
      "needs_background": "light"
     },
     "output_type": "display_data"
    }
   ],
   "source": [
    "train['LoanAmount'].hist(bins=20)"
   ]
  },
  {
   "cell_type": "markdown",
   "metadata": {
    "papermill": {
     "duration": 0.199344,
     "end_time": "2021-04-02T05:44:49.271039",
     "exception": false,
     "start_time": "2021-04-02T05:44:49.071695",
     "status": "completed"
    },
    "tags": []
   },
   "source": [
    "\n",
    "Due to these outliers bulk of the data in the loan amount is at the left and the right tail is longer. This is called right skewness.\n",
    "\n",
    "One way to remove the skewness is by doing the log transformation. As we take the log transformation, it does not affect the smaller values much, but reduces the larger values.\n",
    "\n",
    "So, we get a distribution similar to normal distribution.\n",
    "\n",
    "Let’s visualize the effect of log transformation.\n",
    "\n",
    "We will do the similar changes to the test file simultaneously."
   ]
  },
  {
   "cell_type": "code",
   "execution_count": 81,
   "metadata": {
    "execution": {
     "iopub.execute_input": "2021-04-02T05:44:49.703746Z",
     "iopub.status.busy": "2021-04-02T05:44:49.701643Z",
     "iopub.status.idle": "2021-04-02T05:44:49.853037Z",
     "shell.execute_reply": "2021-04-02T05:44:49.852392Z"
    },
    "papermill": {
     "duration": 0.3786,
     "end_time": "2021-04-02T05:44:49.853177",
     "exception": false,
     "start_time": "2021-04-02T05:44:49.474577",
     "status": "completed"
    },
    "tags": []
   },
   "outputs": [
    {
     "data": {
      "text/plain": [
       "<AxesSubplot:>"
      ]
     },
     "execution_count": 81,
     "metadata": {},
     "output_type": "execute_result"
    },
    {
     "data": {
      "image/png": "[encoded data removed]",
      "text/plain": [
       "<Figure size 432x288 with 1 Axes>"
      ]
     },
     "metadata": {
      "needs_background": "light"
     },
     "output_type": "display_data"
    }
   ],
   "source": [
    "train['LoanAmount_log'] = np.log(train['LoanAmount'])\n",
    "train['LoanAmount_log'].hist(bins=20)"
   ]
  },
  {
   "cell_type": "code",
   "execution_count": 82,
   "metadata": {
    "execution": {
     "iopub.execute_input": "2021-04-02T05:44:50.280250Z",
     "iopub.status.busy": "2021-04-02T05:44:50.275184Z",
     "iopub.status.idle": "2021-04-02T05:44:50.486131Z",
     "shell.execute_reply": "2021-04-02T05:44:50.485585Z"
    },
    "papermill": {
     "duration": 0.431433,
     "end_time": "2021-04-02T05:44:50.486268",
     "exception": false,
     "start_time": "2021-04-02T05:44:50.054835",
     "status": "completed"
    },
    "tags": []
   },
   "outputs": [
    {
     "data": {
      "text/plain": [
       "<AxesSubplot:xlabel='LoanAmount_log', ylabel='Density'>"
      ]
     },
     "execution_count": 82,
     "metadata": {},
     "output_type": "execute_result"
    },
    {
     "data": {
      "image/png": "[encoded data removed]",
      "text/plain": [
       "<Figure size 432x288 with 1 Axes>"
      ]
     },
     "metadata": {
      "needs_background": "light"
     },
     "output_type": "display_data"
    }
   ],
   "source": [
    "sns.distplot(train[\"LoanAmount_log\"])"
   ]
  },
  {
   "cell_type": "markdown",
   "metadata": {
    "papermill": {
     "duration": 0.201695,
     "end_time": "2021-04-02T05:44:50.889662",
     "exception": false,
     "start_time": "2021-04-02T05:44:50.687967",
     "status": "completed"
    },
    "tags": []
   },
   "source": [
    "Let's have a look in test set [LoanAmount]"
   ]
  },
  {
   "cell_type": "code",
   "execution_count": 83,
   "metadata": {
    "execution": {
     "iopub.execute_input": "2021-04-02T05:44:51.311354Z",
     "iopub.status.busy": "2021-04-02T05:44:51.301816Z",
     "iopub.status.idle": "2021-04-02T05:44:51.479448Z",
     "shell.execute_reply": "2021-04-02T05:44:51.478889Z"
    },
    "papermill": {
     "duration": 0.386403,
     "end_time": "2021-04-02T05:44:51.479649",
     "exception": false,
     "start_time": "2021-04-02T05:44:51.093246",
     "status": "completed"
    },
    "tags": []
   },
   "outputs": [
    {
     "data": {
      "text/plain": [
       "<AxesSubplot:>"
      ]
     },
     "execution_count": 83,
     "metadata": {},
     "output_type": "execute_result"
    },
    {
     "data": {
      "image/png": "[encoded data removed]",
      "text/plain": [
       "<Figure size 432x288 with 1 Axes>"
      ]
     },
     "metadata": {
      "needs_background": "light"
     },
     "output_type": "display_data"
    }
   ],
   "source": [
    "test[\"LoanAmount_log\"]=np.log(train[\"LoanAmount\"])\n",
    "test['LoanAmount_log'].hist(bins=20)\n"
   ]
  },
  {
   "cell_type": "code",
   "execution_count": 84,
   "metadata": {
    "execution": {
     "iopub.execute_input": "2021-04-02T05:44:51.906910Z",
     "iopub.status.busy": "2021-04-02T05:44:51.906274Z",
     "iopub.status.idle": "2021-04-02T05:44:52.096235Z",
     "shell.execute_reply": "2021-04-02T05:44:52.095690Z"
    },
    "papermill": {
     "duration": 0.41344,
     "end_time": "2021-04-02T05:44:52.096379",
     "exception": false,
     "start_time": "2021-04-02T05:44:51.682939",
     "status": "completed"
    },
    "tags": []
   },
   "outputs": [
    {
     "data": {
      "text/plain": [
       "<AxesSubplot:xlabel='LoanAmount_log', ylabel='Density'>"
      ]
     },
     "execution_count": 84,
     "metadata": {},
     "output_type": "execute_result"
    },
    {
     "data": {
      "image/png": "[encoded data removed]",
      "text/plain": [
       "<Figure size 432x288 with 1 Axes>"
      ]
     },
     "metadata": {
      "needs_background": "light"
     },
     "output_type": "display_data"
    }
   ],
   "source": [
    "sns.distplot(test[\"LoanAmount_log\"])"
   ]
  },
  {
   "cell_type": "markdown",
   "metadata": {
    "papermill": {
     "duration": 0.20546,
     "end_time": "2021-04-02T05:44:52.506983",
     "exception": false,
     "start_time": "2021-04-02T05:44:52.301523",
     "status": "completed"
    },
    "tags": []
   },
   "source": [
    "# Feature Engineering"
   ]
  },
  {
   "cell_type": "markdown",
   "metadata": {
    "papermill": {
     "duration": 0.205464,
     "end_time": "2021-04-02T05:44:52.917442",
     "exception": false,
     "start_time": "2021-04-02T05:44:52.711978",
     "status": "completed"
    },
    "tags": []
   },
   "source": [
    "Based on the domain knowledge, we can come up with new features that might affect the target variable. We will create the following three new features:\n",
    "\n",
    "Total Income - As discussed during bivariate analysis we will combine the Applicant Income and Coapplicant Income. If the total income is high, chances of loan approval might also be high.\n",
    "\n",
    "EMI - EMI is the monthly amount to be paid by the applicant to repay the loan. Idea behind making this variable is that people who have high EMI’s might find it difficult to pay back the loan. We can calculate the EMI by taking the ratio of loan amount with respect to loan amount term.\n",
    "\n",
    "Balance Income - This is the income left after the EMI has been paid. Idea behind creating this variable is that if this value is high, the chances are high that a person will repay the loan and hence increasing the chances of loan approval."
   ]
  },
  {
   "cell_type": "code",
   "execution_count": 85,
   "metadata": {
    "execution": {
     "iopub.execute_input": "2021-04-02T05:44:53.336047Z",
     "iopub.status.busy": "2021-04-02T05:44:53.335078Z",
     "iopub.status.idle": "2021-04-02T05:44:53.338566Z",
     "shell.execute_reply": "2021-04-02T05:44:53.337962Z"
    },
    "papermill": {
     "duration": 0.214385,
     "end_time": "2021-04-02T05:44:53.338697",
     "exception": false,
     "start_time": "2021-04-02T05:44:53.124312",
     "status": "completed"
    },
    "tags": []
   },
   "outputs": [],
   "source": [
    "train[\"TotalIncome\"]=train[\"ApplicantIncome\"]+train[\"CoapplicantIncome\"]"
   ]
  },
  {
   "cell_type": "markdown",
   "metadata": {
    "papermill": {
     "duration": 0.204834,
     "end_time": "2021-04-02T05:44:53.749136",
     "exception": false,
     "start_time": "2021-04-02T05:44:53.544302",
     "status": "completed"
    },
    "tags": []
   },
   "source": [
    "just have a look of train dataset \"TotalIncome\""
   ]
  },
  {
   "cell_type": "code",
   "execution_count": 86,
   "metadata": {
    "execution": {
     "iopub.execute_input": "2021-04-02T05:44:54.169350Z",
     "iopub.status.busy": "2021-04-02T05:44:54.164456Z",
     "iopub.status.idle": "2021-04-02T05:44:54.172387Z",
     "shell.execute_reply": "2021-04-02T05:44:54.173003Z"
    },
    "papermill": {
     "duration": 0.21878,
     "end_time": "2021-04-02T05:44:54.173169",
     "exception": false,
     "start_time": "2021-04-02T05:44:53.954389",
     "status": "completed"
    },
    "tags": []
   },
   "outputs": [
    {
     "data": {
      "text/html": [
       "<div>\n",
       "<style scoped>\n",
       "    .dataframe tbody tr th:only-of-type {\n",
       "        vertical-align: middle;\n",
       "    }\n",
       "\n",
       "    .dataframe tbody tr th {\n",
       "        vertical-align: top;\n",
       "    }\n",
       "\n",
       "    .dataframe thead th {\n",
       "        text-align: right;\n",
       "    }\n",
       "</style>\n",
       "<table border=\"1\" class=\"dataframe\">\n",
       "  <thead>\n",
       "    <tr style=\"text-align: right;\">\n",
       "      <th></th>\n",
       "      <th>TotalIncome</th>\n",
       "    </tr>\n",
       "  </thead>\n",
       "  <tbody>\n",
       "    <tr>\n",
       "      <th>0</th>\n",
       "      <td>5849.0</td>\n",
       "    </tr>\n",
       "    <tr>\n",
       "      <th>1</th>\n",
       "      <td>6091.0</td>\n",
       "    </tr>\n",
       "    <tr>\n",
       "      <th>2</th>\n",
       "      <td>3000.0</td>\n",
       "    </tr>\n",
       "    <tr>\n",
       "      <th>3</th>\n",
       "      <td>4941.0</td>\n",
       "    </tr>\n",
       "    <tr>\n",
       "      <th>4</th>\n",
       "      <td>6000.0</td>\n",
       "    </tr>\n",
       "  </tbody>\n",
       "</table>\n",
       "</div>"
      ],
      "text/plain": [
       "   TotalIncome\n",
       "0       5849.0\n",
       "1       6091.0\n",
       "2       3000.0\n",
       "3       4941.0\n",
       "4       6000.0"
      ]
     },
     "execution_count": 86,
     "metadata": {},
     "output_type": "execute_result"
    }
   ],
   "source": [
    "train[[\"TotalIncome\"]].head()\n"
   ]
  },
  {
   "cell_type": "code",
   "execution_count": 87,
   "metadata": {
    "execution": {
     "iopub.execute_input": "2021-04-02T05:44:54.589784Z",
     "iopub.status.busy": "2021-04-02T05:44:54.589175Z",
     "iopub.status.idle": "2021-04-02T05:44:54.596669Z",
     "shell.execute_reply": "2021-04-02T05:44:54.597263Z"
    },
    "papermill": {
     "duration": 0.219149,
     "end_time": "2021-04-02T05:44:54.597442",
     "exception": false,
     "start_time": "2021-04-02T05:44:54.378293",
     "status": "completed"
    },
    "tags": []
   },
   "outputs": [
    {
     "data": {
      "text/plain": [
       "Loan_ID                      object\n",
       "Gender                       object\n",
       "Married                      object\n",
       "Dependents                   object\n",
       "Education                    object\n",
       "Self_Employed                object\n",
       "ApplicantIncomeMonthly        int64\n",
       "CoapplicantIncomeMonthly      int64\n",
       "LoanAmountThousands         float64\n",
       "Loan_Amount_Term_Months     float64\n",
       "Credit_History              float64\n",
       "Property_Area                object\n",
       "LoanAmount_log              float64\n",
       "dtype: object"
      ]
     },
     "execution_count": 87,
     "metadata": {},
     "output_type": "execute_result"
    }
   ],
   "source": [
    "test.dtypes"
   ]
  },
  {
   "cell_type": "code",
   "execution_count": 88,
   "metadata": {
    "execution": {
     "iopub.execute_input": "2021-04-02T05:44:55.014278Z",
     "iopub.status.busy": "2021-04-02T05:44:55.013602Z",
     "iopub.status.idle": "2021-04-02T05:44:55.019030Z",
     "shell.execute_reply": "2021-04-02T05:44:55.019492Z"
    },
    "papermill": {
     "duration": 0.216852,
     "end_time": "2021-04-02T05:44:55.019656",
     "exception": false,
     "start_time": "2021-04-02T05:44:54.802804",
     "status": "completed"
    },
    "tags": []
   },
   "outputs": [],
   "source": [
    "test[\"TotalIncome\"]=test[\"ApplicantIncomeMonthly\"]+test[\"CoapplicantIncomeMonthly\"]\n"
   ]
  },
  {
   "cell_type": "markdown",
   "metadata": {
    "papermill": {
     "duration": 0.206802,
     "end_time": "2021-04-02T05:44:55.432490",
     "exception": false,
     "start_time": "2021-04-02T05:44:55.225688",
     "status": "completed"
    },
    "tags": []
   },
   "source": [
    "Just have a look of test dataset \"TotalIncome\""
   ]
  },
  {
   "cell_type": "code",
   "execution_count": 89,
   "metadata": {
    "execution": {
     "iopub.execute_input": "2021-04-02T05:44:55.855210Z",
     "iopub.status.busy": "2021-04-02T05:44:55.854183Z",
     "iopub.status.idle": "2021-04-02T05:44:55.858080Z",
     "shell.execute_reply": "2021-04-02T05:44:55.858510Z"
    },
    "papermill": {
     "duration": 0.219613,
     "end_time": "2021-04-02T05:44:55.858678",
     "exception": false,
     "start_time": "2021-04-02T05:44:55.639065",
     "status": "completed"
    },
    "tags": []
   },
   "outputs": [
    {
     "data": {
      "text/html": [
       "<div>\n",
       "<style scoped>\n",
       "    .dataframe tbody tr th:only-of-type {\n",
       "        vertical-align: middle;\n",
       "    }\n",
       "\n",
       "    .dataframe tbody tr th {\n",
       "        vertical-align: top;\n",
       "    }\n",
       "\n",
       "    .dataframe thead th {\n",
       "        text-align: right;\n",
       "    }\n",
       "</style>\n",
       "<table border=\"1\" class=\"dataframe\">\n",
       "  <thead>\n",
       "    <tr style=\"text-align: right;\">\n",
       "      <th></th>\n",
       "      <th>TotalIncome</th>\n",
       "    </tr>\n",
       "  </thead>\n",
       "  <tbody>\n",
       "    <tr>\n",
       "      <th>0</th>\n",
       "      <td>5720</td>\n",
       "    </tr>\n",
       "    <tr>\n",
       "      <th>1</th>\n",
       "      <td>4576</td>\n",
       "    </tr>\n",
       "    <tr>\n",
       "      <th>2</th>\n",
       "      <td>6800</td>\n",
       "    </tr>\n",
       "    <tr>\n",
       "      <th>3</th>\n",
       "      <td>4886</td>\n",
       "    </tr>\n",
       "    <tr>\n",
       "      <th>4</th>\n",
       "      <td>3276</td>\n",
       "    </tr>\n",
       "  </tbody>\n",
       "</table>\n",
       "</div>"
      ],
      "text/plain": [
       "   TotalIncome\n",
       "0         5720\n",
       "1         4576\n",
       "2         6800\n",
       "3         4886\n",
       "4         3276"
      ]
     },
     "execution_count": 89,
     "metadata": {},
     "output_type": "execute_result"
    }
   ],
   "source": [
    "test[[\"TotalIncome\"]].head()"
   ]
  },
  {
   "cell_type": "code",
   "execution_count": 90,
   "metadata": {
    "execution": {
     "iopub.execute_input": "2021-04-02T05:44:56.276903Z",
     "iopub.status.busy": "2021-04-02T05:44:56.276001Z",
     "iopub.status.idle": "2021-04-02T05:44:56.520466Z",
     "shell.execute_reply": "2021-04-02T05:44:56.519806Z"
    },
    "papermill": {
     "duration": 0.454672,
     "end_time": "2021-04-02T05:44:56.520622",
     "exception": false,
     "start_time": "2021-04-02T05:44:56.065950",
     "status": "completed"
    },
    "tags": []
   },
   "outputs": [
    {
     "data": {
      "text/plain": [
       "<AxesSubplot:xlabel='TotalIncome', ylabel='Density'>"
      ]
     },
     "execution_count": 90,
     "metadata": {},
     "output_type": "execute_result"
    },
    {
     "data": {
      "image/png": "[encoded data removed]",
      "text/plain": [
       "<Figure size 432x288 with 1 Axes>"
      ]
     },
     "metadata": {
      "needs_background": "light"
     },
     "output_type": "display_data"
    }
   ],
   "source": [
    "sns.distplot(train[\"TotalIncome\"])"
   ]
  },
  {
   "cell_type": "markdown",
   "metadata": {
    "papermill": {
     "duration": 0.20942,
     "end_time": "2021-04-02T05:44:56.940017",
     "exception": false,
     "start_time": "2021-04-02T05:44:56.730597",
     "status": "completed"
    },
    "tags": []
   },
   "source": [
    "We can see it is shifted towards left, i.e., the distribution is right skewed. So, let’s take the log transformation to make the distribution normal."
   ]
  },
  {
   "cell_type": "code",
   "execution_count": 91,
   "metadata": {
    "execution": {
     "iopub.execute_input": "2021-04-02T05:44:57.381256Z",
     "iopub.status.busy": "2021-04-02T05:44:57.380546Z",
     "iopub.status.idle": "2021-04-02T05:44:57.579563Z",
     "shell.execute_reply": "2021-04-02T05:44:57.579019Z"
    },
    "papermill": {
     "duration": 0.431265,
     "end_time": "2021-04-02T05:44:57.579706",
     "exception": false,
     "start_time": "2021-04-02T05:44:57.148441",
     "status": "completed"
    },
    "tags": []
   },
   "outputs": [
    {
     "data": {
      "text/plain": [
       "<AxesSubplot:xlabel='TotalIncome_log', ylabel='Density'>"
      ]
     },
     "execution_count": 91,
     "metadata": {},
     "output_type": "execute_result"
    },
    {
     "data": {
      "image/png": "[encoded data removed]",
      "text/plain": [
       "<Figure size 432x288 with 1 Axes>"
      ]
     },
     "metadata": {
      "needs_background": "light"
     },
     "output_type": "display_data"
    }
   ],
   "source": [
    "train[\"TotalIncome_log\"]=np.log(train[\"TotalIncome\"])\n",
    "sns.distplot(train[\"TotalIncome_log\"])\n"
   ]
  },
  {
   "cell_type": "markdown",
   "metadata": {
    "papermill": {
     "duration": 0.24692,
     "end_time": "2021-04-02T05:44:58.036664",
     "exception": false,
     "start_time": "2021-04-02T05:44:57.789744",
     "status": "completed"
    },
    "tags": []
   },
   "source": [
    "Now the distribution looks much closer to normal and effect of extreme values has been significantly subsided."
   ]
  },
  {
   "cell_type": "markdown",
   "metadata": {
    "papermill": {
     "duration": 0.208805,
     "end_time": "2021-04-02T05:44:58.455590",
     "exception": false,
     "start_time": "2021-04-02T05:44:58.246785",
     "status": "completed"
    },
    "tags": []
   },
   "source": [
    "Let’s check the distribution of test dataset Total Income."
   ]
  },
  {
   "cell_type": "code",
   "execution_count": 92,
   "metadata": {
    "execution": {
     "iopub.execute_input": "2021-04-02T05:44:58.909336Z",
     "iopub.status.busy": "2021-04-02T05:44:58.907498Z",
     "iopub.status.idle": "2021-04-02T05:44:59.158319Z",
     "shell.execute_reply": "2021-04-02T05:44:59.157792Z"
    },
    "papermill": {
     "duration": 0.493534,
     "end_time": "2021-04-02T05:44:59.158464",
     "exception": false,
     "start_time": "2021-04-02T05:44:58.664930",
     "status": "completed"
    },
    "tags": []
   },
   "outputs": [
    {
     "data": {
      "text/plain": [
       "<AxesSubplot:xlabel='TotalIncome', ylabel='Density'>"
      ]
     },
     "execution_count": 92,
     "metadata": {},
     "output_type": "execute_result"
    },
    {
     "data": {
      "image/png": "[encoded data removed]",
      "text/plain": [
       "<Figure size 432x288 with 1 Axes>"
      ]
     },
     "metadata": {
      "needs_background": "light"
     },
     "output_type": "display_data"
    }
   ],
   "source": [
    "sns.distplot(test[\"TotalIncome\"])"
   ]
  },
  {
   "cell_type": "markdown",
   "metadata": {
    "papermill": {
     "duration": 0.211471,
     "end_time": "2021-04-02T05:44:59.580128",
     "exception": false,
     "start_time": "2021-04-02T05:44:59.368657",
     "status": "completed"
    },
    "tags": []
   },
   "source": [
    "We can see it is shifted towards left, i.e., the distribution is right skewed. So, let’s take the log transformation to make the distribution normal."
   ]
  },
  {
   "cell_type": "code",
   "execution_count": 93,
   "metadata": {
    "execution": {
     "iopub.execute_input": "2021-04-02T05:45:00.030993Z",
     "iopub.status.busy": "2021-04-02T05:45:00.029903Z",
     "iopub.status.idle": "2021-04-02T05:45:00.206138Z",
     "shell.execute_reply": "2021-04-02T05:45:00.205505Z"
    },
    "papermill": {
     "duration": 0.41259,
     "end_time": "2021-04-02T05:45:00.206305",
     "exception": false,
     "start_time": "2021-04-02T05:44:59.793715",
     "status": "completed"
    },
    "tags": []
   },
   "outputs": [
    {
     "data": {
      "text/plain": [
       "<AxesSubplot:xlabel='TotalIncome_log', ylabel='Density'>"
      ]
     },
     "execution_count": 93,
     "metadata": {},
     "output_type": "execute_result"
    },
    {
     "data": {
      "image/png": "[encoded data removed]",
      "text/plain": [
       "<Figure size 432x288 with 1 Axes>"
      ]
     },
     "metadata": {
      "needs_background": "light"
     },
     "output_type": "display_data"
    }
   ],
   "source": [
    "test[\"TotalIncome_log\"] = np.log(train[\"TotalIncome\"])\n",
    "sns.distplot(test[\"TotalIncome_log\"])"
   ]
  },
  {
   "cell_type": "markdown",
   "metadata": {
    "papermill": {
     "duration": 0.213204,
     "end_time": "2021-04-02T05:45:00.633413",
     "exception": false,
     "start_time": "2021-04-02T05:45:00.420209",
     "status": "completed"
    },
    "tags": []
   },
   "source": [
    "Now the distribution looks much closer to normal and effect of extreme values has been significantly subsided."
   ]
  },
  {
   "cell_type": "markdown",
   "metadata": {
    "papermill": {
     "duration": 0.215269,
     "end_time": "2021-04-02T05:45:01.062997",
     "exception": false,
     "start_time": "2021-04-02T05:45:00.847728",
     "status": "completed"
    },
    "tags": []
   },
   "source": [
    "Now create the EMI feature."
   ]
  },
  {
   "cell_type": "code",
   "execution_count": 94,
   "metadata": {
    "execution": {
     "iopub.execute_input": "2021-04-02T05:45:01.496063Z",
     "iopub.status.busy": "2021-04-02T05:45:01.495029Z",
     "iopub.status.idle": "2021-04-02T05:45:01.500026Z",
     "shell.execute_reply": "2021-04-02T05:45:01.499413Z"
    },
    "papermill": {
     "duration": 0.224454,
     "end_time": "2021-04-02T05:45:01.500167",
     "exception": false,
     "start_time": "2021-04-02T05:45:01.275713",
     "status": "completed"
    },
    "tags": []
   },
   "outputs": [
    {
     "data": {
      "text/plain": [
       "Loan_ID                      object\n",
       "Gender                       object\n",
       "Married                      object\n",
       "Dependents                   object\n",
       "Education                    object\n",
       "Self_Employed                object\n",
       "ApplicantIncomeMonthly        int64\n",
       "CoapplicantIncomeMonthly      int64\n",
       "LoanAmountThousands         float64\n",
       "Loan_Amount_Term_Months     float64\n",
       "Credit_History              float64\n",
       "Property_Area                object\n",
       "LoanAmount_log              float64\n",
       "TotalIncome                   int64\n",
       "TotalIncome_log             float64\n",
       "dtype: object"
      ]
     },
     "execution_count": 94,
     "metadata": {},
     "output_type": "execute_result"
    }
   ],
   "source": [
    "test.dtypes"
   ]
  },
  {
   "cell_type": "code",
   "execution_count": 95,
   "metadata": {
    "execution": {
     "iopub.execute_input": "2021-04-02T05:45:01.934273Z",
     "iopub.status.busy": "2021-04-02T05:45:01.933359Z",
     "iopub.status.idle": "2021-04-02T05:45:01.936270Z",
     "shell.execute_reply": "2021-04-02T05:45:01.936741Z"
    },
    "papermill": {
     "duration": 0.222559,
     "end_time": "2021-04-02T05:45:01.936930",
     "exception": false,
     "start_time": "2021-04-02T05:45:01.714371",
     "status": "completed"
    },
    "tags": []
   },
   "outputs": [],
   "source": [
    "train[\"EMI\"]=train[\"LoanAmount\"]/train[\"Loan_Amount_Term\"]\n",
    "test[\"EMI\"]=test[\"LoanAmountThousands\"]/test[\"Loan_Amount_Term_Months\"]"
   ]
  },
  {
   "cell_type": "markdown",
   "metadata": {
    "papermill": {
     "duration": 0.212503,
     "end_time": "2021-04-02T05:45:02.365034",
     "exception": false,
     "start_time": "2021-04-02T05:45:02.152531",
     "status": "completed"
    },
    "tags": []
   },
   "source": [
    "Have a look of train dataset \"EMI\""
   ]
  },
  {
   "cell_type": "code",
   "execution_count": 96,
   "metadata": {
    "execution": {
     "iopub.execute_input": "2021-04-02T05:45:02.802687Z",
     "iopub.status.busy": "2021-04-02T05:45:02.802047Z",
     "iopub.status.idle": "2021-04-02T05:45:02.805636Z",
     "shell.execute_reply": "2021-04-02T05:45:02.806181Z"
    },
    "papermill": {
     "duration": 0.227398,
     "end_time": "2021-04-02T05:45:02.806346",
     "exception": false,
     "start_time": "2021-04-02T05:45:02.578948",
     "status": "completed"
    },
    "tags": []
   },
   "outputs": [
    {
     "data": {
      "text/html": [
       "<div>\n",
       "<style scoped>\n",
       "    .dataframe tbody tr th:only-of-type {\n",
       "        vertical-align: middle;\n",
       "    }\n",
       "\n",
       "    .dataframe tbody tr th {\n",
       "        vertical-align: top;\n",
       "    }\n",
       "\n",
       "    .dataframe thead th {\n",
       "        text-align: right;\n",
       "    }\n",
       "</style>\n",
       "<table border=\"1\" class=\"dataframe\">\n",
       "  <thead>\n",
       "    <tr style=\"text-align: right;\">\n",
       "      <th></th>\n",
       "      <th>EMI</th>\n",
       "    </tr>\n",
       "  </thead>\n",
       "  <tbody>\n",
       "    <tr>\n",
       "      <th>0</th>\n",
       "      <td>0.355556</td>\n",
       "    </tr>\n",
       "    <tr>\n",
       "      <th>1</th>\n",
       "      <td>0.355556</td>\n",
       "    </tr>\n",
       "    <tr>\n",
       "      <th>2</th>\n",
       "      <td>0.183333</td>\n",
       "    </tr>\n",
       "    <tr>\n",
       "      <th>3</th>\n",
       "      <td>0.333333</td>\n",
       "    </tr>\n",
       "    <tr>\n",
       "      <th>4</th>\n",
       "      <td>0.391667</td>\n",
       "    </tr>\n",
       "  </tbody>\n",
       "</table>\n",
       "</div>"
      ],
      "text/plain": [
       "        EMI\n",
       "0  0.355556\n",
       "1  0.355556\n",
       "2  0.183333\n",
       "3  0.333333\n",
       "4  0.391667"
      ]
     },
     "execution_count": 96,
     "metadata": {},
     "output_type": "execute_result"
    }
   ],
   "source": [
    "train[[\"EMI\"]].head()"
   ]
  },
  {
   "cell_type": "markdown",
   "metadata": {
    "papermill": {
     "duration": 0.212183,
     "end_time": "2021-04-02T05:45:03.232875",
     "exception": false,
     "start_time": "2021-04-02T05:45:03.020692",
     "status": "completed"
    },
    "tags": []
   },
   "source": [
    "Again have a look of test dataset \"EMI\""
   ]
  },
  {
   "cell_type": "code",
   "execution_count": 97,
   "metadata": {
    "execution": {
     "iopub.execute_input": "2021-04-02T05:45:03.662288Z",
     "iopub.status.busy": "2021-04-02T05:45:03.661595Z",
     "iopub.status.idle": "2021-04-02T05:45:03.670651Z",
     "shell.execute_reply": "2021-04-02T05:45:03.671100Z"
    },
    "papermill": {
     "duration": 0.225554,
     "end_time": "2021-04-02T05:45:03.671266",
     "exception": false,
     "start_time": "2021-04-02T05:45:03.445712",
     "status": "completed"
    },
    "tags": []
   },
   "outputs": [
    {
     "data": {
      "text/html": [
       "<div>\n",
       "<style scoped>\n",
       "    .dataframe tbody tr th:only-of-type {\n",
       "        vertical-align: middle;\n",
       "    }\n",
       "\n",
       "    .dataframe tbody tr th {\n",
       "        vertical-align: top;\n",
       "    }\n",
       "\n",
       "    .dataframe thead th {\n",
       "        text-align: right;\n",
       "    }\n",
       "</style>\n",
       "<table border=\"1\" class=\"dataframe\">\n",
       "  <thead>\n",
       "    <tr style=\"text-align: right;\">\n",
       "      <th></th>\n",
       "      <th>EMI</th>\n",
       "    </tr>\n",
       "  </thead>\n",
       "  <tbody>\n",
       "    <tr>\n",
       "      <th>0</th>\n",
       "      <td>0.305556</td>\n",
       "    </tr>\n",
       "    <tr>\n",
       "      <th>1</th>\n",
       "      <td>0.350000</td>\n",
       "    </tr>\n",
       "    <tr>\n",
       "      <th>2</th>\n",
       "      <td>0.577778</td>\n",
       "    </tr>\n",
       "    <tr>\n",
       "      <th>3</th>\n",
       "      <td>0.277778</td>\n",
       "    </tr>\n",
       "    <tr>\n",
       "      <th>4</th>\n",
       "      <td>0.216667</td>\n",
       "    </tr>\n",
       "  </tbody>\n",
       "</table>\n",
       "</div>"
      ],
      "text/plain": [
       "        EMI\n",
       "0  0.305556\n",
       "1  0.350000\n",
       "2  0.577778\n",
       "3  0.277778\n",
       "4  0.216667"
      ]
     },
     "execution_count": 97,
     "metadata": {},
     "output_type": "execute_result"
    }
   ],
   "source": [
    "test[[\"EMI\"]].head()"
   ]
  },
  {
   "cell_type": "markdown",
   "metadata": {
    "papermill": {
     "duration": 0.214161,
     "end_time": "2021-04-02T05:45:04.101201",
     "exception": false,
     "start_time": "2021-04-02T05:45:03.887040",
     "status": "completed"
    },
    "tags": []
   },
   "source": [
    "Let’s check the distribution of EMI variable."
   ]
  },
  {
   "cell_type": "code",
   "execution_count": 98,
   "metadata": {
    "execution": {
     "iopub.execute_input": "2021-04-02T05:45:04.572180Z",
     "iopub.status.busy": "2021-04-02T05:45:04.571581Z",
     "iopub.status.idle": "2021-04-02T05:45:04.804755Z",
     "shell.execute_reply": "2021-04-02T05:45:04.805263Z"
    },
    "papermill": {
     "duration": 0.451258,
     "end_time": "2021-04-02T05:45:04.805434",
     "exception": false,
     "start_time": "2021-04-02T05:45:04.354176",
     "status": "completed"
    },
    "tags": []
   },
   "outputs": [
    {
     "data": {
      "text/plain": [
       "<AxesSubplot:xlabel='EMI', ylabel='Density'>"
      ]
     },
     "execution_count": 98,
     "metadata": {},
     "output_type": "execute_result"
    },
    {
     "data": {
      "image/png": "[encoded data removed]",
      "text/plain": [
       "<Figure size 432x288 with 1 Axes>"
      ]
     },
     "metadata": {
      "needs_background": "light"
     },
     "output_type": "display_data"
    }
   ],
   "source": [
    "sns.distplot(train[\"EMI\"])\n"
   ]
  },
  {
   "cell_type": "code",
   "execution_count": 99,
   "metadata": {
    "execution": {
     "iopub.execute_input": "2021-04-02T05:45:05.244839Z",
     "iopub.status.busy": "2021-04-02T05:45:05.243849Z",
     "iopub.status.idle": "2021-04-02T05:45:05.604572Z",
     "shell.execute_reply": "2021-04-02T05:45:05.605063Z"
    },
    "papermill": {
     "duration": 0.582451,
     "end_time": "2021-04-02T05:45:05.605244",
     "exception": false,
     "start_time": "2021-04-02T05:45:05.022793",
     "status": "completed"
    },
    "tags": []
   },
   "outputs": [
    {
     "data": {
      "text/plain": [
       "<AxesSubplot:xlabel='EMI', ylabel='Density'>"
      ]
     },
     "execution_count": 99,
     "metadata": {},
     "output_type": "execute_result"
    },
    {
     "data": {
      "image/png": "[encoded data removed]",
      "text/plain": [
       "<Figure size 432x288 with 1 Axes>"
      ]
     },
     "metadata": {
      "needs_background": "light"
     },
     "output_type": "display_data"
    }
   ],
   "source": [
    "sns.distplot(test[\"EMI\"])"
   ]
  },
  {
   "cell_type": "markdown",
   "metadata": {
    "papermill": {
     "duration": 0.215597,
     "end_time": "2021-04-02T05:45:06.035347",
     "exception": false,
     "start_time": "2021-04-02T05:45:05.819750",
     "status": "completed"
    },
    "tags": []
   },
   "source": [
    "Let's create Balance Income feature now and check its distribution."
   ]
  },
  {
   "cell_type": "code",
   "execution_count": 100,
   "metadata": {
    "execution": {
     "iopub.execute_input": "2021-04-02T05:45:06.477402Z",
     "iopub.status.busy": "2021-04-02T05:45:06.476726Z",
     "iopub.status.idle": "2021-04-02T05:45:06.480072Z",
     "shell.execute_reply": "2021-04-02T05:45:06.479446Z"
    },
    "papermill": {
     "duration": 0.229719,
     "end_time": "2021-04-02T05:45:06.480222",
     "exception": false,
     "start_time": "2021-04-02T05:45:06.250503",
     "status": "completed"
    },
    "tags": []
   },
   "outputs": [],
   "source": [
    "train[\"Balance_Income\"] = train[\"TotalIncome\"]-train[\"EMI\"]*1000 \n",
    "# To make the units equal we multiply with 1000\n",
    "test[\"Balance_Income\"] = test[\"TotalIncome\"]-test[\"EMI\"]"
   ]
  },
  {
   "cell_type": "markdown",
   "metadata": {
    "papermill": {
     "duration": 0.216613,
     "end_time": "2021-04-02T05:45:06.915364",
     "exception": false,
     "start_time": "2021-04-02T05:45:06.698751",
     "status": "completed"
    },
    "tags": []
   },
   "source": [
    "Have a look of train dataset \"Balance Income\""
   ]
  },
  {
   "cell_type": "code",
   "execution_count": 101,
   "metadata": {
    "execution": {
     "iopub.execute_input": "2021-04-02T05:45:07.360118Z",
     "iopub.status.busy": "2021-04-02T05:45:07.359162Z",
     "iopub.status.idle": "2021-04-02T05:45:07.368265Z",
     "shell.execute_reply": "2021-04-02T05:45:07.367695Z"
    },
    "papermill": {
     "duration": 0.232163,
     "end_time": "2021-04-02T05:45:07.368407",
     "exception": false,
     "start_time": "2021-04-02T05:45:07.136244",
     "status": "completed"
    },
    "tags": []
   },
   "outputs": [
    {
     "data": {
      "text/html": [
       "<div>\n",
       "<style scoped>\n",
       "    .dataframe tbody tr th:only-of-type {\n",
       "        vertical-align: middle;\n",
       "    }\n",
       "\n",
       "    .dataframe tbody tr th {\n",
       "        vertical-align: top;\n",
       "    }\n",
       "\n",
       "    .dataframe thead th {\n",
       "        text-align: right;\n",
       "    }\n",
       "</style>\n",
       "<table border=\"1\" class=\"dataframe\">\n",
       "  <thead>\n",
       "    <tr style=\"text-align: right;\">\n",
       "      <th></th>\n",
       "      <th>Balance_Income</th>\n",
       "    </tr>\n",
       "  </thead>\n",
       "  <tbody>\n",
       "    <tr>\n",
       "      <th>0</th>\n",
       "      <td>5493.444444</td>\n",
       "    </tr>\n",
       "    <tr>\n",
       "      <th>1</th>\n",
       "      <td>5735.444444</td>\n",
       "    </tr>\n",
       "    <tr>\n",
       "      <th>2</th>\n",
       "      <td>2816.666667</td>\n",
       "    </tr>\n",
       "    <tr>\n",
       "      <th>3</th>\n",
       "      <td>4607.666667</td>\n",
       "    </tr>\n",
       "    <tr>\n",
       "      <th>4</th>\n",
       "      <td>5608.333333</td>\n",
       "    </tr>\n",
       "  </tbody>\n",
       "</table>\n",
       "</div>"
      ],
      "text/plain": [
       "   Balance_Income\n",
       "0     5493.444444\n",
       "1     5735.444444\n",
       "2     2816.666667\n",
       "3     4607.666667\n",
       "4     5608.333333"
      ]
     },
     "execution_count": 101,
     "metadata": {},
     "output_type": "execute_result"
    }
   ],
   "source": [
    "train[[\"Balance_Income\"]].head()"
   ]
  },
  {
   "cell_type": "markdown",
   "metadata": {
    "papermill": {
     "duration": 0.215495,
     "end_time": "2021-04-02T05:45:07.802275",
     "exception": false,
     "start_time": "2021-04-02T05:45:07.586780",
     "status": "completed"
    },
    "tags": []
   },
   "source": [
    "Have a look of test dataset \"Balance Income\""
   ]
  },
  {
   "cell_type": "code",
   "execution_count": 102,
   "metadata": {
    "execution": {
     "iopub.execute_input": "2021-04-02T05:45:08.248123Z",
     "iopub.status.busy": "2021-04-02T05:45:08.247314Z",
     "iopub.status.idle": "2021-04-02T05:45:08.252156Z",
     "shell.execute_reply": "2021-04-02T05:45:08.251537Z"
    },
    "papermill": {
     "duration": 0.232138,
     "end_time": "2021-04-02T05:45:08.252298",
     "exception": false,
     "start_time": "2021-04-02T05:45:08.020160",
     "status": "completed"
    },
    "tags": []
   },
   "outputs": [
    {
     "data": {
      "text/html": [
       "<div>\n",
       "<style scoped>\n",
       "    .dataframe tbody tr th:only-of-type {\n",
       "        vertical-align: middle;\n",
       "    }\n",
       "\n",
       "    .dataframe tbody tr th {\n",
       "        vertical-align: top;\n",
       "    }\n",
       "\n",
       "    .dataframe thead th {\n",
       "        text-align: right;\n",
       "    }\n",
       "</style>\n",
       "<table border=\"1\" class=\"dataframe\">\n",
       "  <thead>\n",
       "    <tr style=\"text-align: right;\">\n",
       "      <th></th>\n",
       "      <th>Balance_Income</th>\n",
       "    </tr>\n",
       "  </thead>\n",
       "  <tbody>\n",
       "    <tr>\n",
       "      <th>0</th>\n",
       "      <td>5719.694444</td>\n",
       "    </tr>\n",
       "    <tr>\n",
       "      <th>1</th>\n",
       "      <td>4575.650000</td>\n",
       "    </tr>\n",
       "    <tr>\n",
       "      <th>2</th>\n",
       "      <td>6799.422222</td>\n",
       "    </tr>\n",
       "    <tr>\n",
       "      <th>3</th>\n",
       "      <td>4885.722222</td>\n",
       "    </tr>\n",
       "    <tr>\n",
       "      <th>4</th>\n",
       "      <td>3275.783333</td>\n",
       "    </tr>\n",
       "  </tbody>\n",
       "</table>\n",
       "</div>"
      ],
      "text/plain": [
       "   Balance_Income\n",
       "0     5719.694444\n",
       "1     4575.650000\n",
       "2     6799.422222\n",
       "3     4885.722222\n",
       "4     3275.783333"
      ]
     },
     "execution_count": 102,
     "metadata": {},
     "output_type": "execute_result"
    }
   ],
   "source": [
    "test[[\"Balance_Income\"]].head()"
   ]
  },
  {
   "cell_type": "markdown",
   "metadata": {
    "papermill": {
     "duration": 0.218241,
     "end_time": "2021-04-02T05:45:08.688210",
     "exception": false,
     "start_time": "2021-04-02T05:45:08.469969",
     "status": "completed"
    },
    "tags": []
   },
   "source": [
    "Let us now drop the variables which we used to create these new features. Reason for doing this is, the correlation between those old features and these new features will be very high and logistic regression assumes that the variables are not highly correlated. We also wants to remove the noise from the dataset, so removing correlated features will help in reducing the noise too."
   ]
  },
  {
   "cell_type": "code",
   "execution_count": 103,
   "metadata": {
    "execution": {
     "iopub.execute_input": "2021-04-02T05:45:09.154332Z",
     "iopub.status.busy": "2021-04-02T05:45:09.153714Z",
     "iopub.status.idle": "2021-04-02T05:45:09.160132Z",
     "shell.execute_reply": "2021-04-02T05:45:09.159557Z"
    },
    "papermill": {
     "duration": 0.241627,
     "end_time": "2021-04-02T05:45:09.160269",
     "exception": false,
     "start_time": "2021-04-02T05:45:08.918642",
     "status": "completed"
    },
    "tags": []
   },
   "outputs": [],
   "source": [
    "train=train.drop([\"ApplicantIncome\",\"CoapplicantIncome\",\"LoanAmount\",\"Loan_Amount_Term\"],axis=1)\n"
   ]
  },
  {
   "cell_type": "code",
   "execution_count": 104,
   "metadata": {
    "execution": {
     "iopub.execute_input": "2021-04-02T05:45:09.600103Z",
     "iopub.status.busy": "2021-04-02T05:45:09.599430Z",
     "iopub.status.idle": "2021-04-02T05:45:09.619729Z",
     "shell.execute_reply": "2021-04-02T05:45:09.619193Z"
    },
    "papermill": {
     "duration": 0.241767,
     "end_time": "2021-04-02T05:45:09.619872",
     "exception": false,
     "start_time": "2021-04-02T05:45:09.378105",
     "status": "completed"
    },
    "tags": []
   },
   "outputs": [
    {
     "data": {
      "text/html": [
       "<div>\n",
       "<style scoped>\n",
       "    .dataframe tbody tr th:only-of-type {\n",
       "        vertical-align: middle;\n",
       "    }\n",
       "\n",
       "    .dataframe tbody tr th {\n",
       "        vertical-align: top;\n",
       "    }\n",
       "\n",
       "    .dataframe thead th {\n",
       "        text-align: right;\n",
       "    }\n",
       "</style>\n",
       "<table border=\"1\" class=\"dataframe\">\n",
       "  <thead>\n",
       "    <tr style=\"text-align: right;\">\n",
       "      <th></th>\n",
       "      <th>Loan_ID</th>\n",
       "      <th>Gender</th>\n",
       "      <th>Married</th>\n",
       "      <th>Dependents</th>\n",
       "      <th>Education</th>\n",
       "      <th>Self_Employed</th>\n",
       "      <th>Credit_History</th>\n",
       "      <th>Property_Area</th>\n",
       "      <th>Loan_Status</th>\n",
       "      <th>LoanAmount_log</th>\n",
       "      <th>TotalIncome</th>\n",
       "      <th>TotalIncome_log</th>\n",
       "      <th>EMI</th>\n",
       "      <th>Balance_Income</th>\n",
       "    </tr>\n",
       "  </thead>\n",
       "  <tbody>\n",
       "    <tr>\n",
       "      <th>0</th>\n",
       "      <td>LP001002</td>\n",
       "      <td>Male</td>\n",
       "      <td>No</td>\n",
       "      <td>0</td>\n",
       "      <td>Graduate</td>\n",
       "      <td>No</td>\n",
       "      <td>1.0</td>\n",
       "      <td>Urban</td>\n",
       "      <td>1</td>\n",
       "      <td>4.852030</td>\n",
       "      <td>5849.0</td>\n",
       "      <td>8.674026</td>\n",
       "      <td>0.355556</td>\n",
       "      <td>5493.444444</td>\n",
       "    </tr>\n",
       "    <tr>\n",
       "      <th>1</th>\n",
       "      <td>LP001003</td>\n",
       "      <td>Male</td>\n",
       "      <td>Yes</td>\n",
       "      <td>1</td>\n",
       "      <td>Graduate</td>\n",
       "      <td>No</td>\n",
       "      <td>1.0</td>\n",
       "      <td>Rural</td>\n",
       "      <td>0</td>\n",
       "      <td>4.852030</td>\n",
       "      <td>6091.0</td>\n",
       "      <td>8.714568</td>\n",
       "      <td>0.355556</td>\n",
       "      <td>5735.444444</td>\n",
       "    </tr>\n",
       "    <tr>\n",
       "      <th>2</th>\n",
       "      <td>LP001005</td>\n",
       "      <td>Male</td>\n",
       "      <td>Yes</td>\n",
       "      <td>0</td>\n",
       "      <td>Graduate</td>\n",
       "      <td>Yes</td>\n",
       "      <td>1.0</td>\n",
       "      <td>Urban</td>\n",
       "      <td>1</td>\n",
       "      <td>4.189655</td>\n",
       "      <td>3000.0</td>\n",
       "      <td>8.006368</td>\n",
       "      <td>0.183333</td>\n",
       "      <td>2816.666667</td>\n",
       "    </tr>\n",
       "    <tr>\n",
       "      <th>3</th>\n",
       "      <td>LP001006</td>\n",
       "      <td>Male</td>\n",
       "      <td>Yes</td>\n",
       "      <td>0</td>\n",
       "      <td>Not Graduate</td>\n",
       "      <td>No</td>\n",
       "      <td>1.0</td>\n",
       "      <td>Urban</td>\n",
       "      <td>1</td>\n",
       "      <td>4.787492</td>\n",
       "      <td>4941.0</td>\n",
       "      <td>8.505323</td>\n",
       "      <td>0.333333</td>\n",
       "      <td>4607.666667</td>\n",
       "    </tr>\n",
       "    <tr>\n",
       "      <th>4</th>\n",
       "      <td>LP001008</td>\n",
       "      <td>Male</td>\n",
       "      <td>No</td>\n",
       "      <td>0</td>\n",
       "      <td>Graduate</td>\n",
       "      <td>No</td>\n",
       "      <td>1.0</td>\n",
       "      <td>Urban</td>\n",
       "      <td>1</td>\n",
       "      <td>4.948760</td>\n",
       "      <td>6000.0</td>\n",
       "      <td>8.699515</td>\n",
       "      <td>0.391667</td>\n",
       "      <td>5608.333333</td>\n",
       "    </tr>\n",
       "  </tbody>\n",
       "</table>\n",
       "</div>"
      ],
      "text/plain": [
       "    Loan_ID Gender Married Dependents     Education Self_Employed  \\\n",
       "0  LP001002   Male      No          0      Graduate            No   \n",
       "1  LP001003   Male     Yes          1      Graduate            No   \n",
       "2  LP001005   Male     Yes          0      Graduate           Yes   \n",
       "3  LP001006   Male     Yes          0  Not Graduate            No   \n",
       "4  LP001008   Male      No          0      Graduate            No   \n",
       "\n",
       "   Credit_History Property_Area  Loan_Status  LoanAmount_log  TotalIncome  \\\n",
       "0             1.0         Urban            1        4.852030       5849.0   \n",
       "1             1.0         Rural            0        4.852030       6091.0   \n",
       "2             1.0         Urban            1        4.189655       3000.0   \n",
       "3             1.0         Urban            1        4.787492       4941.0   \n",
       "4             1.0         Urban            1        4.948760       6000.0   \n",
       "\n",
       "   TotalIncome_log       EMI  Balance_Income  \n",
       "0         8.674026  0.355556     5493.444444  \n",
       "1         8.714568  0.355556     5735.444444  \n",
       "2         8.006368  0.183333     2816.666667  \n",
       "3         8.505323  0.333333     4607.666667  \n",
       "4         8.699515  0.391667     5608.333333  "
      ]
     },
     "execution_count": 104,
     "metadata": {},
     "output_type": "execute_result"
    }
   ],
   "source": [
    "train.head()"
   ]
  },
  {
   "cell_type": "code",
   "execution_count": 105,
   "metadata": {
    "execution": {
     "iopub.execute_input": "2021-04-02T05:45:10.064208Z",
     "iopub.status.busy": "2021-04-02T05:45:10.063543Z",
     "iopub.status.idle": "2021-04-02T05:45:10.066831Z",
     "shell.execute_reply": "2021-04-02T05:45:10.067474Z"
    },
    "papermill": {
     "duration": 0.229123,
     "end_time": "2021-04-02T05:45:10.067641",
     "exception": false,
     "start_time": "2021-04-02T05:45:09.838518",
     "status": "completed"
    },
    "tags": []
   },
   "outputs": [
    {
     "data": {
      "text/plain": [
       "Loan_ID                      object\n",
       "Gender                       object\n",
       "Married                      object\n",
       "Dependents                   object\n",
       "Education                    object\n",
       "Self_Employed                object\n",
       "ApplicantIncomeMonthly        int64\n",
       "CoapplicantIncomeMonthly      int64\n",
       "LoanAmountThousands         float64\n",
       "Loan_Amount_Term_Months     float64\n",
       "Credit_History              float64\n",
       "Property_Area                object\n",
       "LoanAmount_log              float64\n",
       "TotalIncome                   int64\n",
       "TotalIncome_log             float64\n",
       "EMI                         float64\n",
       "Balance_Income              float64\n",
       "dtype: object"
      ]
     },
     "execution_count": 105,
     "metadata": {},
     "output_type": "execute_result"
    }
   ],
   "source": [
    "\n",
    "test.dtypes"
   ]
  },
  {
   "cell_type": "code",
   "execution_count": 106,
   "metadata": {
    "execution": {
     "iopub.execute_input": "2021-04-02T05:45:10.509450Z",
     "iopub.status.busy": "2021-04-02T05:45:10.508811Z",
     "iopub.status.idle": "2021-04-02T05:45:10.514513Z",
     "shell.execute_reply": "2021-04-02T05:45:10.515091Z"
    },
    "papermill": {
     "duration": 0.227863,
     "end_time": "2021-04-02T05:45:10.515277",
     "exception": false,
     "start_time": "2021-04-02T05:45:10.287414",
     "status": "completed"
    },
    "tags": []
   },
   "outputs": [],
   "source": [
    "test = test.drop([\"ApplicantIncomeMonthly\",\"CoapplicantIncomeMonthly\",\"LoanAmountThousands\",\"Loan_Amount_Term_Months\"],axis=1)"
   ]
  },
  {
   "cell_type": "code",
   "execution_count": 107,
   "metadata": {
    "execution": {
     "iopub.execute_input": "2021-04-02T05:45:10.958503Z",
     "iopub.status.busy": "2021-04-02T05:45:10.957860Z",
     "iopub.status.idle": "2021-04-02T05:45:10.976142Z",
     "shell.execute_reply": "2021-04-02T05:45:10.976573Z"
    },
    "papermill": {
     "duration": 0.240066,
     "end_time": "2021-04-02T05:45:10.976752",
     "exception": false,
     "start_time": "2021-04-02T05:45:10.736686",
     "status": "completed"
    },
    "tags": []
   },
   "outputs": [
    {
     "data": {
      "text/html": [
       "<div>\n",
       "<style scoped>\n",
       "    .dataframe tbody tr th:only-of-type {\n",
       "        vertical-align: middle;\n",
       "    }\n",
       "\n",
       "    .dataframe tbody tr th {\n",
       "        vertical-align: top;\n",
       "    }\n",
       "\n",
       "    .dataframe thead th {\n",
       "        text-align: right;\n",
       "    }\n",
       "</style>\n",
       "<table border=\"1\" class=\"dataframe\">\n",
       "  <thead>\n",
       "    <tr style=\"text-align: right;\">\n",
       "      <th></th>\n",
       "      <th>Loan_ID</th>\n",
       "      <th>Gender</th>\n",
       "      <th>Married</th>\n",
       "      <th>Dependents</th>\n",
       "      <th>Education</th>\n",
       "      <th>Self_Employed</th>\n",
       "      <th>Credit_History</th>\n",
       "      <th>Property_Area</th>\n",
       "      <th>LoanAmount_log</th>\n",
       "      <th>TotalIncome</th>\n",
       "      <th>TotalIncome_log</th>\n",
       "      <th>EMI</th>\n",
       "      <th>Balance_Income</th>\n",
       "    </tr>\n",
       "  </thead>\n",
       "  <tbody>\n",
       "    <tr>\n",
       "      <th>0</th>\n",
       "      <td>LP001015</td>\n",
       "      <td>Male</td>\n",
       "      <td>Yes</td>\n",
       "      <td>0</td>\n",
       "      <td>Graduate</td>\n",
       "      <td>No</td>\n",
       "      <td>1.0</td>\n",
       "      <td>Urban</td>\n",
       "      <td>4.852030</td>\n",
       "      <td>5720</td>\n",
       "      <td>8.674026</td>\n",
       "      <td>0.305556</td>\n",
       "      <td>5719.694444</td>\n",
       "    </tr>\n",
       "    <tr>\n",
       "      <th>1</th>\n",
       "      <td>LP001022</td>\n",
       "      <td>Male</td>\n",
       "      <td>Yes</td>\n",
       "      <td>1</td>\n",
       "      <td>Graduate</td>\n",
       "      <td>No</td>\n",
       "      <td>1.0</td>\n",
       "      <td>Urban</td>\n",
       "      <td>4.852030</td>\n",
       "      <td>4576</td>\n",
       "      <td>8.714568</td>\n",
       "      <td>0.350000</td>\n",
       "      <td>4575.650000</td>\n",
       "    </tr>\n",
       "    <tr>\n",
       "      <th>2</th>\n",
       "      <td>LP001031</td>\n",
       "      <td>Male</td>\n",
       "      <td>Yes</td>\n",
       "      <td>2</td>\n",
       "      <td>Graduate</td>\n",
       "      <td>No</td>\n",
       "      <td>1.0</td>\n",
       "      <td>Urban</td>\n",
       "      <td>4.189655</td>\n",
       "      <td>6800</td>\n",
       "      <td>8.006368</td>\n",
       "      <td>0.577778</td>\n",
       "      <td>6799.422222</td>\n",
       "    </tr>\n",
       "    <tr>\n",
       "      <th>3</th>\n",
       "      <td>LP001035</td>\n",
       "      <td>Male</td>\n",
       "      <td>Yes</td>\n",
       "      <td>2</td>\n",
       "      <td>Graduate</td>\n",
       "      <td>No</td>\n",
       "      <td>1.0</td>\n",
       "      <td>Urban</td>\n",
       "      <td>4.787492</td>\n",
       "      <td>4886</td>\n",
       "      <td>8.505323</td>\n",
       "      <td>0.277778</td>\n",
       "      <td>4885.722222</td>\n",
       "    </tr>\n",
       "    <tr>\n",
       "      <th>4</th>\n",
       "      <td>LP001051</td>\n",
       "      <td>Male</td>\n",
       "      <td>No</td>\n",
       "      <td>0</td>\n",
       "      <td>Not Graduate</td>\n",
       "      <td>No</td>\n",
       "      <td>1.0</td>\n",
       "      <td>Urban</td>\n",
       "      <td>4.948760</td>\n",
       "      <td>3276</td>\n",
       "      <td>8.699515</td>\n",
       "      <td>0.216667</td>\n",
       "      <td>3275.783333</td>\n",
       "    </tr>\n",
       "  </tbody>\n",
       "</table>\n",
       "</div>"
      ],
      "text/plain": [
       "    Loan_ID Gender Married Dependents     Education Self_Employed  \\\n",
       "0  LP001015   Male     Yes          0      Graduate            No   \n",
       "1  LP001022   Male     Yes          1      Graduate            No   \n",
       "2  LP001031   Male     Yes          2      Graduate            No   \n",
       "3  LP001035   Male     Yes          2      Graduate            No   \n",
       "4  LP001051   Male      No          0  Not Graduate            No   \n",
       "\n",
       "   Credit_History Property_Area  LoanAmount_log  TotalIncome  TotalIncome_log  \\\n",
       "0             1.0         Urban        4.852030         5720         8.674026   \n",
       "1             1.0         Urban        4.852030         4576         8.714568   \n",
       "2             1.0         Urban        4.189655         6800         8.006368   \n",
       "3             1.0         Urban        4.787492         4886         8.505323   \n",
       "4             1.0         Urban        4.948760         3276         8.699515   \n",
       "\n",
       "        EMI  Balance_Income  \n",
       "0  0.305556     5719.694444  \n",
       "1  0.350000     4575.650000  \n",
       "2  0.577778     6799.422222  \n",
       "3  0.277778     4885.722222  \n",
       "4  0.216667     3275.783333  "
      ]
     },
     "execution_count": 107,
     "metadata": {},
     "output_type": "execute_result"
    }
   ],
   "source": [
    "test.head()"
   ]
  },
  {
   "cell_type": "markdown",
   "metadata": {
    "papermill": {
     "duration": 0.221095,
     "end_time": "2021-04-02T05:45:11.418635",
     "exception": false,
     "start_time": "2021-04-02T05:45:11.197540",
     "status": "completed"
    },
    "tags": []
   },
   "source": [
    "# Model building\n",
    "\n",
    "After creating new features, we can continue the model building process. So we will start with logistic regression model and then move over to more complex models like RandomForest and XGBoost\n",
    "\n",
    "We will build the following models in this section.\n",
    "\n",
    "i)Logistic Regression\n",
    "\n",
    "ii)Decision Tree\n",
    "\n",
    "iii)Random Forest\n",
    "\n",
    "iv)Random Forest with Grid Search\n",
    "\n",
    "v)XGBClassifier\n",
    "\n",
    "Let’s prepare the data for feeding into the models.\n",
    "\n",
    "Let's drop the \"Loan_ID\" variable as it do not have any effect on the loan status. We will do the same changes to the test dataset which we did for the training dataset.\n",
    "\n",
    "Drop \"Loan_ID\""
   ]
  },
  {
   "cell_type": "code",
   "execution_count": 108,
   "metadata": {
    "execution": {
     "iopub.execute_input": "2021-04-02T05:45:11.865873Z",
     "iopub.status.busy": "2021-04-02T05:45:11.865254Z",
     "iopub.status.idle": "2021-04-02T05:45:11.871803Z",
     "shell.execute_reply": "2021-04-02T05:45:11.872377Z"
    },
    "papermill": {
     "duration": 0.231679,
     "end_time": "2021-04-02T05:45:11.872569",
     "exception": false,
     "start_time": "2021-04-02T05:45:11.640890",
     "status": "completed"
    },
    "tags": []
   },
   "outputs": [],
   "source": [
    "train=train.drop(\"Loan_ID\",axis=1)\n",
    "test=test.drop(\"Loan_ID\",axis=1)"
   ]
  },
  {
   "cell_type": "markdown",
   "metadata": {
    "papermill": {
     "duration": 0.260864,
     "end_time": "2021-04-02T05:45:12.354826",
     "exception": false,
     "start_time": "2021-04-02T05:45:12.093962",
     "status": "completed"
    },
    "tags": []
   },
   "source": [
    "After drop train dataset will look :"
   ]
  },
  {
   "cell_type": "code",
   "execution_count": 109,
   "metadata": {
    "execution": {
     "iopub.execute_input": "2021-04-02T05:45:12.800470Z",
     "iopub.status.busy": "2021-04-02T05:45:12.799836Z",
     "iopub.status.idle": "2021-04-02T05:45:12.816970Z",
     "shell.execute_reply": "2021-04-02T05:45:12.817471Z"
    },
    "papermill": {
     "duration": 0.24238,
     "end_time": "2021-04-02T05:45:12.817652",
     "exception": false,
     "start_time": "2021-04-02T05:45:12.575272",
     "status": "completed"
    },
    "tags": []
   },
   "outputs": [
    {
     "data": {
      "text/html": [
       "<div>\n",
       "<style scoped>\n",
       "    .dataframe tbody tr th:only-of-type {\n",
       "        vertical-align: middle;\n",
       "    }\n",
       "\n",
       "    .dataframe tbody tr th {\n",
       "        vertical-align: top;\n",
       "    }\n",
       "\n",
       "    .dataframe thead th {\n",
       "        text-align: right;\n",
       "    }\n",
       "</style>\n",
       "<table border=\"1\" class=\"dataframe\">\n",
       "  <thead>\n",
       "    <tr style=\"text-align: right;\">\n",
       "      <th></th>\n",
       "      <th>Gender</th>\n",
       "      <th>Married</th>\n",
       "      <th>Dependents</th>\n",
       "      <th>Education</th>\n",
       "      <th>Self_Employed</th>\n",
       "      <th>Credit_History</th>\n",
       "      <th>Property_Area</th>\n",
       "      <th>Loan_Status</th>\n",
       "      <th>LoanAmount_log</th>\n",
       "      <th>TotalIncome</th>\n",
       "      <th>TotalIncome_log</th>\n",
       "      <th>EMI</th>\n",
       "      <th>Balance_Income</th>\n",
       "    </tr>\n",
       "  </thead>\n",
       "  <tbody>\n",
       "    <tr>\n",
       "      <th>0</th>\n",
       "      <td>Male</td>\n",
       "      <td>No</td>\n",
       "      <td>0</td>\n",
       "      <td>Graduate</td>\n",
       "      <td>No</td>\n",
       "      <td>1.0</td>\n",
       "      <td>Urban</td>\n",
       "      <td>1</td>\n",
       "      <td>4.852030</td>\n",
       "      <td>5849.0</td>\n",
       "      <td>8.674026</td>\n",
       "      <td>0.355556</td>\n",
       "      <td>5493.444444</td>\n",
       "    </tr>\n",
       "    <tr>\n",
       "      <th>1</th>\n",
       "      <td>Male</td>\n",
       "      <td>Yes</td>\n",
       "      <td>1</td>\n",
       "      <td>Graduate</td>\n",
       "      <td>No</td>\n",
       "      <td>1.0</td>\n",
       "      <td>Rural</td>\n",
       "      <td>0</td>\n",
       "      <td>4.852030</td>\n",
       "      <td>6091.0</td>\n",
       "      <td>8.714568</td>\n",
       "      <td>0.355556</td>\n",
       "      <td>5735.444444</td>\n",
       "    </tr>\n",
       "    <tr>\n",
       "      <th>2</th>\n",
       "      <td>Male</td>\n",
       "      <td>Yes</td>\n",
       "      <td>0</td>\n",
       "      <td>Graduate</td>\n",
       "      <td>Yes</td>\n",
       "      <td>1.0</td>\n",
       "      <td>Urban</td>\n",
       "      <td>1</td>\n",
       "      <td>4.189655</td>\n",
       "      <td>3000.0</td>\n",
       "      <td>8.006368</td>\n",
       "      <td>0.183333</td>\n",
       "      <td>2816.666667</td>\n",
       "    </tr>\n",
       "  </tbody>\n",
       "</table>\n",
       "</div>"
      ],
      "text/plain": [
       "  Gender Married Dependents Education Self_Employed  Credit_History  \\\n",
       "0   Male      No          0  Graduate            No             1.0   \n",
       "1   Male     Yes          1  Graduate            No             1.0   \n",
       "2   Male     Yes          0  Graduate           Yes             1.0   \n",
       "\n",
       "  Property_Area  Loan_Status  LoanAmount_log  TotalIncome  TotalIncome_log  \\\n",
       "0         Urban            1        4.852030       5849.0         8.674026   \n",
       "1         Rural            0        4.852030       6091.0         8.714568   \n",
       "2         Urban            1        4.189655       3000.0         8.006368   \n",
       "\n",
       "        EMI  Balance_Income  \n",
       "0  0.355556     5493.444444  \n",
       "1  0.355556     5735.444444  \n",
       "2  0.183333     2816.666667  "
      ]
     },
     "execution_count": 109,
     "metadata": {},
     "output_type": "execute_result"
    }
   ],
   "source": [
    "train.head(3)"
   ]
  },
  {
   "cell_type": "markdown",
   "metadata": {
    "papermill": {
     "duration": 0.220959,
     "end_time": "2021-04-02T05:45:13.261068",
     "exception": false,
     "start_time": "2021-04-02T05:45:13.040109",
     "status": "completed"
    },
    "tags": []
   },
   "source": [
    "After drop test dataset will look :"
   ]
  },
  {
   "cell_type": "code",
   "execution_count": 110,
   "metadata": {
    "execution": {
     "iopub.execute_input": "2021-04-02T05:45:13.707868Z",
     "iopub.status.busy": "2021-04-02T05:45:13.707200Z",
     "iopub.status.idle": "2021-04-02T05:45:13.724115Z",
     "shell.execute_reply": "2021-04-02T05:45:13.723557Z"
    },
    "papermill": {
     "duration": 0.24233,
     "end_time": "2021-04-02T05:45:13.724259",
     "exception": false,
     "start_time": "2021-04-02T05:45:13.481929",
     "status": "completed"
    },
    "tags": []
   },
   "outputs": [
    {
     "data": {
      "text/html": [
       "<div>\n",
       "<style scoped>\n",
       "    .dataframe tbody tr th:only-of-type {\n",
       "        vertical-align: middle;\n",
       "    }\n",
       "\n",
       "    .dataframe tbody tr th {\n",
       "        vertical-align: top;\n",
       "    }\n",
       "\n",
       "    .dataframe thead th {\n",
       "        text-align: right;\n",
       "    }\n",
       "</style>\n",
       "<table border=\"1\" class=\"dataframe\">\n",
       "  <thead>\n",
       "    <tr style=\"text-align: right;\">\n",
       "      <th></th>\n",
       "      <th>Gender</th>\n",
       "      <th>Married</th>\n",
       "      <th>Dependents</th>\n",
       "      <th>Education</th>\n",
       "      <th>Self_Employed</th>\n",
       "      <th>Credit_History</th>\n",
       "      <th>Property_Area</th>\n",
       "      <th>LoanAmount_log</th>\n",
       "      <th>TotalIncome</th>\n",
       "      <th>TotalIncome_log</th>\n",
       "      <th>EMI</th>\n",
       "      <th>Balance_Income</th>\n",
       "    </tr>\n",
       "  </thead>\n",
       "  <tbody>\n",
       "    <tr>\n",
       "      <th>0</th>\n",
       "      <td>Male</td>\n",
       "      <td>Yes</td>\n",
       "      <td>0</td>\n",
       "      <td>Graduate</td>\n",
       "      <td>No</td>\n",
       "      <td>1.0</td>\n",
       "      <td>Urban</td>\n",
       "      <td>4.852030</td>\n",
       "      <td>5720</td>\n",
       "      <td>8.674026</td>\n",
       "      <td>0.305556</td>\n",
       "      <td>5719.694444</td>\n",
       "    </tr>\n",
       "    <tr>\n",
       "      <th>1</th>\n",
       "      <td>Male</td>\n",
       "      <td>Yes</td>\n",
       "      <td>1</td>\n",
       "      <td>Graduate</td>\n",
       "      <td>No</td>\n",
       "      <td>1.0</td>\n",
       "      <td>Urban</td>\n",
       "      <td>4.852030</td>\n",
       "      <td>4576</td>\n",
       "      <td>8.714568</td>\n",
       "      <td>0.350000</td>\n",
       "      <td>4575.650000</td>\n",
       "    </tr>\n",
       "    <tr>\n",
       "      <th>2</th>\n",
       "      <td>Male</td>\n",
       "      <td>Yes</td>\n",
       "      <td>2</td>\n",
       "      <td>Graduate</td>\n",
       "      <td>No</td>\n",
       "      <td>1.0</td>\n",
       "      <td>Urban</td>\n",
       "      <td>4.189655</td>\n",
       "      <td>6800</td>\n",
       "      <td>8.006368</td>\n",
       "      <td>0.577778</td>\n",
       "      <td>6799.422222</td>\n",
       "    </tr>\n",
       "  </tbody>\n",
       "</table>\n",
       "</div>"
      ],
      "text/plain": [
       "  Gender Married Dependents Education Self_Employed  Credit_History  \\\n",
       "0   Male     Yes          0  Graduate            No             1.0   \n",
       "1   Male     Yes          1  Graduate            No             1.0   \n",
       "2   Male     Yes          2  Graduate            No             1.0   \n",
       "\n",
       "  Property_Area  LoanAmount_log  TotalIncome  TotalIncome_log       EMI  \\\n",
       "0         Urban        4.852030         5720         8.674026  0.305556   \n",
       "1         Urban        4.852030         4576         8.714568  0.350000   \n",
       "2         Urban        4.189655         6800         8.006368  0.577778   \n",
       "\n",
       "   Balance_Income  \n",
       "0     5719.694444  \n",
       "1     4575.650000  \n",
       "2     6799.422222  "
      ]
     },
     "execution_count": 110,
     "metadata": {},
     "output_type": "execute_result"
    }
   ],
   "source": [
    "test.head(3)"
   ]
  },
  {
   "cell_type": "markdown",
   "metadata": {
    "papermill": {
     "duration": 0.224485,
     "end_time": "2021-04-02T05:45:14.171154",
     "exception": false,
     "start_time": "2021-04-02T05:45:13.946669",
     "status": "completed"
    },
    "tags": []
   },
   "source": [
    "We will use scikit-learn (sklearn) for making different models which is an open source library for Python. It is one of the most efficient tool which contains many inbuilt functions that can be used for modeling in Python.\n",
    "\n",
    "Sklearn requires the target variable in a separate dataset. So, we will drop our target variable from the train dataset and save it in another dataset.\n",
    "\n",
    "droping the target variable \"Loan_Status\""
   ]
  },
  {
   "cell_type": "code",
   "execution_count": 111,
   "metadata": {
    "execution": {
     "iopub.execute_input": "2021-04-02T05:45:14.622532Z",
     "iopub.status.busy": "2021-04-02T05:45:14.621868Z",
     "iopub.status.idle": "2021-04-02T05:45:14.624965Z",
     "shell.execute_reply": "2021-04-02T05:45:14.625536Z"
    },
    "papermill": {
     "duration": 0.231968,
     "end_time": "2021-04-02T05:45:14.625697",
     "exception": false,
     "start_time": "2021-04-02T05:45:14.393729",
     "status": "completed"
    },
    "tags": []
   },
   "outputs": [],
   "source": [
    "X=train.drop(\"Loan_Status\",1)"
   ]
  },
  {
   "cell_type": "code",
   "execution_count": 112,
   "metadata": {
    "execution": {
     "iopub.execute_input": "2021-04-02T05:45:15.073943Z",
     "iopub.status.busy": "2021-04-02T05:45:15.072990Z",
     "iopub.status.idle": "2021-04-02T05:45:15.090741Z",
     "shell.execute_reply": "2021-04-02T05:45:15.091360Z"
    },
    "papermill": {
     "duration": 0.24433,
     "end_time": "2021-04-02T05:45:15.091529",
     "exception": false,
     "start_time": "2021-04-02T05:45:14.847199",
     "status": "completed"
    },
    "tags": []
   },
   "outputs": [
    {
     "data": {
      "text/html": [
       "<div>\n",
       "<style scoped>\n",
       "    .dataframe tbody tr th:only-of-type {\n",
       "        vertical-align: middle;\n",
       "    }\n",
       "\n",
       "    .dataframe tbody tr th {\n",
       "        vertical-align: top;\n",
       "    }\n",
       "\n",
       "    .dataframe thead th {\n",
       "        text-align: right;\n",
       "    }\n",
       "</style>\n",
       "<table border=\"1\" class=\"dataframe\">\n",
       "  <thead>\n",
       "    <tr style=\"text-align: right;\">\n",
       "      <th></th>\n",
       "      <th>Gender</th>\n",
       "      <th>Married</th>\n",
       "      <th>Dependents</th>\n",
       "      <th>Education</th>\n",
       "      <th>Self_Employed</th>\n",
       "      <th>Credit_History</th>\n",
       "      <th>Property_Area</th>\n",
       "      <th>LoanAmount_log</th>\n",
       "      <th>TotalIncome</th>\n",
       "      <th>TotalIncome_log</th>\n",
       "      <th>EMI</th>\n",
       "      <th>Balance_Income</th>\n",
       "    </tr>\n",
       "  </thead>\n",
       "  <tbody>\n",
       "    <tr>\n",
       "      <th>0</th>\n",
       "      <td>Male</td>\n",
       "      <td>No</td>\n",
       "      <td>0</td>\n",
       "      <td>Graduate</td>\n",
       "      <td>No</td>\n",
       "      <td>1.0</td>\n",
       "      <td>Urban</td>\n",
       "      <td>4.85203</td>\n",
       "      <td>5849.0</td>\n",
       "      <td>8.674026</td>\n",
       "      <td>0.355556</td>\n",
       "      <td>5493.444444</td>\n",
       "    </tr>\n",
       "    <tr>\n",
       "      <th>1</th>\n",
       "      <td>Male</td>\n",
       "      <td>Yes</td>\n",
       "      <td>1</td>\n",
       "      <td>Graduate</td>\n",
       "      <td>No</td>\n",
       "      <td>1.0</td>\n",
       "      <td>Rural</td>\n",
       "      <td>4.85203</td>\n",
       "      <td>6091.0</td>\n",
       "      <td>8.714568</td>\n",
       "      <td>0.355556</td>\n",
       "      <td>5735.444444</td>\n",
       "    </tr>\n",
       "  </tbody>\n",
       "</table>\n",
       "</div>"
      ],
      "text/plain": [
       "  Gender Married Dependents Education Self_Employed  Credit_History  \\\n",
       "0   Male      No          0  Graduate            No             1.0   \n",
       "1   Male     Yes          1  Graduate            No             1.0   \n",
       "\n",
       "  Property_Area  LoanAmount_log  TotalIncome  TotalIncome_log       EMI  \\\n",
       "0         Urban         4.85203       5849.0         8.674026  0.355556   \n",
       "1         Rural         4.85203       6091.0         8.714568  0.355556   \n",
       "\n",
       "   Balance_Income  \n",
       "0     5493.444444  \n",
       "1     5735.444444  "
      ]
     },
     "execution_count": 112,
     "metadata": {},
     "output_type": "execute_result"
    }
   ],
   "source": [
    "X.head(2)"
   ]
  },
  {
   "cell_type": "markdown",
   "metadata": {
    "papermill": {
     "duration": 0.240251,
     "end_time": "2021-04-02T05:45:15.577351",
     "exception": false,
     "start_time": "2021-04-02T05:45:15.337100",
     "status": "completed"
    },
    "tags": []
   },
   "source": [
    "save the target variable \"Loan_Status\" in another dataset"
   ]
  },
  {
   "cell_type": "code",
   "execution_count": 113,
   "metadata": {
    "execution": {
     "iopub.execute_input": "2021-04-02T05:45:16.047845Z",
     "iopub.status.busy": "2021-04-02T05:45:16.047265Z",
     "iopub.status.idle": "2021-04-02T05:45:16.053031Z",
     "shell.execute_reply": "2021-04-02T05:45:16.052496Z"
    },
    "papermill": {
     "duration": 0.24322,
     "end_time": "2021-04-02T05:45:16.053169",
     "exception": false,
     "start_time": "2021-04-02T05:45:15.809949",
     "status": "completed"
    },
    "tags": []
   },
   "outputs": [],
   "source": [
    "y=train[[\"Loan_Status\"]]"
   ]
  },
  {
   "cell_type": "code",
   "execution_count": 114,
   "metadata": {
    "execution": {
     "iopub.execute_input": "2021-04-02T05:45:16.514959Z",
     "iopub.status.busy": "2021-04-02T05:45:16.514319Z",
     "iopub.status.idle": "2021-04-02T05:45:16.518451Z",
     "shell.execute_reply": "2021-04-02T05:45:16.517799Z"
    },
    "papermill": {
     "duration": 0.236517,
     "end_time": "2021-04-02T05:45:16.518609",
     "exception": false,
     "start_time": "2021-04-02T05:45:16.282092",
     "status": "completed"
    },
    "tags": []
   },
   "outputs": [
    {
     "data": {
      "text/html": [
       "<div>\n",
       "<style scoped>\n",
       "    .dataframe tbody tr th:only-of-type {\n",
       "        vertical-align: middle;\n",
       "    }\n",
       "\n",
       "    .dataframe tbody tr th {\n",
       "        vertical-align: top;\n",
       "    }\n",
       "\n",
       "    .dataframe thead th {\n",
       "        text-align: right;\n",
       "    }\n",
       "</style>\n",
       "<table border=\"1\" class=\"dataframe\">\n",
       "  <thead>\n",
       "    <tr style=\"text-align: right;\">\n",
       "      <th></th>\n",
       "      <th>Loan_Status</th>\n",
       "    </tr>\n",
       "  </thead>\n",
       "  <tbody>\n",
       "    <tr>\n",
       "      <th>0</th>\n",
       "      <td>1</td>\n",
       "    </tr>\n",
       "    <tr>\n",
       "      <th>1</th>\n",
       "      <td>0</td>\n",
       "    </tr>\n",
       "  </tbody>\n",
       "</table>\n",
       "</div>"
      ],
      "text/plain": [
       "   Loan_Status\n",
       "0            1\n",
       "1            0"
      ]
     },
     "execution_count": 114,
     "metadata": {},
     "output_type": "execute_result"
    }
   ],
   "source": [
    "y.head(2)"
   ]
  },
  {
   "cell_type": "markdown",
   "metadata": {
    "papermill": {
     "duration": 0.228363,
     "end_time": "2021-04-02T05:45:16.975511",
     "exception": false,
     "start_time": "2021-04-02T05:45:16.747148",
     "status": "completed"
    },
    "tags": []
   },
   "source": [
    "Now we will make dummy variables for the categorical variables. Dummy variable turns categorical variables into a series of 0 and 1, making them lot easier to quantify and compare.\n",
    "\n",
    "Let us understand the process of dummies first:\n",
    "\n",
    "Consider the “Gender” variable. It has two classes, Male and Female.\n",
    "\n",
    "As logistic regression takes only the numerical values as input, we have to change male and female into numerical value.\n",
    "\n",
    "Once we apply dummies to this variable, it will convert the “Gender” variable into two variables(Gender_Male and Gender_Female), one for each class, i.e. Male and Female.\n",
    "\n",
    "Gender_Male will have a value of 0 if the gender is Female and a value of 1 if the gender is male"
   ]
  },
  {
   "cell_type": "code",
   "execution_count": 115,
   "metadata": {
    "execution": {
     "iopub.execute_input": "2021-04-02T05:45:17.434700Z",
     "iopub.status.busy": "2021-04-02T05:45:17.433719Z",
     "iopub.status.idle": "2021-04-02T05:45:17.441099Z",
     "shell.execute_reply": "2021-04-02T05:45:17.440467Z"
    },
    "papermill": {
     "duration": 0.240686,
     "end_time": "2021-04-02T05:45:17.441234",
     "exception": false,
     "start_time": "2021-04-02T05:45:17.200548",
     "status": "completed"
    },
    "tags": []
   },
   "outputs": [],
   "source": [
    "X = pd.get_dummies(X)"
   ]
  },
  {
   "cell_type": "code",
   "execution_count": 116,
   "metadata": {
    "execution": {
     "iopub.execute_input": "2021-04-02T05:45:17.909977Z",
     "iopub.status.busy": "2021-04-02T05:45:17.909330Z",
     "iopub.status.idle": "2021-04-02T05:45:17.912541Z",
     "shell.execute_reply": "2021-04-02T05:45:17.913136Z"
    },
    "papermill": {
     "duration": 0.248997,
     "end_time": "2021-04-02T05:45:17.913307",
     "exception": false,
     "start_time": "2021-04-02T05:45:17.664310",
     "status": "completed"
    },
    "tags": []
   },
   "outputs": [
    {
     "data": {
      "text/html": [
       "<div>\n",
       "<style scoped>\n",
       "    .dataframe tbody tr th:only-of-type {\n",
       "        vertical-align: middle;\n",
       "    }\n",
       "\n",
       "    .dataframe tbody tr th {\n",
       "        vertical-align: top;\n",
       "    }\n",
       "\n",
       "    .dataframe thead th {\n",
       "        text-align: right;\n",
       "    }\n",
       "</style>\n",
       "<table border=\"1\" class=\"dataframe\">\n",
       "  <thead>\n",
       "    <tr style=\"text-align: right;\">\n",
       "      <th></th>\n",
       "      <th>Credit_History</th>\n",
       "      <th>LoanAmount_log</th>\n",
       "      <th>TotalIncome</th>\n",
       "      <th>TotalIncome_log</th>\n",
       "      <th>EMI</th>\n",
       "      <th>Balance_Income</th>\n",
       "      <th>Gender_Female</th>\n",
       "      <th>Gender_Male</th>\n",
       "      <th>Married_No</th>\n",
       "      <th>Married_Yes</th>\n",
       "      <th>...</th>\n",
       "      <th>Dependents_0</th>\n",
       "      <th>Dependents_1</th>\n",
       "      <th>Dependents_2</th>\n",
       "      <th>Education_Graduate</th>\n",
       "      <th>Education_Not Graduate</th>\n",
       "      <th>Self_Employed_No</th>\n",
       "      <th>Self_Employed_Yes</th>\n",
       "      <th>Property_Area_Rural</th>\n",
       "      <th>Property_Area_Semiurban</th>\n",
       "      <th>Property_Area_Urban</th>\n",
       "    </tr>\n",
       "  </thead>\n",
       "  <tbody>\n",
       "    <tr>\n",
       "      <th>0</th>\n",
       "      <td>1.0</td>\n",
       "      <td>4.852030</td>\n",
       "      <td>5849.0</td>\n",
       "      <td>8.674026</td>\n",
       "      <td>0.355556</td>\n",
       "      <td>5493.444444</td>\n",
       "      <td>0</td>\n",
       "      <td>1</td>\n",
       "      <td>1</td>\n",
       "      <td>0</td>\n",
       "      <td>...</td>\n",
       "      <td>1</td>\n",
       "      <td>0</td>\n",
       "      <td>0</td>\n",
       "      <td>1</td>\n",
       "      <td>0</td>\n",
       "      <td>1</td>\n",
       "      <td>0</td>\n",
       "      <td>0</td>\n",
       "      <td>0</td>\n",
       "      <td>1</td>\n",
       "    </tr>\n",
       "    <tr>\n",
       "      <th>1</th>\n",
       "      <td>1.0</td>\n",
       "      <td>4.852030</td>\n",
       "      <td>6091.0</td>\n",
       "      <td>8.714568</td>\n",
       "      <td>0.355556</td>\n",
       "      <td>5735.444444</td>\n",
       "      <td>0</td>\n",
       "      <td>1</td>\n",
       "      <td>0</td>\n",
       "      <td>1</td>\n",
       "      <td>...</td>\n",
       "      <td>0</td>\n",
       "      <td>1</td>\n",
       "      <td>0</td>\n",
       "      <td>1</td>\n",
       "      <td>0</td>\n",
       "      <td>1</td>\n",
       "      <td>0</td>\n",
       "      <td>1</td>\n",
       "      <td>0</td>\n",
       "      <td>0</td>\n",
       "    </tr>\n",
       "    <tr>\n",
       "      <th>2</th>\n",
       "      <td>1.0</td>\n",
       "      <td>4.189655</td>\n",
       "      <td>3000.0</td>\n",
       "      <td>8.006368</td>\n",
       "      <td>0.183333</td>\n",
       "      <td>2816.666667</td>\n",
       "      <td>0</td>\n",
       "      <td>1</td>\n",
       "      <td>0</td>\n",
       "      <td>1</td>\n",
       "      <td>...</td>\n",
       "      <td>1</td>\n",
       "      <td>0</td>\n",
       "      <td>0</td>\n",
       "      <td>1</td>\n",
       "      <td>0</td>\n",
       "      <td>0</td>\n",
       "      <td>1</td>\n",
       "      <td>0</td>\n",
       "      <td>0</td>\n",
       "      <td>1</td>\n",
       "    </tr>\n",
       "  </tbody>\n",
       "</table>\n",
       "<p>3 rows × 21 columns</p>\n",
       "</div>"
      ],
      "text/plain": [
       "   Credit_History  LoanAmount_log  TotalIncome  TotalIncome_log       EMI  \\\n",
       "0             1.0        4.852030       5849.0         8.674026  0.355556   \n",
       "1             1.0        4.852030       6091.0         8.714568  0.355556   \n",
       "2             1.0        4.189655       3000.0         8.006368  0.183333   \n",
       "\n",
       "   Balance_Income  Gender_Female  Gender_Male  Married_No  Married_Yes  ...  \\\n",
       "0     5493.444444              0            1           1            0  ...   \n",
       "1     5735.444444              0            1           0            1  ...   \n",
       "2     2816.666667              0            1           0            1  ...   \n",
       "\n",
       "   Dependents_0  Dependents_1  Dependents_2  Education_Graduate  \\\n",
       "0             1             0             0                   1   \n",
       "1             0             1             0                   1   \n",
       "2             1             0             0                   1   \n",
       "\n",
       "   Education_Not Graduate  Self_Employed_No  Self_Employed_Yes  \\\n",
       "0                       0                 1                  0   \n",
       "1                       0                 1                  0   \n",
       "2                       0                 0                  1   \n",
       "\n",
       "   Property_Area_Rural  Property_Area_Semiurban  Property_Area_Urban  \n",
       "0                    0                        0                    1  \n",
       "1                    1                        0                    0  \n",
       "2                    0                        0                    1  \n",
       "\n",
       "[3 rows x 21 columns]"
      ]
     },
     "execution_count": 116,
     "metadata": {},
     "output_type": "execute_result"
    }
   ],
   "source": [
    "X.head(3)"
   ]
  },
  {
   "cell_type": "code",
   "execution_count": 117,
   "metadata": {
    "execution": {
     "iopub.execute_input": "2021-04-02T05:45:18.365010Z",
     "iopub.status.busy": "2021-04-02T05:45:18.364391Z",
     "iopub.status.idle": "2021-04-02T05:45:18.386587Z",
     "shell.execute_reply": "2021-04-02T05:45:18.387064Z"
    },
    "papermill": {
     "duration": 0.249073,
     "end_time": "2021-04-02T05:45:18.387246",
     "exception": false,
     "start_time": "2021-04-02T05:45:18.138173",
     "status": "completed"
    },
    "tags": []
   },
   "outputs": [],
   "source": [
    "train=pd.get_dummies(train)\n",
    "test=pd.get_dummies(test)\n"
   ]
  },
  {
   "cell_type": "code",
   "execution_count": 118,
   "metadata": {
    "execution": {
     "iopub.execute_input": "2021-04-02T05:45:18.839516Z",
     "iopub.status.busy": "2021-04-02T05:45:18.838883Z",
     "iopub.status.idle": "2021-04-02T05:45:18.860175Z",
     "shell.execute_reply": "2021-04-02T05:45:18.860665Z"
    },
    "papermill": {
     "duration": 0.248559,
     "end_time": "2021-04-02T05:45:18.860840",
     "exception": false,
     "start_time": "2021-04-02T05:45:18.612281",
     "status": "completed"
    },
    "tags": []
   },
   "outputs": [
    {
     "data": {
      "text/html": [
       "<div>\n",
       "<style scoped>\n",
       "    .dataframe tbody tr th:only-of-type {\n",
       "        vertical-align: middle;\n",
       "    }\n",
       "\n",
       "    .dataframe tbody tr th {\n",
       "        vertical-align: top;\n",
       "    }\n",
       "\n",
       "    .dataframe thead th {\n",
       "        text-align: right;\n",
       "    }\n",
       "</style>\n",
       "<table border=\"1\" class=\"dataframe\">\n",
       "  <thead>\n",
       "    <tr style=\"text-align: right;\">\n",
       "      <th></th>\n",
       "      <th>Credit_History</th>\n",
       "      <th>Loan_Status</th>\n",
       "      <th>LoanAmount_log</th>\n",
       "      <th>TotalIncome</th>\n",
       "      <th>TotalIncome_log</th>\n",
       "      <th>EMI</th>\n",
       "      <th>Balance_Income</th>\n",
       "      <th>Gender_Female</th>\n",
       "      <th>Gender_Male</th>\n",
       "      <th>Married_No</th>\n",
       "      <th>...</th>\n",
       "      <th>Dependents_0</th>\n",
       "      <th>Dependents_1</th>\n",
       "      <th>Dependents_2</th>\n",
       "      <th>Education_Graduate</th>\n",
       "      <th>Education_Not Graduate</th>\n",
       "      <th>Self_Employed_No</th>\n",
       "      <th>Self_Employed_Yes</th>\n",
       "      <th>Property_Area_Rural</th>\n",
       "      <th>Property_Area_Semiurban</th>\n",
       "      <th>Property_Area_Urban</th>\n",
       "    </tr>\n",
       "  </thead>\n",
       "  <tbody>\n",
       "    <tr>\n",
       "      <th>0</th>\n",
       "      <td>1.0</td>\n",
       "      <td>1</td>\n",
       "      <td>4.852030</td>\n",
       "      <td>5849.0</td>\n",
       "      <td>8.674026</td>\n",
       "      <td>0.355556</td>\n",
       "      <td>5493.444444</td>\n",
       "      <td>0</td>\n",
       "      <td>1</td>\n",
       "      <td>1</td>\n",
       "      <td>...</td>\n",
       "      <td>1</td>\n",
       "      <td>0</td>\n",
       "      <td>0</td>\n",
       "      <td>1</td>\n",
       "      <td>0</td>\n",
       "      <td>1</td>\n",
       "      <td>0</td>\n",
       "      <td>0</td>\n",
       "      <td>0</td>\n",
       "      <td>1</td>\n",
       "    </tr>\n",
       "    <tr>\n",
       "      <th>1</th>\n",
       "      <td>1.0</td>\n",
       "      <td>0</td>\n",
       "      <td>4.852030</td>\n",
       "      <td>6091.0</td>\n",
       "      <td>8.714568</td>\n",
       "      <td>0.355556</td>\n",
       "      <td>5735.444444</td>\n",
       "      <td>0</td>\n",
       "      <td>1</td>\n",
       "      <td>0</td>\n",
       "      <td>...</td>\n",
       "      <td>0</td>\n",
       "      <td>1</td>\n",
       "      <td>0</td>\n",
       "      <td>1</td>\n",
       "      <td>0</td>\n",
       "      <td>1</td>\n",
       "      <td>0</td>\n",
       "      <td>1</td>\n",
       "      <td>0</td>\n",
       "      <td>0</td>\n",
       "    </tr>\n",
       "    <tr>\n",
       "      <th>2</th>\n",
       "      <td>1.0</td>\n",
       "      <td>1</td>\n",
       "      <td>4.189655</td>\n",
       "      <td>3000.0</td>\n",
       "      <td>8.006368</td>\n",
       "      <td>0.183333</td>\n",
       "      <td>2816.666667</td>\n",
       "      <td>0</td>\n",
       "      <td>1</td>\n",
       "      <td>0</td>\n",
       "      <td>...</td>\n",
       "      <td>1</td>\n",
       "      <td>0</td>\n",
       "      <td>0</td>\n",
       "      <td>1</td>\n",
       "      <td>0</td>\n",
       "      <td>0</td>\n",
       "      <td>1</td>\n",
       "      <td>0</td>\n",
       "      <td>0</td>\n",
       "      <td>1</td>\n",
       "    </tr>\n",
       "  </tbody>\n",
       "</table>\n",
       "<p>3 rows × 22 columns</p>\n",
       "</div>"
      ],
      "text/plain": [
       "   Credit_History  Loan_Status  LoanAmount_log  TotalIncome  TotalIncome_log  \\\n",
       "0             1.0            1        4.852030       5849.0         8.674026   \n",
       "1             1.0            0        4.852030       6091.0         8.714568   \n",
       "2             1.0            1        4.189655       3000.0         8.006368   \n",
       "\n",
       "        EMI  Balance_Income  Gender_Female  Gender_Male  Married_No  ...  \\\n",
       "0  0.355556     5493.444444              0            1           1  ...   \n",
       "1  0.355556     5735.444444              0            1           0  ...   \n",
       "2  0.183333     2816.666667              0            1           0  ...   \n",
       "\n",
       "   Dependents_0  Dependents_1  Dependents_2  Education_Graduate  \\\n",
       "0             1             0             0                   1   \n",
       "1             0             1             0                   1   \n",
       "2             1             0             0                   1   \n",
       "\n",
       "   Education_Not Graduate  Self_Employed_No  Self_Employed_Yes  \\\n",
       "0                       0                 1                  0   \n",
       "1                       0                 1                  0   \n",
       "2                       0                 0                  1   \n",
       "\n",
       "   Property_Area_Rural  Property_Area_Semiurban  Property_Area_Urban  \n",
       "0                    0                        0                    1  \n",
       "1                    1                        0                    0  \n",
       "2                    0                        0                    1  \n",
       "\n",
       "[3 rows x 22 columns]"
      ]
     },
     "execution_count": 118,
     "metadata": {},
     "output_type": "execute_result"
    }
   ],
   "source": [
    "train.head(3)"
   ]
  },
  {
   "cell_type": "code",
   "execution_count": 119,
   "metadata": {
    "execution": {
     "iopub.execute_input": "2021-04-02T05:45:19.317645Z",
     "iopub.status.busy": "2021-04-02T05:45:19.316989Z",
     "iopub.status.idle": "2021-04-02T05:45:19.337960Z",
     "shell.execute_reply": "2021-04-02T05:45:19.338414Z"
    },
    "papermill": {
     "duration": 0.247466,
     "end_time": "2021-04-02T05:45:19.338585",
     "exception": false,
     "start_time": "2021-04-02T05:45:19.091119",
     "status": "completed"
    },
    "tags": []
   },
   "outputs": [
    {
     "data": {
      "text/html": [
       "<div>\n",
       "<style scoped>\n",
       "    .dataframe tbody tr th:only-of-type {\n",
       "        vertical-align: middle;\n",
       "    }\n",
       "\n",
       "    .dataframe tbody tr th {\n",
       "        vertical-align: top;\n",
       "    }\n",
       "\n",
       "    .dataframe thead th {\n",
       "        text-align: right;\n",
       "    }\n",
       "</style>\n",
       "<table border=\"1\" class=\"dataframe\">\n",
       "  <thead>\n",
       "    <tr style=\"text-align: right;\">\n",
       "      <th></th>\n",
       "      <th>Credit_History</th>\n",
       "      <th>LoanAmount_log</th>\n",
       "      <th>TotalIncome</th>\n",
       "      <th>TotalIncome_log</th>\n",
       "      <th>EMI</th>\n",
       "      <th>Balance_Income</th>\n",
       "      <th>Gender_Female</th>\n",
       "      <th>Gender_Male</th>\n",
       "      <th>Married_No</th>\n",
       "      <th>Married_Yes</th>\n",
       "      <th>...</th>\n",
       "      <th>Dependents_0</th>\n",
       "      <th>Dependents_1</th>\n",
       "      <th>Dependents_2</th>\n",
       "      <th>Education_Graduate</th>\n",
       "      <th>Education_Not Graduate</th>\n",
       "      <th>Self_Employed_No</th>\n",
       "      <th>Self_Employed_Yes</th>\n",
       "      <th>Property_Area_Rural</th>\n",
       "      <th>Property_Area_Semiurban</th>\n",
       "      <th>Property_Area_Urban</th>\n",
       "    </tr>\n",
       "  </thead>\n",
       "  <tbody>\n",
       "    <tr>\n",
       "      <th>0</th>\n",
       "      <td>1.0</td>\n",
       "      <td>4.852030</td>\n",
       "      <td>5720</td>\n",
       "      <td>8.674026</td>\n",
       "      <td>0.305556</td>\n",
       "      <td>5719.694444</td>\n",
       "      <td>0</td>\n",
       "      <td>1</td>\n",
       "      <td>0</td>\n",
       "      <td>1</td>\n",
       "      <td>...</td>\n",
       "      <td>1</td>\n",
       "      <td>0</td>\n",
       "      <td>0</td>\n",
       "      <td>1</td>\n",
       "      <td>0</td>\n",
       "      <td>1</td>\n",
       "      <td>0</td>\n",
       "      <td>0</td>\n",
       "      <td>0</td>\n",
       "      <td>1</td>\n",
       "    </tr>\n",
       "    <tr>\n",
       "      <th>1</th>\n",
       "      <td>1.0</td>\n",
       "      <td>4.852030</td>\n",
       "      <td>4576</td>\n",
       "      <td>8.714568</td>\n",
       "      <td>0.350000</td>\n",
       "      <td>4575.650000</td>\n",
       "      <td>0</td>\n",
       "      <td>1</td>\n",
       "      <td>0</td>\n",
       "      <td>1</td>\n",
       "      <td>...</td>\n",
       "      <td>0</td>\n",
       "      <td>1</td>\n",
       "      <td>0</td>\n",
       "      <td>1</td>\n",
       "      <td>0</td>\n",
       "      <td>1</td>\n",
       "      <td>0</td>\n",
       "      <td>0</td>\n",
       "      <td>0</td>\n",
       "      <td>1</td>\n",
       "    </tr>\n",
       "    <tr>\n",
       "      <th>2</th>\n",
       "      <td>1.0</td>\n",
       "      <td>4.189655</td>\n",
       "      <td>6800</td>\n",
       "      <td>8.006368</td>\n",
       "      <td>0.577778</td>\n",
       "      <td>6799.422222</td>\n",
       "      <td>0</td>\n",
       "      <td>1</td>\n",
       "      <td>0</td>\n",
       "      <td>1</td>\n",
       "      <td>...</td>\n",
       "      <td>0</td>\n",
       "      <td>0</td>\n",
       "      <td>1</td>\n",
       "      <td>1</td>\n",
       "      <td>0</td>\n",
       "      <td>1</td>\n",
       "      <td>0</td>\n",
       "      <td>0</td>\n",
       "      <td>0</td>\n",
       "      <td>1</td>\n",
       "    </tr>\n",
       "  </tbody>\n",
       "</table>\n",
       "<p>3 rows × 21 columns</p>\n",
       "</div>"
      ],
      "text/plain": [
       "   Credit_History  LoanAmount_log  TotalIncome  TotalIncome_log       EMI  \\\n",
       "0             1.0        4.852030         5720         8.674026  0.305556   \n",
       "1             1.0        4.852030         4576         8.714568  0.350000   \n",
       "2             1.0        4.189655         6800         8.006368  0.577778   \n",
       "\n",
       "   Balance_Income  Gender_Female  Gender_Male  Married_No  Married_Yes  ...  \\\n",
       "0     5719.694444              0            1           0            1  ...   \n",
       "1     4575.650000              0            1           0            1  ...   \n",
       "2     6799.422222              0            1           0            1  ...   \n",
       "\n",
       "   Dependents_0  Dependents_1  Dependents_2  Education_Graduate  \\\n",
       "0             1             0             0                   1   \n",
       "1             0             1             0                   1   \n",
       "2             0             0             1                   1   \n",
       "\n",
       "   Education_Not Graduate  Self_Employed_No  Self_Employed_Yes  \\\n",
       "0                       0                 1                  0   \n",
       "1                       0                 1                  0   \n",
       "2                       0                 1                  0   \n",
       "\n",
       "   Property_Area_Rural  Property_Area_Semiurban  Property_Area_Urban  \n",
       "0                    0                        0                    1  \n",
       "1                    0                        0                    1  \n",
       "2                    0                        0                    1  \n",
       "\n",
       "[3 rows x 21 columns]"
      ]
     },
     "execution_count": 119,
     "metadata": {},
     "output_type": "execute_result"
    }
   ],
   "source": [
    "test.head(3)"
   ]
  },
  {
   "cell_type": "markdown",
   "metadata": {
    "papermill": {
     "duration": 0.225446,
     "end_time": "2021-04-02T05:45:19.788716",
     "exception": false,
     "start_time": "2021-04-02T05:45:19.563270",
     "status": "completed"
    },
    "tags": []
   },
   "source": [
    "Now we will train the model on training dataset and make predictions for the test dataset. But can we validate these predictions? One way of doing this is we can divide our train dataset into two parts:train and validation. We can train the model on this train part and using that make predictions for the validation part. In this way we can validate our predictions as we have the true predictions for the validation part (which we do not have for the test dataset).\n",
    "\n",
    "We will use the train_test_split function from sklearn to divide our train dataset. So, first let us import train_test_split."
   ]
  },
  {
   "cell_type": "code",
   "execution_count": 120,
   "metadata": {
    "execution": {
     "iopub.execute_input": "2021-04-02T05:45:20.279796Z",
     "iopub.status.busy": "2021-04-02T05:45:20.279067Z",
     "iopub.status.idle": "2021-04-02T05:45:20.505621Z",
     "shell.execute_reply": "2021-04-02T05:45:20.504980Z"
    },
    "papermill": {
     "duration": 0.456278,
     "end_time": "2021-04-02T05:45:20.505757",
     "exception": false,
     "start_time": "2021-04-02T05:45:20.049479",
     "status": "completed"
    },
    "tags": []
   },
   "outputs": [],
   "source": [
    "from sklearn.model_selection import train_test_split"
   ]
  },
  {
   "cell_type": "code",
   "execution_count": 121,
   "metadata": {
    "execution": {
     "iopub.execute_input": "2021-04-02T05:45:20.966210Z",
     "iopub.status.busy": "2021-04-02T05:45:20.965262Z",
     "iopub.status.idle": "2021-04-02T05:45:20.968619Z",
     "shell.execute_reply": "2021-04-02T05:45:20.968054Z"
    },
    "papermill": {
     "duration": 0.237165,
     "end_time": "2021-04-02T05:45:20.968764",
     "exception": false,
     "start_time": "2021-04-02T05:45:20.731599",
     "status": "completed"
    },
    "tags": []
   },
   "outputs": [],
   "source": [
    "x_train,x_cv,y_train,y_cv=train_test_split(X,y,test_size=0.3,random_state=1)"
   ]
  },
  {
   "cell_type": "markdown",
   "metadata": {
    "papermill": {
     "duration": 0.225991,
     "end_time": "2021-04-02T05:45:21.421653",
     "exception": false,
     "start_time": "2021-04-02T05:45:21.195662",
     "status": "completed"
    },
    "tags": []
   },
   "source": [
    "The dataset has been divided into training and validation part.\n",
    "\n",
    "70% data will use for train the model and rest of the 30% data will use for checking validation of the model."
   ]
  },
  {
   "cell_type": "markdown",
   "metadata": {
    "papermill": {
     "duration": 0.229697,
     "end_time": "2021-04-02T05:45:21.878007",
     "exception": false,
     "start_time": "2021-04-02T05:45:21.648310",
     "status": "completed"
    },
    "tags": []
   },
   "source": [
    "# Logistic regresssion\n",
    "\n",
    "Let's import LogisticRegression and accuracy_score from sklearn and fit the logistic regression model."
   ]
  },
  {
   "cell_type": "code",
   "execution_count": 122,
   "metadata": {
    "execution": {
     "iopub.execute_input": "2021-04-02T05:45:22.334242Z",
     "iopub.status.busy": "2021-04-02T05:45:22.333586Z",
     "iopub.status.idle": "2021-04-02T05:45:22.444231Z",
     "shell.execute_reply": "2021-04-02T05:45:22.443596Z"
    },
    "papermill": {
     "duration": 0.339045,
     "end_time": "2021-04-02T05:45:22.444402",
     "exception": false,
     "start_time": "2021-04-02T05:45:22.105357",
     "status": "completed"
    },
    "tags": []
   },
   "outputs": [],
   "source": [
    "from sklearn.linear_model import LogisticRegression\n",
    "from sklearn.metrics import accuracy_score"
   ]
  },
  {
   "cell_type": "code",
   "execution_count": 123,
   "metadata": {
    "execution": {
     "iopub.execute_input": "2021-04-02T05:45:22.901537Z",
     "iopub.status.busy": "2021-04-02T05:45:22.900840Z",
     "iopub.status.idle": "2021-04-02T05:45:22.903900Z",
     "shell.execute_reply": "2021-04-02T05:45:22.903298Z"
    },
    "papermill": {
     "duration": 0.23367,
     "end_time": "2021-04-02T05:45:22.904053",
     "exception": false,
     "start_time": "2021-04-02T05:45:22.670383",
     "status": "completed"
    },
    "tags": []
   },
   "outputs": [],
   "source": [
    "logistic_model = LogisticRegression(random_state=1)"
   ]
  },
  {
   "cell_type": "code",
   "execution_count": 124,
   "metadata": {
    "execution": {
     "iopub.execute_input": "2021-04-02T05:45:23.357374Z",
     "iopub.status.busy": "2021-04-02T05:45:23.356457Z",
     "iopub.status.idle": "2021-04-02T05:45:23.386692Z",
     "shell.execute_reply": "2021-04-02T05:45:23.385986Z"
    },
    "papermill": {
     "duration": 0.257882,
     "end_time": "2021-04-02T05:45:23.386845",
     "exception": false,
     "start_time": "2021-04-02T05:45:23.128963",
     "status": "completed"
    },
    "tags": []
   },
   "outputs": [
    {
     "data": {
      "text/plain": [
       "LogisticRegression(random_state=1)"
      ]
     },
     "execution_count": 124,
     "metadata": {},
     "output_type": "execute_result"
    }
   ],
   "source": [
    "logistic_model.fit(x_train,y_train)"
   ]
  },
  {
   "cell_type": "code",
   "execution_count": 125,
   "metadata": {
    "execution": {
     "iopub.execute_input": "2021-04-02T05:45:23.846971Z",
     "iopub.status.busy": "2021-04-02T05:45:23.846193Z",
     "iopub.status.idle": "2021-04-02T05:45:23.848827Z",
     "shell.execute_reply": "2021-04-02T05:45:23.848349Z"
    },
    "papermill": {
     "duration": 0.236391,
     "end_time": "2021-04-02T05:45:23.848980",
     "exception": false,
     "start_time": "2021-04-02T05:45:23.612589",
     "status": "completed"
    },
    "tags": []
   },
   "outputs": [],
   "source": [
    "pred_cv_logistic=logistic_model.predict(x_cv)"
   ]
  },
  {
   "cell_type": "code",
   "execution_count": 126,
   "metadata": {
    "execution": {
     "iopub.execute_input": "2021-04-02T05:45:24.310900Z",
     "iopub.status.busy": "2021-04-02T05:45:24.310141Z",
     "iopub.status.idle": "2021-04-02T05:45:24.312874Z",
     "shell.execute_reply": "2021-04-02T05:45:24.312406Z"
    },
    "papermill": {
     "duration": 0.234182,
     "end_time": "2021-04-02T05:45:24.313027",
     "exception": false,
     "start_time": "2021-04-02T05:45:24.078845",
     "status": "completed"
    },
    "tags": []
   },
   "outputs": [],
   "source": [
    "score_logistic =accuracy_score(pred_cv_logistic,y_cv)*100 "
   ]
  },
  {
   "cell_type": "code",
   "execution_count": 127,
   "metadata": {
    "execution": {
     "iopub.execute_input": "2021-04-02T05:45:24.771259Z",
     "iopub.status.busy": "2021-04-02T05:45:24.770285Z",
     "iopub.status.idle": "2021-04-02T05:45:24.774039Z",
     "shell.execute_reply": "2021-04-02T05:45:24.773480Z"
    },
    "papermill": {
     "duration": 0.235664,
     "end_time": "2021-04-02T05:45:24.774175",
     "exception": false,
     "start_time": "2021-04-02T05:45:24.538511",
     "status": "completed"
    },
    "tags": []
   },
   "outputs": [
    {
     "data": {
      "text/plain": [
       "75.67567567567568"
      ]
     },
     "execution_count": 127,
     "metadata": {},
     "output_type": "execute_result"
    }
   ],
   "source": [
    "score_logistic"
   ]
  },
  {
   "cell_type": "markdown",
   "metadata": {
    "papermill": {
     "duration": 0.265694,
     "end_time": "2021-04-02T05:45:25.265883",
     "exception": false,
     "start_time": "2021-04-02T05:45:25.000189",
     "status": "completed"
    },
    "tags": []
   },
   "source": [
    "So our predictions are almost 79% accurate, i.e. we have identified 75% of the loan status correctly for our logistic regression model.\n",
    "\n",
    "Let’s make predictions for the test dataset."
   ]
  },
  {
   "cell_type": "code",
   "execution_count": 128,
   "metadata": {
    "execution": {
     "iopub.execute_input": "2021-04-02T05:45:25.727048Z",
     "iopub.status.busy": "2021-04-02T05:45:25.726445Z",
     "iopub.status.idle": "2021-04-02T05:45:25.730115Z",
     "shell.execute_reply": "2021-04-02T05:45:25.729523Z"
    },
    "papermill": {
     "duration": 0.238009,
     "end_time": "2021-04-02T05:45:25.730256",
     "exception": false,
     "start_time": "2021-04-02T05:45:25.492247",
     "status": "completed"
    },
    "tags": []
   },
   "outputs": [
    {
     "data": {
      "text/plain": [
       "Credit_History             float64\n",
       "LoanAmount_log             float64\n",
       "TotalIncome                  int64\n",
       "TotalIncome_log            float64\n",
       "EMI                        float64\n",
       "Balance_Income             float64\n",
       "Gender_Female                uint8\n",
       "Gender_Male                  uint8\n",
       "Married_No                   uint8\n",
       "Married_Yes                  uint8\n",
       "Dependents_3                 uint8\n",
       "Dependents_0                 uint8\n",
       "Dependents_1                 uint8\n",
       "Dependents_2                 uint8\n",
       "Education_Graduate           uint8\n",
       "Education_Not Graduate       uint8\n",
       "Self_Employed_No             uint8\n",
       "Self_Employed_Yes            uint8\n",
       "Property_Area_Rural          uint8\n",
       "Property_Area_Semiurban      uint8\n",
       "Property_Area_Urban          uint8\n",
       "dtype: object"
      ]
     },
     "execution_count": 128,
     "metadata": {},
     "output_type": "execute_result"
    }
   ],
   "source": [
    "test.dtypes"
   ]
  },
  {
   "cell_type": "code",
   "execution_count": 129,
   "metadata": {
    "execution": {
     "iopub.execute_input": "2021-04-02T05:45:26.195693Z",
     "iopub.status.busy": "2021-04-02T05:45:26.195020Z",
     "iopub.status.idle": "2021-04-02T05:45:26.197884Z",
     "shell.execute_reply": "2021-04-02T05:45:26.198558Z"
    },
    "papermill": {
     "duration": 0.236915,
     "end_time": "2021-04-02T05:45:26.198734",
     "exception": false,
     "start_time": "2021-04-02T05:45:25.961819",
     "status": "completed"
    },
    "tags": []
   },
   "outputs": [],
   "source": [
    "pred_test_logistic = logistic_model.predict(test)"
   ]
  },
  {
   "cell_type": "markdown",
   "metadata": {
    "papermill": {
     "duration": 0.22729,
     "end_time": "2021-04-02T05:45:26.654555",
     "exception": false,
     "start_time": "2021-04-02T05:45:26.427265",
     "status": "completed"
    },
    "tags": []
   },
   "source": [
    "# Decision Tree\n",
    "\n",
    "Let's import Decison Tree Classifier"
   ]
  },
  {
   "cell_type": "code",
   "execution_count": 130,
   "metadata": {
    "execution": {
     "iopub.execute_input": "2021-04-02T05:45:27.115859Z",
     "iopub.status.busy": "2021-04-02T05:45:27.115218Z",
     "iopub.status.idle": "2021-04-02T05:45:27.229793Z",
     "shell.execute_reply": "2021-04-02T05:45:27.229225Z"
    },
    "papermill": {
     "duration": 0.34739,
     "end_time": "2021-04-02T05:45:27.229953",
     "exception": false,
     "start_time": "2021-04-02T05:45:26.882563",
     "status": "completed"
    },
    "tags": []
   },
   "outputs": [],
   "source": [
    "from sklearn.tree import DecisionTreeClassifier"
   ]
  },
  {
   "cell_type": "markdown",
   "metadata": {
    "papermill": {
     "duration": 0.228471,
     "end_time": "2021-04-02T05:45:27.687240",
     "exception": false,
     "start_time": "2021-04-02T05:45:27.458769",
     "status": "completed"
    },
    "tags": []
   },
   "source": []
  },
  {
   "cell_type": "code",
   "execution_count": 131,
   "metadata": {
    "execution": {
     "iopub.execute_input": "2021-04-02T05:45:28.147418Z",
     "iopub.status.busy": "2021-04-02T05:45:28.146787Z",
     "iopub.status.idle": "2021-04-02T05:45:28.151490Z",
     "shell.execute_reply": "2021-04-02T05:45:28.150982Z"
    },
    "papermill": {
     "duration": 0.235828,
     "end_time": "2021-04-02T05:45:28.151621",
     "exception": false,
     "start_time": "2021-04-02T05:45:27.915793",
     "status": "completed"
    },
    "tags": []
   },
   "outputs": [],
   "source": [
    "tree_model = DecisionTreeClassifier(random_state=1)"
   ]
  },
  {
   "cell_type": "markdown",
   "metadata": {
    "papermill": {
     "duration": 0.22723,
     "end_time": "2021-04-02T05:45:28.609379",
     "exception": false,
     "start_time": "2021-04-02T05:45:28.382149",
     "status": "completed"
    },
    "tags": []
   },
   "source": []
  },
  {
   "cell_type": "markdown",
   "metadata": {
    "papermill": {
     "duration": 0.231719,
     "end_time": "2021-04-02T05:45:29.070542",
     "exception": false,
     "start_time": "2021-04-02T05:45:28.838823",
     "status": "completed"
    },
    "tags": []
   },
   "source": []
  },
  {
   "cell_type": "markdown",
   "metadata": {
    "papermill": {
     "duration": 0.228831,
     "end_time": "2021-04-02T05:45:29.528714",
     "exception": false,
     "start_time": "2021-04-02T05:45:29.299883",
     "status": "completed"
    },
    "tags": []
   },
   "source": [
    "Fit the model :"
   ]
  },
  {
   "cell_type": "code",
   "execution_count": 132,
   "metadata": {
    "execution": {
     "iopub.execute_input": "2021-04-02T05:45:29.996881Z",
     "iopub.status.busy": "2021-04-02T05:45:29.996211Z",
     "iopub.status.idle": "2021-04-02T05:45:30.011938Z",
     "shell.execute_reply": "2021-04-02T05:45:30.011235Z"
    },
    "papermill": {
     "duration": 0.252454,
     "end_time": "2021-04-02T05:45:30.012100",
     "exception": false,
     "start_time": "2021-04-02T05:45:29.759646",
     "status": "completed"
    },
    "tags": []
   },
   "outputs": [
    {
     "data": {
      "text/plain": [
       "DecisionTreeClassifier(random_state=1)"
      ]
     },
     "execution_count": 132,
     "metadata": {},
     "output_type": "execute_result"
    }
   ],
   "source": [
    "tree_model.fit(x_train,y_train)"
   ]
  },
  {
   "cell_type": "code",
   "execution_count": 133,
   "metadata": {
    "execution": {
     "iopub.execute_input": "2021-04-02T05:45:30.477107Z",
     "iopub.status.busy": "2021-04-02T05:45:30.476506Z",
     "iopub.status.idle": "2021-04-02T05:45:30.482454Z",
     "shell.execute_reply": "2021-04-02T05:45:30.482969Z"
    },
    "papermill": {
     "duration": 0.239599,
     "end_time": "2021-04-02T05:45:30.483148",
     "exception": false,
     "start_time": "2021-04-02T05:45:30.243549",
     "status": "completed"
    },
    "tags": []
   },
   "outputs": [],
   "source": [
    "pred_cv_tree=tree_model.predict(x_cv)"
   ]
  },
  {
   "cell_type": "code",
   "execution_count": 134,
   "metadata": {
    "execution": {
     "iopub.execute_input": "2021-04-02T05:45:30.966227Z",
     "iopub.status.busy": "2021-04-02T05:45:30.965485Z",
     "iopub.status.idle": "2021-04-02T05:45:30.971222Z",
     "shell.execute_reply": "2021-04-02T05:45:30.972040Z"
    },
    "papermill": {
     "duration": 0.260303,
     "end_time": "2021-04-02T05:45:30.972334",
     "exception": false,
     "start_time": "2021-04-02T05:45:30.712031",
     "status": "completed"
    },
    "tags": []
   },
   "outputs": [],
   "source": [
    "score_tree =accuracy_score(pred_cv_tree,y_cv)*100 "
   ]
  },
  {
   "cell_type": "code",
   "execution_count": 135,
   "metadata": {
    "execution": {
     "iopub.execute_input": "2021-04-02T05:45:31.448073Z",
     "iopub.status.busy": "2021-04-02T05:45:31.447163Z",
     "iopub.status.idle": "2021-04-02T05:45:31.452532Z",
     "shell.execute_reply": "2021-04-02T05:45:31.453146Z"
    },
    "papermill": {
     "duration": 0.236188,
     "end_time": "2021-04-02T05:45:31.453324",
     "exception": false,
     "start_time": "2021-04-02T05:45:31.217136",
     "status": "completed"
    },
    "tags": []
   },
   "outputs": [
    {
     "data": {
      "text/plain": [
       "71.35135135135135"
      ]
     },
     "execution_count": 135,
     "metadata": {},
     "output_type": "execute_result"
    }
   ],
   "source": [
    "score_tree"
   ]
  },
  {
   "cell_type": "markdown",
   "metadata": {
    "papermill": {
     "duration": 0.228088,
     "end_time": "2021-04-02T05:45:31.910084",
     "exception": false,
     "start_time": "2021-04-02T05:45:31.681996",
     "status": "completed"
    },
    "tags": []
   },
   "source": [
    "our predictions are almost 71% accurate, i.e. we have identified 71% of the loan status correctly for our Decision tree model.\n",
    "\n",
    "Let’s make predictions for the test dataset."
   ]
  },
  {
   "cell_type": "code",
   "execution_count": 136,
   "metadata": {
    "execution": {
     "iopub.execute_input": "2021-04-02T05:45:32.374112Z",
     "iopub.status.busy": "2021-04-02T05:45:32.373155Z",
     "iopub.status.idle": "2021-04-02T05:45:32.379974Z",
     "shell.execute_reply": "2021-04-02T05:45:32.380509Z"
    },
    "papermill": {
     "duration": 0.239963,
     "end_time": "2021-04-02T05:45:32.380675",
     "exception": false,
     "start_time": "2021-04-02T05:45:32.140712",
     "status": "completed"
    },
    "tags": []
   },
   "outputs": [],
   "source": [
    "pred_test_tree = tree_model.predict(test)"
   ]
  },
  {
   "cell_type": "markdown",
   "metadata": {
    "papermill": {
     "duration": 0.229505,
     "end_time": "2021-04-02T05:45:32.839175",
     "exception": false,
     "start_time": "2021-04-02T05:45:32.609670",
     "status": "completed"
    },
    "tags": []
   },
   "source": []
  },
  {
   "cell_type": "markdown",
   "metadata": {
    "papermill": {
     "duration": 0.228144,
     "end_time": "2021-04-02T05:45:33.297411",
     "exception": false,
     "start_time": "2021-04-02T05:45:33.069267",
     "status": "completed"
    },
    "tags": []
   },
   "source": [
    "# Random Forest"
   ]
  },
  {
   "cell_type": "markdown",
   "metadata": {
    "papermill": {
     "duration": 0.22904,
     "end_time": "2021-04-02T05:45:33.754760",
     "exception": false,
     "start_time": "2021-04-02T05:45:33.525720",
     "status": "completed"
    },
    "tags": []
   },
   "source": [
    "i)RandomForest is a tree based bootstrapping algorithm wherein a certain no. of weak learners (decision trees) are combined to make a powerful prediction model.\n",
    "\n",
    "ii)For every individual learner, a random sample of rows and a few randomly chosen variables are used to build a decision tree model.\n",
    "\n",
    "iii)Final prediction can be a function of all the predictions made by the individual learners.\n",
    "\n",
    "Let's import Random Forest Classifier\n",
    "\n"
   ]
  },
  {
   "cell_type": "code",
   "execution_count": 137,
   "metadata": {
    "execution": {
     "iopub.execute_input": "2021-04-02T05:45:34.217463Z",
     "iopub.status.busy": "2021-04-02T05:45:34.216457Z",
     "iopub.status.idle": "2021-04-02T05:45:34.249067Z",
     "shell.execute_reply": "2021-04-02T05:45:34.248373Z"
    },
    "papermill": {
     "duration": 0.264118,
     "end_time": "2021-04-02T05:45:34.249213",
     "exception": false,
     "start_time": "2021-04-02T05:45:33.985095",
     "status": "completed"
    },
    "tags": []
   },
   "outputs": [],
   "source": [
    "from sklearn.ensemble import RandomForestClassifier"
   ]
  },
  {
   "cell_type": "code",
   "execution_count": 138,
   "metadata": {
    "execution": {
     "iopub.execute_input": "2021-04-02T05:45:34.710864Z",
     "iopub.status.busy": "2021-04-02T05:45:34.710153Z",
     "iopub.status.idle": "2021-04-02T05:45:34.712422Z",
     "shell.execute_reply": "2021-04-02T05:45:34.712835Z"
    },
    "papermill": {
     "duration": 0.235728,
     "end_time": "2021-04-02T05:45:34.713010",
     "exception": false,
     "start_time": "2021-04-02T05:45:34.477282",
     "status": "completed"
    },
    "tags": []
   },
   "outputs": [],
   "source": [
    "forest_model = RandomForestClassifier(random_state=1,max_depth=10,n_estimators=50)"
   ]
  },
  {
   "cell_type": "code",
   "execution_count": 139,
   "metadata": {
    "execution": {
     "iopub.execute_input": "2021-04-02T05:45:35.191983Z",
     "iopub.status.busy": "2021-04-02T05:45:35.186688Z",
     "iopub.status.idle": "2021-04-02T05:45:35.300940Z",
     "shell.execute_reply": "2021-04-02T05:45:35.300353Z"
    },
    "papermill": {
     "duration": 0.357883,
     "end_time": "2021-04-02T05:45:35.301105",
     "exception": false,
     "start_time": "2021-04-02T05:45:34.943222",
     "status": "completed"
    },
    "tags": []
   },
   "outputs": [
    {
     "data": {
      "text/plain": [
       "RandomForestClassifier(max_depth=10, n_estimators=50, random_state=1)"
      ]
     },
     "execution_count": 139,
     "metadata": {},
     "output_type": "execute_result"
    }
   ],
   "source": [
    "forest_model.fit(x_train,y_train)"
   ]
  },
  {
   "cell_type": "code",
   "execution_count": 140,
   "metadata": {
    "execution": {
     "iopub.execute_input": "2021-04-02T05:45:35.780572Z",
     "iopub.status.busy": "2021-04-02T05:45:35.779092Z",
     "iopub.status.idle": "2021-04-02T05:45:35.791957Z",
     "shell.execute_reply": "2021-04-02T05:45:35.791247Z"
    },
    "papermill": {
     "duration": 0.252763,
     "end_time": "2021-04-02T05:45:35.792141",
     "exception": false,
     "start_time": "2021-04-02T05:45:35.539378",
     "status": "completed"
    },
    "tags": []
   },
   "outputs": [],
   "source": [
    "pred_cv_forest=forest_model.predict(x_cv)"
   ]
  },
  {
   "cell_type": "code",
   "execution_count": 141,
   "metadata": {
    "execution": {
     "iopub.execute_input": "2021-04-02T05:45:36.258680Z",
     "iopub.status.busy": "2021-04-02T05:45:36.258005Z",
     "iopub.status.idle": "2021-04-02T05:45:36.261385Z",
     "shell.execute_reply": "2021-04-02T05:45:36.260842Z"
    },
    "papermill": {
     "duration": 0.23749,
     "end_time": "2021-04-02T05:45:36.261521",
     "exception": false,
     "start_time": "2021-04-02T05:45:36.024031",
     "status": "completed"
    },
    "tags": []
   },
   "outputs": [],
   "source": [
    "score_forest = accuracy_score(pred_cv_forest,y_cv)*100\n"
   ]
  },
  {
   "cell_type": "code",
   "execution_count": 142,
   "metadata": {
    "execution": {
     "iopub.execute_input": "2021-04-02T05:45:36.725956Z",
     "iopub.status.busy": "2021-04-02T05:45:36.724914Z",
     "iopub.status.idle": "2021-04-02T05:45:36.729053Z",
     "shell.execute_reply": "2021-04-02T05:45:36.728467Z"
    },
    "papermill": {
     "duration": 0.2384,
     "end_time": "2021-04-02T05:45:36.729183",
     "exception": false,
     "start_time": "2021-04-02T05:45:36.490783",
     "status": "completed"
    },
    "tags": []
   },
   "outputs": [
    {
     "data": {
      "text/plain": [
       "77.83783783783784"
      ]
     },
     "execution_count": 142,
     "metadata": {},
     "output_type": "execute_result"
    }
   ],
   "source": [
    "score_forest"
   ]
  },
  {
   "cell_type": "markdown",
   "metadata": {
    "papermill": {
     "duration": 0.228564,
     "end_time": "2021-04-02T05:45:37.188932",
     "exception": false,
     "start_time": "2021-04-02T05:45:36.960368",
     "status": "completed"
    },
    "tags": []
   },
   "source": [
    "our predictions are almost 78% accurate, i.e. we have identified 78% of the loan status correctly for our Random Forest model.\n",
    "\n",
    "Let’s make predictions for the test dataset."
   ]
  },
  {
   "cell_type": "markdown",
   "metadata": {
    "papermill": {
     "duration": 0.22851,
     "end_time": "2021-04-02T05:45:37.647101",
     "exception": false,
     "start_time": "2021-04-02T05:45:37.418591",
     "status": "completed"
    },
    "tags": []
   },
   "source": []
  },
  {
   "cell_type": "code",
   "execution_count": 143,
   "metadata": {
    "execution": {
     "iopub.execute_input": "2021-04-02T05:45:38.115408Z",
     "iopub.status.busy": "2021-04-02T05:45:38.114412Z",
     "iopub.status.idle": "2021-04-02T05:45:38.125292Z",
     "shell.execute_reply": "2021-04-02T05:45:38.125787Z"
    },
    "papermill": {
     "duration": 0.247723,
     "end_time": "2021-04-02T05:45:38.125970",
     "exception": false,
     "start_time": "2021-04-02T05:45:37.878247",
     "status": "completed"
    },
    "tags": []
   },
   "outputs": [],
   "source": [
    "pred_test_forest=forest_model.predict(test)"
   ]
  },
  {
   "cell_type": "markdown",
   "metadata": {
    "papermill": {
     "duration": 0.229426,
     "end_time": "2021-04-02T05:45:38.584852",
     "exception": false,
     "start_time": "2021-04-02T05:45:38.355426",
     "status": "completed"
    },
    "tags": []
   },
   "source": [
    "# Random Forest with Grid-search¶"
   ]
  },
  {
   "cell_type": "markdown",
   "metadata": {
    "papermill": {
     "duration": 0.233013,
     "end_time": "2021-04-02T05:45:39.049230",
     "exception": false,
     "start_time": "2021-04-02T05:45:38.816217",
     "status": "completed"
    },
    "tags": []
   },
   "source": []
  },
  {
   "cell_type": "markdown",
   "metadata": {
    "papermill": {
     "duration": 0.228008,
     "end_time": "2021-04-02T05:45:39.506908",
     "exception": false,
     "start_time": "2021-04-02T05:45:39.278900",
     "status": "completed"
    },
    "tags": []
   },
   "source": []
  },
  {
   "cell_type": "markdown",
   "metadata": {
    "papermill": {
     "duration": 0.231059,
     "end_time": "2021-04-02T05:45:39.968240",
     "exception": false,
     "start_time": "2021-04-02T05:45:39.737181",
     "status": "completed"
    },
    "tags": []
   },
   "source": [
    "We will try to improve the accuracy by tuning the hyperparameters for this model. We will use grid search to get the optimized values of hyper parameters. Grid-search is a way to select the best of a family of hyper parameters, parametrized by a grid of parameters.\n",
    "\n",
    "We will tune the max_depth and n_estimators parameters. max_depth decides the maximum depth of the tree and n_estimators decides the number of trees that will be used in random forest model.\n",
    "\n",
    "Let's import GridSearchCV"
   ]
  },
  {
   "cell_type": "code",
   "execution_count": 144,
   "metadata": {
    "execution": {
     "iopub.execute_input": "2021-04-02T05:45:40.431693Z",
     "iopub.status.busy": "2021-04-02T05:45:40.430774Z",
     "iopub.status.idle": "2021-04-02T05:45:40.434603Z",
     "shell.execute_reply": "2021-04-02T05:45:40.435188Z"
    },
    "papermill": {
     "duration": 0.236622,
     "end_time": "2021-04-02T05:45:40.435342",
     "exception": false,
     "start_time": "2021-04-02T05:45:40.198720",
     "status": "completed"
    },
    "tags": []
   },
   "outputs": [],
   "source": [
    "from sklearn.model_selection import GridSearchCV"
   ]
  },
  {
   "cell_type": "markdown",
   "metadata": {
    "papermill": {
     "duration": 0.232928,
     "end_time": "2021-04-02T05:45:40.898449",
     "exception": false,
     "start_time": "2021-04-02T05:45:40.665521",
     "status": "completed"
    },
    "tags": []
   },
   "source": [
    "Provide range for max_depth from 1 to 20 with an interval of 2 and from 1 to 200 with an interval of 20 for n_estimators."
   ]
  },
  {
   "cell_type": "code",
   "execution_count": 145,
   "metadata": {
    "execution": {
     "iopub.execute_input": "2021-04-02T05:45:41.361730Z",
     "iopub.status.busy": "2021-04-02T05:45:41.360717Z",
     "iopub.status.idle": "2021-04-02T05:45:41.365421Z",
     "shell.execute_reply": "2021-04-02T05:45:41.365947Z"
    },
    "papermill": {
     "duration": 0.238051,
     "end_time": "2021-04-02T05:45:41.366134",
     "exception": false,
     "start_time": "2021-04-02T05:45:41.128083",
     "status": "completed"
    },
    "tags": []
   },
   "outputs": [],
   "source": [
    "paramgrid = {'max_depth': list(range(1,20,2)),'n_estimators':list(range(1,200,20))}"
   ]
  },
  {
   "cell_type": "code",
   "execution_count": 146,
   "metadata": {
    "execution": {
     "iopub.execute_input": "2021-04-02T05:45:41.833369Z",
     "iopub.status.busy": "2021-04-02T05:45:41.832425Z",
     "iopub.status.idle": "2021-04-02T05:45:41.836404Z",
     "shell.execute_reply": "2021-04-02T05:45:41.836873Z"
    },
    "papermill": {
     "duration": 0.240198,
     "end_time": "2021-04-02T05:45:41.837059",
     "exception": false,
     "start_time": "2021-04-02T05:45:41.596861",
     "status": "completed"
    },
    "tags": []
   },
   "outputs": [],
   "source": [
    "grid_search = GridSearchCV(RandomForestClassifier(random_state=1),paramgrid)"
   ]
  },
  {
   "cell_type": "code",
   "execution_count": 147,
   "metadata": {
    "execution": {
     "iopub.execute_input": "2021-04-02T05:45:42.341826Z",
     "iopub.status.busy": "2021-04-02T05:45:42.340903Z",
     "iopub.status.idle": "2021-04-02T05:47:21.137156Z",
     "shell.execute_reply": "2021-04-02T05:47:21.137985Z"
    },
    "papermill": {
     "duration": 99.037315,
     "end_time": "2021-04-02T05:47:21.138250",
     "exception": false,
     "start_time": "2021-04-02T05:45:42.100935",
     "status": "completed"
    },
    "tags": []
   },
   "outputs": [
    {
     "data": {
      "text/plain": [
       "GridSearchCV(estimator=RandomForestClassifier(random_state=1),\n",
       "             param_grid={'max_depth': [1, 3, 5, 7, 9, 11, 13, 15, 17, 19],\n",
       "                         'n_estimators': [1, 21, 41, 61, 81, 101, 121, 141, 161,\n",
       "                                          181]})"
      ]
     },
     "execution_count": 147,
     "metadata": {},
     "output_type": "execute_result"
    }
   ],
   "source": [
    "grid_search.fit(x_train,y_train)"
   ]
  },
  {
   "cell_type": "code",
   "execution_count": 148,
   "metadata": {
    "execution": {
     "iopub.execute_input": "2021-04-02T05:47:21.651560Z",
     "iopub.status.busy": "2021-04-02T05:47:21.650627Z",
     "iopub.status.idle": "2021-04-02T05:47:21.657468Z",
     "shell.execute_reply": "2021-04-02T05:47:21.658080Z"
    },
    "papermill": {
     "duration": 0.254046,
     "end_time": "2021-04-02T05:47:21.658250",
     "exception": false,
     "start_time": "2021-04-02T05:47:21.404204",
     "status": "completed"
    },
    "tags": []
   },
   "outputs": [
    {
     "data": {
      "text/plain": [
       "RandomForestClassifier(max_depth=7, n_estimators=41, random_state=1)"
      ]
     },
     "execution_count": 148,
     "metadata": {},
     "output_type": "execute_result"
    }
   ],
   "source": [
    "grid_search.best_estimator_"
   ]
  },
  {
   "cell_type": "markdown",
   "metadata": {
    "papermill": {
     "duration": 0.236444,
     "end_time": "2021-04-02T05:47:22.130781",
     "exception": false,
     "start_time": "2021-04-02T05:47:21.894337",
     "status": "completed"
    },
    "tags": []
   },
   "source": [
    "The optimized value for the max_depth variable is 3 and for n_estimator is 101,random_state = 1. Now let’s build the model using these optimized values."
   ]
  },
  {
   "cell_type": "code",
   "execution_count": 149,
   "metadata": {
    "execution": {
     "iopub.execute_input": "2021-04-02T05:47:22.597318Z",
     "iopub.status.busy": "2021-04-02T05:47:22.595482Z",
     "iopub.status.idle": "2021-04-02T05:47:22.600422Z",
     "shell.execute_reply": "2021-04-02T05:47:22.599809Z"
    },
    "papermill": {
     "duration": 0.238284,
     "end_time": "2021-04-02T05:47:22.600554",
     "exception": false,
     "start_time": "2021-04-02T05:47:22.362270",
     "status": "completed"
    },
    "tags": []
   },
   "outputs": [],
   "source": [
    "grid_forest_model = RandomForestClassifier(random_state=1,max_depth=3,n_estimators=101)"
   ]
  },
  {
   "cell_type": "code",
   "execution_count": 150,
   "metadata": {
    "execution": {
     "iopub.execute_input": "2021-04-02T05:47:23.069944Z",
     "iopub.status.busy": "2021-04-02T05:47:23.069305Z",
     "iopub.status.idle": "2021-04-02T05:47:23.267577Z",
     "shell.execute_reply": "2021-04-02T05:47:23.268067Z"
    },
    "papermill": {
     "duration": 0.437566,
     "end_time": "2021-04-02T05:47:23.268247",
     "exception": false,
     "start_time": "2021-04-02T05:47:22.830681",
     "status": "completed"
    },
    "tags": []
   },
   "outputs": [
    {
     "data": {
      "text/plain": [
       "RandomForestClassifier(max_depth=3, n_estimators=101, random_state=1)"
      ]
     },
     "execution_count": 150,
     "metadata": {},
     "output_type": "execute_result"
    }
   ],
   "source": [
    "grid_forest_model.fit(x_train,y_train)\n"
   ]
  },
  {
   "cell_type": "code",
   "execution_count": 151,
   "metadata": {
    "execution": {
     "iopub.execute_input": "2021-04-02T05:47:23.736388Z",
     "iopub.status.busy": "2021-04-02T05:47:23.735731Z",
     "iopub.status.idle": "2021-04-02T05:47:23.752802Z",
     "shell.execute_reply": "2021-04-02T05:47:23.753329Z"
    },
    "papermill": {
     "duration": 0.251878,
     "end_time": "2021-04-02T05:47:23.753503",
     "exception": false,
     "start_time": "2021-04-02T05:47:23.501625",
     "status": "completed"
    },
    "tags": []
   },
   "outputs": [],
   "source": [
    "pred_grid_forest = grid_forest_model.predict(x_cv)"
   ]
  },
  {
   "cell_type": "code",
   "execution_count": 152,
   "metadata": {
    "execution": {
     "iopub.execute_input": "2021-04-02T05:47:24.269628Z",
     "iopub.status.busy": "2021-04-02T05:47:24.269037Z",
     "iopub.status.idle": "2021-04-02T05:47:24.273094Z",
     "shell.execute_reply": "2021-04-02T05:47:24.273535Z"
    },
    "papermill": {
     "duration": 0.284009,
     "end_time": "2021-04-02T05:47:24.273713",
     "exception": false,
     "start_time": "2021-04-02T05:47:23.989704",
     "status": "completed"
    },
    "tags": []
   },
   "outputs": [],
   "source": [
    "score_grid_forest = accuracy_score(pred_grid_forest,y_cv)*100"
   ]
  },
  {
   "cell_type": "code",
   "execution_count": 153,
   "metadata": {
    "execution": {
     "iopub.execute_input": "2021-04-02T05:47:24.739718Z",
     "iopub.status.busy": "2021-04-02T05:47:24.738958Z",
     "iopub.status.idle": "2021-04-02T05:47:24.743296Z",
     "shell.execute_reply": "2021-04-02T05:47:24.743729Z"
    },
    "papermill": {
     "duration": 0.238876,
     "end_time": "2021-04-02T05:47:24.743897",
     "exception": false,
     "start_time": "2021-04-02T05:47:24.505021",
     "status": "completed"
    },
    "tags": []
   },
   "outputs": [
    {
     "data": {
      "text/plain": [
       "76.75675675675676"
      ]
     },
     "execution_count": 153,
     "metadata": {},
     "output_type": "execute_result"
    }
   ],
   "source": [
    "score_grid_forest"
   ]
  },
  {
   "cell_type": "markdown",
   "metadata": {
    "papermill": {
     "duration": 0.234236,
     "end_time": "2021-04-02T05:47:25.213499",
     "exception": false,
     "start_time": "2021-04-02T05:47:24.979263",
     "status": "completed"
    },
    "tags": []
   },
   "source": [
    "our predictions are almost 77% accurate, i.e. we have identified 77% of the loan status correctly for our Random Forest model with grid search."
   ]
  },
  {
   "cell_type": "code",
   "execution_count": 154,
   "metadata": {
    "execution": {
     "iopub.execute_input": "2021-04-02T05:47:25.681029Z",
     "iopub.status.busy": "2021-04-02T05:47:25.680403Z",
     "iopub.status.idle": "2021-04-02T05:47:25.700409Z",
     "shell.execute_reply": "2021-04-02T05:47:25.700872Z"
    },
    "papermill": {
     "duration": 0.255748,
     "end_time": "2021-04-02T05:47:25.701071",
     "exception": false,
     "start_time": "2021-04-02T05:47:25.445323",
     "status": "completed"
    },
    "tags": []
   },
   "outputs": [],
   "source": [
    "pred_grid_forest_test = grid_forest_model.predict(test)"
   ]
  },
  {
   "cell_type": "markdown",
   "metadata": {
    "papermill": {
     "duration": 0.236927,
     "end_time": "2021-04-02T05:47:26.171786",
     "exception": false,
     "start_time": "2021-04-02T05:47:25.934859",
     "status": "completed"
    },
    "tags": []
   },
   "source": [
    "XGBoost is a fast and efficient algorithm.XGBoost works only with numeric variables and we have already replaced the categorical variables with numeric variables.\n",
    "\n",
    "Let’s have a look at the parameters that we are going to use in our model\n",
    "\n",
    "Let's import XGBClassifier and fit the model.\n",
    "\n",
    "n_estimator: This specifies the number of trees for the model.\n",
    "\n",
    "max_depth: We can specify maximum depth of a tree using this parameter."
   ]
  },
  {
   "cell_type": "code",
   "execution_count": 155,
   "metadata": {
    "execution": {
     "iopub.execute_input": "2021-04-02T05:47:26.644193Z",
     "iopub.status.busy": "2021-04-02T05:47:26.643527Z",
     "iopub.status.idle": "2021-04-02T05:47:26.929996Z",
     "shell.execute_reply": "2021-04-02T05:47:26.930577Z"
    },
    "papermill": {
     "duration": 0.524191,
     "end_time": "2021-04-02T05:47:26.930773",
     "exception": false,
     "start_time": "2021-04-02T05:47:26.406582",
     "status": "completed"
    },
    "tags": []
   },
   "outputs": [],
   "source": [
    "from xgboost import XGBClassifier"
   ]
  },
  {
   "cell_type": "code",
   "execution_count": 156,
   "metadata": {
    "execution": {
     "iopub.execute_input": "2021-04-02T05:47:27.402140Z",
     "iopub.status.busy": "2021-04-02T05:47:27.401187Z",
     "iopub.status.idle": "2021-04-02T05:47:27.406345Z",
     "shell.execute_reply": "2021-04-02T05:47:27.405829Z"
    },
    "papermill": {
     "duration": 0.240831,
     "end_time": "2021-04-02T05:47:27.406485",
     "exception": false,
     "start_time": "2021-04-02T05:47:27.165654",
     "status": "completed"
    },
    "tags": []
   },
   "outputs": [],
   "source": [
    "xgb_model = XGBClassifier(n_estimators=50,max_depth=4)"
   ]
  },
  {
   "cell_type": "code",
   "execution_count": 157,
   "metadata": {
    "execution": {
     "iopub.execute_input": "2021-04-02T05:47:27.880984Z",
     "iopub.status.busy": "2021-04-02T05:47:27.879982Z",
     "iopub.status.idle": "2021-04-02T05:47:27.950030Z",
     "shell.execute_reply": "2021-04-02T05:47:27.949381Z"
    },
    "papermill": {
     "duration": 0.309468,
     "end_time": "2021-04-02T05:47:27.950172",
     "exception": false,
     "start_time": "2021-04-02T05:47:27.640704",
     "status": "completed"
    },
    "tags": []
   },
   "outputs": [
    {
     "name": "stdout",
     "output_type": "stream",
     "text": [
      "[05:47:27] WARNING: ../src/learner.cc:1061: Starting in XGBoost 1.3.0, the default evaluation metric used with the objective 'binary:logistic' was changed from 'error' to 'logloss'. Explicitly set eval_metric if you'd like to restore the old behavior.\n"
     ]
    },
    {
     "data": {
      "text/plain": [
       "XGBClassifier(base_score=0.5, booster='gbtree', colsample_bylevel=1,\n",
       "              colsample_bynode=1, colsample_bytree=1, gamma=0, gpu_id=-1,\n",
       "              importance_type='gain', interaction_constraints='',\n",
       "              learning_rate=0.300000012, max_delta_step=0, max_depth=4,\n",
       "              min_child_weight=1, missing=nan, monotone_constraints='()',\n",
       "              n_estimators=50, n_jobs=4, num_parallel_tree=1, random_state=0,\n",
       "              reg_alpha=0, reg_lambda=1, scale_pos_weight=1, subsample=1,\n",
       "              tree_method='exact', validate_parameters=1, verbosity=None)"
      ]
     },
     "execution_count": 157,
     "metadata": {},
     "output_type": "execute_result"
    }
   ],
   "source": [
    "xgb_model.fit(x_train,y_train)"
   ]
  },
  {
   "cell_type": "code",
   "execution_count": 158,
   "metadata": {
    "execution": {
     "iopub.execute_input": "2021-04-02T05:47:28.425371Z",
     "iopub.status.busy": "2021-04-02T05:47:28.424620Z",
     "iopub.status.idle": "2021-04-02T05:47:28.430262Z",
     "shell.execute_reply": "2021-04-02T05:47:28.430753Z"
    },
    "papermill": {
     "duration": 0.246863,
     "end_time": "2021-04-02T05:47:28.430974",
     "exception": false,
     "start_time": "2021-04-02T05:47:28.184111",
     "status": "completed"
    },
    "tags": []
   },
   "outputs": [],
   "source": [
    "pred_xgb=xgb_model.predict(x_cv)"
   ]
  },
  {
   "cell_type": "code",
   "execution_count": 159,
   "metadata": {
    "execution": {
     "iopub.execute_input": "2021-04-02T05:47:28.915050Z",
     "iopub.status.busy": "2021-04-02T05:47:28.914068Z",
     "iopub.status.idle": "2021-04-02T05:47:28.916531Z",
     "shell.execute_reply": "2021-04-02T05:47:28.917023Z"
    },
    "papermill": {
     "duration": 0.249067,
     "end_time": "2021-04-02T05:47:28.917183",
     "exception": false,
     "start_time": "2021-04-02T05:47:28.668116",
     "status": "completed"
    },
    "tags": []
   },
   "outputs": [],
   "source": [
    "score_xgb = accuracy_score(pred_xgb,y_cv)*100"
   ]
  },
  {
   "cell_type": "code",
   "execution_count": 160,
   "metadata": {
    "execution": {
     "iopub.execute_input": "2021-04-02T05:47:29.388649Z",
     "iopub.status.busy": "2021-04-02T05:47:29.388052Z",
     "iopub.status.idle": "2021-04-02T05:47:29.393209Z",
     "shell.execute_reply": "2021-04-02T05:47:29.393681Z"
    },
    "papermill": {
     "duration": 0.242231,
     "end_time": "2021-04-02T05:47:29.393851",
     "exception": false,
     "start_time": "2021-04-02T05:47:29.151620",
     "status": "completed"
    },
    "tags": []
   },
   "outputs": [
    {
     "data": {
      "text/plain": [
       "76.75675675675676"
      ]
     },
     "execution_count": 160,
     "metadata": {},
     "output_type": "execute_result"
    }
   ],
   "source": [
    "score_xgb"
   ]
  },
  {
   "cell_type": "markdown",
   "metadata": {
    "papermill": {
     "duration": 0.233595,
     "end_time": "2021-04-02T05:47:29.861548",
     "exception": false,
     "start_time": "2021-04-02T05:47:29.627953",
     "status": "completed"
    },
    "tags": []
   },
   "source": [
    "our predictions are almost 78% accurate, i.e. we have identified 78% of the loan status correctly for our XGBClassifier model.\n",
    "\n",
    "Logistic Regression model gives : 79% prediction accuracy\n",
    "\n",
    "Decision Tree model gives : 71% prediction accuracy\n",
    "\n",
    "Random Forest model gives : 78% prediction accuracy\n",
    "\n",
    "Random Forest with Grid Search model gives : 77% prediction accuracy\n",
    "\n",
    "XGBClassifier model gives : 78% prediction accuracy"
   ]
  },
  {
   "cell_type": "markdown",
   "metadata": {
    "papermill": {
     "duration": 0.234386,
     "end_time": "2021-04-02T05:47:30.334275",
     "exception": false,
     "start_time": "2021-04-02T05:47:30.099889",
     "status": "completed"
    },
    "tags": []
   },
   "source": [
    "Let us find the feature importance now, i.e. which features are most important for this problem. We will use feature_importances_attribute of sklearn to do it.\n",
    "\n",
    "As 'LogisticRegression' object has no attribute 'featureimportances' so we choose next high accuracy predictive model. Random Forest model is 2nd highest model.\n",
    "\n",
    "Using Random Forest model we can find out most important feature among the features."
   ]
  },
  {
   "cell_type": "markdown",
   "metadata": {
    "papermill": {
     "duration": 0.234535,
     "end_time": "2021-04-02T05:47:30.803028",
     "exception": false,
     "start_time": "2021-04-02T05:47:30.568493",
     "status": "completed"
    },
    "tags": []
   },
   "source": []
  },
  {
   "cell_type": "code",
   "execution_count": 161,
   "metadata": {
    "execution": {
     "iopub.execute_input": "2021-04-02T05:47:31.287192Z",
     "iopub.status.busy": "2021-04-02T05:47:31.286124Z",
     "iopub.status.idle": "2021-04-02T05:47:31.580897Z",
     "shell.execute_reply": "2021-04-02T05:47:31.580199Z"
    },
    "papermill": {
     "duration": 0.538533,
     "end_time": "2021-04-02T05:47:31.581055",
     "exception": false,
     "start_time": "2021-04-02T05:47:31.042522",
     "status": "completed"
    },
    "tags": []
   },
   "outputs": [
    {
     "data": {
      "text/plain": [
       "<AxesSubplot:>"
      ]
     },
     "execution_count": 161,
     "metadata": {},
     "output_type": "execute_result"
    },
    {
     "data": {
      "image/png": "[encoded data removed]",
      "text/plain": [
       "<Figure size 864x576 with 1 Axes>"
      ]
     },
     "metadata": {
      "needs_background": "light"
     },
     "output_type": "display_data"
    }
   ],
   "source": [
    "importances = pd.Series(forest_model.feature_importances_,index=X.columns)\n",
    "importances.plot(kind='barh', figsize=(12,8))"
   ]
  },
  {
   "cell_type": "markdown",
   "metadata": {
    "papermill": {
     "duration": 0.267996,
     "end_time": "2021-04-02T05:47:32.086526",
     "exception": false,
     "start_time": "2021-04-02T05:47:31.818530",
     "status": "completed"
    },
    "tags": []
   },
   "source": [
    "We can find out that 'Credit_History','Balance Income' feature are most important. So, feature engineering helped us in predicting our target variable."
   ]
  },
  {
   "cell_type": "code",
   "execution_count": null,
   "metadata": {
    "papermill": {
     "duration": 0.235781,
     "end_time": "2021-04-02T05:47:32.559705",
     "exception": false,
     "start_time": "2021-04-02T05:47:32.323924",
     "status": "completed"
    },
    "tags": []
   },
   "outputs": [],
   "source": []
  }
 ],
 "metadata": {
  "kernelspec": {
   "display_name": "Python 3",
   "language": "python",
   "name": "python3"
  },
  "language_info": {
   "codemirror_mode": {
    "name": "ipython",
    "version": 3
   },
   "file_extension": ".py",
   "mimetype": "text/x-python",
   "name": "python",
   "nbconvert_exporter": "python",
   "pygments_lexer": "ipython3",
   "version": "3.7.9"
  },
  "papermill": {
   "default_parameters": {},
   "duration": 241.610059,
   "end_time": "2021-04-02T05:47:33.506071",
   "environment_variables": {},
   "exception": null,
   "input_path": "__notebook__.ipynb",
   "output_path": "__notebook__.ipynb",
   "parameters": {},
   "start_time": "2021-04-02T05:43:31.896012",
   "version": "2.2.2"
  }
 },
 "nbformat": 4,
 "nbformat_minor": 4
}
